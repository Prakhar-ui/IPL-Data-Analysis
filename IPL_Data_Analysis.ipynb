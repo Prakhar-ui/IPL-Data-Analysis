{
 "cells": [
  {
   "cell_type": "code",
   "execution_count": 0,
   "metadata": {
    "application/vnd.databricks.v1+cell": {
     "cellMetadata": {
      "byteLimit": 2048000,
      "rowLimit": 10000
     },
     "collapsed": true,
     "inputWidgets": {},
     "nuid": "2c1c2bfc-8799-4864-bfb1-0d226f45c733",
     "showTitle": false,
     "title": ""
    }
   },
   "outputs": [
    {
     "output_type": "display_data",
     "data": {
      "text/html": [
       "\n",
       "            <div>\n",
       "                <p><b>SparkSession - hive</b></p>\n",
       "                \n",
       "        <div>\n",
       "            <p><b>SparkContext</b></p>\n",
       "\n",
       "            <p><a href=\"/?o=3997074275245566#setting/sparkui/1007-043945-42gdasj3/driver-3893957745272781800\">Spark UI</a></p>\n",
       "\n",
       "            <dl>\n",
       "              <dt>Version</dt>\n",
       "                <dd><code>v3.3.2</code></dd>\n",
       "              <dt>Master</dt>\n",
       "                <dd><code>local[8]</code></dd>\n",
       "              <dt>AppName</dt>\n",
       "                <dd><code>Databricks Shell</code></dd>\n",
       "            </dl>\n",
       "        </div>\n",
       "        \n",
       "            </div>\n",
       "        "
      ]
     },
     "metadata": {
      "application/vnd.databricks.v1+output": {
       "addedWidgets": {},
       "arguments": {},
       "data": "\n            <div>\n                <p><b>SparkSession - hive</b></p>\n                \n        <div>\n            <p><b>SparkContext</b></p>\n\n            <p><a href=\"/?o=3997074275245566#setting/sparkui/1007-043945-42gdasj3/driver-3893957745272781800\">Spark UI</a></p>\n\n            <dl>\n              <dt>Version</dt>\n                <dd><code>v3.3.2</code></dd>\n              <dt>Master</dt>\n                <dd><code>local[8]</code></dd>\n              <dt>AppName</dt>\n                <dd><code>Databricks Shell</code></dd>\n            </dl>\n        </div>\n        \n            </div>\n        ",
       "datasetInfos": [],
       "metadata": {},
       "removedWidgets": [],
       "textData": null,
       "type": "htmlSandbox"
      }
     },
     "output_type": "display_data"
    }
   ],
   "source": [
    "spark"
   ]
  },
  {
   "cell_type": "code",
   "execution_count": 0,
   "metadata": {
    "application/vnd.databricks.v1+cell": {
     "cellMetadata": {
      "byteLimit": 2048000,
      "rowLimit": 10000
     },
     "inputWidgets": {},
     "nuid": "9747c593-4fa0-4b40-8c78-8b7878520b12",
     "showTitle": false,
     "title": ""
    }
   },
   "outputs": [],
   "source": [
    "from pyspark.sql.types import StructField, StructType, IntegerType, StringType, BooleanType, DateType, DecimalType\n",
    "from pyspark.sql.functions import col, to_date, length, row_number\n",
    "from pyspark.sql import Window\n"
   ]
  },
  {
   "cell_type": "code",
   "execution_count": 0,
   "metadata": {
    "application/vnd.databricks.v1+cell": {
     "cellMetadata": {
      "byteLimit": 2048000,
      "rowLimit": 10000
     },
     "collapsed": true,
     "inputWidgets": {},
     "nuid": "904ba1b5-3c64-4639-8da2-8f3d9a3bf8ec",
     "showTitle": false,
     "title": ""
    }
   },
   "outputs": [],
   "source": [
    "from pyspark.sql import SparkSession\n",
    "\n",
    "#create session\n",
    "spark = SparkSession.builder.appName(\"IPL Data Analysis\").getOrCreate()"
   ]
  },
  {
   "cell_type": "code",
   "execution_count": 0,
   "metadata": {
    "application/vnd.databricks.v1+cell": {
     "cellMetadata": {
      "byteLimit": 2048000,
      "rowLimit": 10000
     },
     "collapsed": true,
     "inputWidgets": {},
     "nuid": "6b9f2855-30ad-4913-94af-7e35a581e40d",
     "showTitle": false,
     "title": ""
    }
   },
   "outputs": [
    {
     "output_type": "display_data",
     "data": {
      "text/html": [
       "\n",
       "            <div>\n",
       "                <p><b>SparkSession - hive</b></p>\n",
       "                \n",
       "        <div>\n",
       "            <p><b>SparkContext</b></p>\n",
       "\n",
       "            <p><a href=\"/?o=3997074275245566#setting/sparkui/1007-043945-42gdasj3/driver-3893957745272781800\">Spark UI</a></p>\n",
       "\n",
       "            <dl>\n",
       "              <dt>Version</dt>\n",
       "                <dd><code>v3.3.2</code></dd>\n",
       "              <dt>Master</dt>\n",
       "                <dd><code>local[8]</code></dd>\n",
       "              <dt>AppName</dt>\n",
       "                <dd><code>Databricks Shell</code></dd>\n",
       "            </dl>\n",
       "        </div>\n",
       "        \n",
       "            </div>\n",
       "        "
      ]
     },
     "metadata": {
      "application/vnd.databricks.v1+output": {
       "addedWidgets": {},
       "arguments": {},
       "data": "\n            <div>\n                <p><b>SparkSession - hive</b></p>\n                \n        <div>\n            <p><b>SparkContext</b></p>\n\n            <p><a href=\"/?o=3997074275245566#setting/sparkui/1007-043945-42gdasj3/driver-3893957745272781800\">Spark UI</a></p>\n\n            <dl>\n              <dt>Version</dt>\n                <dd><code>v3.3.2</code></dd>\n              <dt>Master</dt>\n                <dd><code>local[8]</code></dd>\n              <dt>AppName</dt>\n                <dd><code>Databricks Shell</code></dd>\n            </dl>\n        </div>\n        \n            </div>\n        ",
       "datasetInfos": [],
       "metadata": {},
       "removedWidgets": [],
       "textData": null,
       "type": "htmlSandbox"
      }
     },
     "output_type": "display_data"
    }
   ],
   "source": [
    "spark"
   ]
  },
  {
   "cell_type": "code",
   "execution_count": 0,
   "metadata": {
    "application/vnd.databricks.v1+cell": {
     "cellMetadata": {
      "byteLimit": 2048000,
      "rowLimit": 10000
     },
     "inputWidgets": {},
     "nuid": "04346e6e-5860-4bac-b35a-6667953f52c0",
     "showTitle": false,
     "title": ""
    }
   },
   "outputs": [
    {
     "output_type": "stream",
     "name": "stdout",
     "output_type": "stream",
     "text": [
      "root\n |-- MatcH_id: string (nullable = true)\n |-- Over_id: string (nullable = true)\n |-- Ball_id: string (nullable = true)\n |-- Innings_No: string (nullable = true)\n |-- Team_Batting: string (nullable = true)\n |-- Team_Bowling: string (nullable = true)\n |-- Striker_Batting_Position: string (nullable = true)\n |-- Extra_Type: string (nullable = true)\n |-- Runs_Scored: string (nullable = true)\n |-- Extra_runs: string (nullable = true)\n |-- Wides: string (nullable = true)\n |-- Legbyes: string (nullable = true)\n |-- Byes: string (nullable = true)\n |-- Noballs: string (nullable = true)\n |-- Penalty: string (nullable = true)\n |-- Bowler_Extras: string (nullable = true)\n |-- Out_type: string (nullable = true)\n |-- Caught: string (nullable = true)\n |-- Bowled: string (nullable = true)\n |-- Run_out: string (nullable = true)\n |-- LBW: string (nullable = true)\n |-- Retired_hurt: string (nullable = true)\n |-- Stumped: string (nullable = true)\n |-- caught_and_bowled: string (nullable = true)\n |-- hit_wicket: string (nullable = true)\n |-- ObstructingFeild: string (nullable = true)\n |-- Bowler_Wicket: string (nullable = true)\n |-- Match_Date: string (nullable = true)\n |-- Season: string (nullable = true)\n |-- Striker: string (nullable = true)\n |-- Non_Striker: string (nullable = true)\n |-- Bowler: string (nullable = true)\n |-- Player_Out: string (nullable = true)\n |-- Fielders: string (nullable = true)\n |-- Striker_match_SK: string (nullable = true)\n |-- StrikerSK: string (nullable = true)\n |-- NonStriker_match_SK: string (nullable = true)\n |-- NONStriker_SK: string (nullable = true)\n |-- Fielder_match_SK: string (nullable = true)\n |-- Fielder_SK: string (nullable = true)\n |-- Bowler_match_SK: string (nullable = true)\n |-- BOWLER_SK: string (nullable = true)\n |-- PlayerOut_match_SK: string (nullable = true)\n |-- BattingTeam_SK: string (nullable = true)\n |-- BowlingTeam_SK: string (nullable = true)\n |-- Keeper_Catch: string (nullable = true)\n |-- Player_out_sk: string (nullable = true)\n |-- MatchDateSK: string (nullable = true)\n\n"
     ]
    }
   ],
   "source": [
    "ball_by_ball_df_raw = spark.read.format(\"csv\").option(\"header\", \"true\").load(\"s3://ipl-data-analysis-project/Ball_By_Ball.csv\")\n",
    "ball_by_ball_df_raw.printSchema()"
   ]
  },
  {
   "cell_type": "code",
   "execution_count": 0,
   "metadata": {
    "application/vnd.databricks.v1+cell": {
     "cellMetadata": {
      "byteLimit": 2048000,
      "rowLimit": 10000
     },
     "inputWidgets": {},
     "nuid": "d92a5526-856d-456f-95b2-336c4654efb9",
     "showTitle": false,
     "title": ""
    }
   },
   "outputs": [],
   "source": [
    "ball_by_ball_df = ball_by_ball_df_raw \\\n",
    "    .withColumn(\"match_id\", col(\"MatcH_id\").cast(IntegerType())) \\\n",
    "    .withColumn(\"over_id\", col(\"Over_id\").cast(IntegerType())) \\\n",
    "    .withColumn(\"ball_id\", col(\"Ball_id\").cast(IntegerType())) \\\n",
    "    .withColumn(\"innings_no\", col(\"Innings_No\").cast(IntegerType())) \\\n",
    "    .withColumn(\"team_batting\", col(\"Team_Batting\").cast(StringType())) \\\n",
    "    .withColumn(\"team_bowling\", col(\"Team_Bowling\").cast(StringType())) \\\n",
    "    .withColumn(\"striker_batting_position\", col(\"Striker_Batting_Position\").cast(IntegerType())) \\\n",
    "    .withColumn(\"extra_type\", col(\"Extra_Type\").cast(StringType())) \\\n",
    "    .withColumn(\"runs_scored\", col(\"Runs_Scored\").cast(IntegerType())) \\\n",
    "    .withColumn(\"extra_runs\", col(\"Extra_runs\").cast(IntegerType())) \\\n",
    "    .withColumn(\"wides\", col(\"Wides\").cast(IntegerType())) \\\n",
    "    .withColumn(\"legbyes\", col(\"Legbyes\").cast(IntegerType())) \\\n",
    "    .withColumn(\"byes\", col(\"Byes\").cast(IntegerType())) \\\n",
    "    .withColumn(\"noballs\", col(\"Noballs\").cast(IntegerType())) \\\n",
    "    .withColumn(\"penalty\", col(\"Penalty\").cast(IntegerType())) \\\n",
    "    .withColumn(\"bowler_extras\", col(\"Bowler_Extras\").cast(IntegerType())) \\\n",
    "    .withColumn(\"out_type\", col(\"Out_type\").cast(StringType())) \\\n",
    "    .withColumn(\"caught\", col(\"Caught\").cast(BooleanType())) \\\n",
    "    .withColumn(\"bowled\", col(\"Bowled\").cast(BooleanType())) \\\n",
    "    .withColumn(\"run_out\", col(\"Run_out\").cast(BooleanType())) \\\n",
    "    .withColumn(\"lbw\", col(\"LBW\").cast(BooleanType())) \\\n",
    "    .withColumn(\"retired_hurt\", col(\"Retired_hurt\").cast(BooleanType())) \\\n",
    "    .withColumn(\"stumped\", col(\"Stumped\").cast(BooleanType())) \\\n",
    "    .withColumn(\"caught_and_bowled\", col(\"caught_and_bowled\").cast(BooleanType())) \\\n",
    "    .withColumn(\"hit_wicket\", col(\"hit_wicket\").cast(BooleanType())) \\\n",
    "    .withColumn(\"obstructingfeild\", col(\"ObstructingFeild\").cast(BooleanType())) \\\n",
    "    .withColumn(\"bowler_wicket\", col(\"Bowler_Wicket\").cast(BooleanType())) \\\n",
    "    .withColumn(\"match_date\", to_date(col(\"match_date\"), \"M/d/yyyy\")) \\\n",
    "    .withColumn(\"season\", col(\"Season\").cast(IntegerType())) \\\n",
    "    .withColumn(\"striker\", col(\"Striker\").cast(IntegerType())) \\\n",
    "    .withColumn(\"non_striker\", col(\"Non_Striker\").cast(IntegerType())) \\\n",
    "    .withColumn(\"bowler\", col(\"Bowler\").cast(IntegerType())) \\\n",
    "    .withColumn(\"player_out\", col(\"Player_Out\").cast(IntegerType())) \\\n",
    "    .withColumn(\"fielders\", col(\"Fielders\").cast(IntegerType())) \\\n",
    "    .withColumn(\"striker_match_sk\", col(\"Striker_match_SK\").cast(IntegerType())) \\\n",
    "    .withColumn(\"strikersk\", col(\"StrikerSK\").cast(IntegerType())) \\\n",
    "    .withColumn(\"nonstriker_match_sk\", col(\"NonStriker_match_SK\").cast(IntegerType())) \\\n",
    "    .withColumn(\"nonstriker_sk\", col(\"NONStriker_SK\").cast(IntegerType())) \\\n",
    "    .withColumn(\"fielder_match_sk\", col(\"Fielder_match_SK\").cast(IntegerType())) \\\n",
    "    .withColumn(\"fielder_sk\", col(\"Fielder_SK\").cast(IntegerType())) \\\n",
    "    .withColumn(\"bowler_match_sk\", col(\"Bowler_match_SK\").cast(IntegerType())) \\\n",
    "    .withColumn(\"bowler_sk\", col(\"BOWLER_SK\").cast(IntegerType())) \\\n",
    "    .withColumn(\"playerout_match_sk\", col(\"PlayerOut_match_SK\").cast(IntegerType())) \\\n",
    "    .withColumn(\"battingteam_sk\", col(\"BattingTeam_SK\").cast(IntegerType())) \\\n",
    "    .withColumn(\"bowlingteam_sk\", col(\"BowlingTeam_SK\").cast(IntegerType())) \\\n",
    "    .withColumn(\"keeper_catch\", col(\"Keeper_Catch\").cast(BooleanType())) \\\n",
    "    .withColumn(\"player_out_sk\", col(\"Player_out_sk\").cast(IntegerType())) \\\n",
    "    .withColumn(\"matchdatesk\", to_date(col(\"MatchDateSK\"), \"yyyyMMdd\"))"
   ]
  },
  {
   "cell_type": "code",
   "execution_count": 0,
   "metadata": {
    "application/vnd.databricks.v1+cell": {
     "cellMetadata": {
      "byteLimit": 2048000,
      "rowLimit": 10000
     },
     "inputWidgets": {},
     "nuid": "b07f7c9e-50c1-44f6-bed5-e46b16bc6d96",
     "showTitle": false,
     "title": ""
    }
   },
   "outputs": [
    {
     "output_type": "stream",
     "name": "stdout",
     "output_type": "stream",
     "text": [
      "+--------+-------+-------+----------+------------+------------+------------------------+----------+-----------+----------+-----+-------+----+-------+-------+-------------+--------------+------+------+-------+-----+------------+-------+-----------------+----------+----------------+-------------+----------+------+-------+-----------+------+----------+--------+----------------+---------+-------------------+-------------+----------------+----------+---------------+---------+------------------+--------------+--------------+------------+-------------+-----------+\n|match_id|over_id|ball_id|innings_no|team_batting|team_bowling|striker_batting_position|extra_type|runs_scored|extra_runs|wides|legbyes|byes|noballs|penalty|bowler_extras|      out_type|caught|bowled|run_out|  lbw|retired_hurt|stumped|caught_and_bowled|hit_wicket|obstructingfeild|bowler_wicket|match_date|season|striker|non_striker|bowler|player_out|fielders|striker_match_sk|strikersk|nonstriker_match_sk|nonstriker_sk|fielder_match_sk|fielder_sk|bowler_match_sk|bowler_sk|playerout_match_sk|battingteam_sk|bowlingteam_sk|keeper_catch|player_out_sk|matchdatesk|\n+--------+-------+-------+----------+------------+------------+------------------------+----------+-----------+----------+-----+-------+----+-------+-------+-------------+--------------+------+------+-------+-----+------------+-------+-----------------+----------+----------------+-------------+----------+------+-------+-----------+------+----------+--------+----------------+---------+-------------------+-------------+----------------+----------+---------------+---------+------------------+--------------+--------------+------------+-------------+-----------+\n|  598028|     15|      6|         1|           5|           2|                       6| No Extras|          4|         0|    0|      0|   0|      0|      0|            0|Not Applicable| false| false|  false|false|       false|  false|            false|     false|           false|        false|2013-04-20|  2013|    277|        104|    83|      null|    null|           20336|      276|              20333|          103|              -1|        -1|          20343|       82|                -1|             4|             1|       false|            0| 2013-04-20|\n+--------+-------+-------+----------+------------+------------+------------------------+----------+-----------+----------+-----+-------+----+-------+-------+-------------+--------------+------+------+-------+-----+------------+-------+-----------------+----------+----------------+-------------+----------+------+-------+-----------+------+----------+--------+----------------+---------+-------------------+-------------+----------------+----------+---------------+---------+------------------+--------------+--------------+------------+-------------+-----------+\nonly showing top 1 row\n\n"
     ]
    }
   ],
   "source": [
    "ball_by_ball_df.show(1)"
   ]
  },
  {
   "cell_type": "code",
   "execution_count": 0,
   "metadata": {
    "application/vnd.databricks.v1+cell": {
     "cellMetadata": {
      "byteLimit": 2048000,
      "rowLimit": 10000
     },
     "inputWidgets": {},
     "nuid": "95d71b8f-36b5-49c0-844f-0d5bc297f9ec",
     "showTitle": false,
     "title": ""
    }
   },
   "outputs": [
    {
     "output_type": "stream",
     "name": "stdout",
     "output_type": "stream",
     "text": [
      "root\n |-- Match_SK: string (nullable = true)\n |-- match_id: string (nullable = true)\n |-- Team1: string (nullable = true)\n |-- Team2: string (nullable = true)\n |-- match_date: string (nullable = true)\n |-- Season_Year: string (nullable = true)\n |-- Venue_Name: string (nullable = true)\n |-- City_Name: string (nullable = true)\n |-- Country_Name: string (nullable = true)\n |-- Toss_Winner: string (nullable = true)\n |-- match_winner: string (nullable = true)\n |-- Toss_Name: string (nullable = true)\n |-- Win_Type: string (nullable = true)\n |-- Outcome_Type: string (nullable = true)\n |-- ManOfMach: string (nullable = true)\n |-- Win_Margin: string (nullable = true)\n |-- Country_id: string (nullable = true)\n\n"
     ]
    }
   ],
   "source": [
    "match_df_raw = spark.read.format(\"csv\").option(\"header\",\"true\").load(\"s3://ipl-data-analysis-project/Match.csv\")\n",
    "match_df_raw.printSchema()"
   ]
  },
  {
   "cell_type": "code",
   "execution_count": 0,
   "metadata": {
    "application/vnd.databricks.v1+cell": {
     "cellMetadata": {
      "byteLimit": 2048000,
      "rowLimit": 10000
     },
     "inputWidgets": {},
     "nuid": "6d7778b4-7c90-4f5e-ad64-de86612e03e6",
     "showTitle": false,
     "title": ""
    }
   },
   "outputs": [],
   "source": [
    "match_df = match_df_raw \\\n",
    "    .withColumn(\"match_sk\", col(\"Match_SK\").cast(IntegerType())) \\\n",
    "    .withColumn(\"match_id\", col(\"match_id\").cast(IntegerType())) \\\n",
    "    .withColumn(\"match_date\", to_date(\"match_date\",\"M/d/yyyy\")) \\\n",
    "    .withColumn(\"season_year\", col(\"season_year\").cast(IntegerType())) \\\n",
    "    .withColumn(\"win_margin\", col(\"win_margin\").cast(IntegerType())) \\\n",
    "    .withColumn(\"country_id\", col(\"country_id\").cast(IntegerType()))\n"
   ]
  },
  {
   "cell_type": "code",
   "execution_count": 0,
   "metadata": {
    "application/vnd.databricks.v1+cell": {
     "cellMetadata": {
      "byteLimit": 2048000,
      "rowLimit": 10000
     },
     "inputWidgets": {},
     "nuid": "f306695a-3e44-43ac-a91b-5b9f00dbad5b",
     "showTitle": false,
     "title": ""
    }
   },
   "outputs": [
    {
     "output_type": "stream",
     "name": "stdout",
     "output_type": "stream",
     "text": [
      "+--------+--------+--------------------+--------------------+----------+-----------+--------------------+---------+------------+--------------------+--------------------+---------+--------+------------+-----------+----------+----------+\n|match_sk|match_id|               Team1|               Team2|match_date|season_year|          Venue_Name|City_Name|Country_Name|         Toss_Winner|        match_winner|Toss_Name|Win_Type|Outcome_Type|  ManOfMach|win_margin|country_id|\n+--------+--------+--------------------+--------------------+----------+-----------+--------------------+---------+------------+--------------------+--------------------+---------+--------+------------+-----------+----------+----------+\n|       0|  335987|Royal Challengers...|Kolkata Knight Ri...|2008-04-18|       2008|M Chinnaswamy Sta...|Bangalore|       India|Royal Challengers...|Kolkata Knight Ri...|    field|    runs|      Result|BB McCullum|       140|         1|\n+--------+--------+--------------------+--------------------+----------+-----------+--------------------+---------+------------+--------------------+--------------------+---------+--------+------------+-----------+----------+----------+\nonly showing top 1 row\n\n"
     ]
    }
   ],
   "source": [
    "match_df.show(1)"
   ]
  },
  {
   "cell_type": "code",
   "execution_count": 0,
   "metadata": {
    "application/vnd.databricks.v1+cell": {
     "cellMetadata": {
      "byteLimit": 2048000,
      "rowLimit": 10000
     },
     "inputWidgets": {},
     "nuid": "5031ee69-09af-4153-bcad-f3f5884bcc0b",
     "showTitle": false,
     "title": ""
    }
   },
   "outputs": [
    {
     "output_type": "stream",
     "name": "stdout",
     "output_type": "stream",
     "text": [
      "root\n |-- PLAYER_SK: string (nullable = true)\n |-- Player_Id: string (nullable = true)\n |-- Player_Name: string (nullable = true)\n |-- DOB: string (nullable = true)\n |-- Batting_hand: string (nullable = true)\n |-- Bowling_skill: string (nullable = true)\n |-- Country_Name: string (nullable = true)\n\n"
     ]
    }
   ],
   "source": [
    "player_df_raw = spark.read.format(\"csv\").option(\"header\",\"true\").option(\"dateFormat\",\"M/d/yyyy\").load(\"s3://ipl-data-analysis-project/Player.csv\")\n",
    "player_df_raw.printSchema()"
   ]
  },
  {
   "cell_type": "code",
   "execution_count": 0,
   "metadata": {
    "application/vnd.databricks.v1+cell": {
     "cellMetadata": {
      "byteLimit": 2048000,
      "rowLimit": 10000
     },
     "inputWidgets": {},
     "nuid": "ba819493-f4e1-4226-bfe0-fdb4ce9626e3",
     "showTitle": false,
     "title": ""
    }
   },
   "outputs": [],
   "source": [
    "player_df = player_df_raw \\\n",
    "    .withColumn(\"player_sk\", col(\"player_sk\").cast(IntegerType())) \\\n",
    "    .withColumn(\"player_id\", col(\"player_id\").cast(IntegerType())) \\\n",
    "    .withColumn(\"dob\", to_date(\"dob\", \"M/d/yyyy\"))"
   ]
  },
  {
   "cell_type": "code",
   "execution_count": 0,
   "metadata": {
    "application/vnd.databricks.v1+cell": {
     "cellMetadata": {
      "byteLimit": 2048000,
      "rowLimit": 10000
     },
     "inputWidgets": {},
     "nuid": "921940c4-5d40-41e6-a9bd-63cdf0653cab",
     "showTitle": false,
     "title": ""
    }
   },
   "outputs": [
    {
     "output_type": "stream",
     "name": "stdout",
     "output_type": "stream",
     "text": [
      "+---------+---------+-----------+----------+-------------+----------------+------------+\n|player_sk|player_id|Player_Name|       dob| Batting_hand|   Bowling_skill|Country_Name|\n+---------+---------+-----------+----------+-------------+----------------+------------+\n|        0|        1| SC Ganguly|1972-07-08|Left-hand bat|Right-arm medium|       India|\n+---------+---------+-----------+----------+-------------+----------------+------------+\nonly showing top 1 row\n\n"
     ]
    }
   ],
   "source": [
    "player_df.show(1)"
   ]
  },
  {
   "cell_type": "code",
   "execution_count": 0,
   "metadata": {
    "application/vnd.databricks.v1+cell": {
     "cellMetadata": {
      "byteLimit": 2048000,
      "rowLimit": 10000
     },
     "inputWidgets": {},
     "nuid": "89c778bc-348f-4e29-a7c9-62ebaba486b4",
     "showTitle": false,
     "title": ""
    }
   },
   "outputs": [
    {
     "output_type": "stream",
     "name": "stdout",
     "output_type": "stream",
     "text": [
      "root\n |-- Player_match_SK: string (nullable = true)\n |-- PlayerMatch_key: string (nullable = true)\n |-- Match_Id: string (nullable = true)\n |-- Player_Id: string (nullable = true)\n |-- Player_Name: string (nullable = true)\n |-- DOB: string (nullable = true)\n |-- Batting_hand: string (nullable = true)\n |-- Bowling_skill: string (nullable = true)\n |-- Country_Name: string (nullable = true)\n |-- Role_Desc: string (nullable = true)\n |-- Player_team: string (nullable = true)\n |-- Opposit_Team: string (nullable = true)\n |-- Season_year: string (nullable = true)\n |-- is_manofThematch: string (nullable = true)\n |-- Age_As_on_match: string (nullable = true)\n |-- IsPlayers_Team_won: string (nullable = true)\n |-- Batting_Status: string (nullable = true)\n |-- Bowling_Status: string (nullable = true)\n |-- Player_Captain: string (nullable = true)\n |-- Opposit_captain: string (nullable = true)\n |-- Player_keeper: string (nullable = true)\n |-- Opposit_keeper: string (nullable = true)\n\n"
     ]
    }
   ],
   "source": [
    "player_match_df_raw = spark.read.format(\"csv\").option(\"header\",\"true\").load(\"s3://ipl-data-analysis-project/Player_match.csv\")\n",
    "player_match_df_raw.printSchema()"
   ]
  },
  {
   "cell_type": "code",
   "execution_count": 0,
   "metadata": {
    "application/vnd.databricks.v1+cell": {
     "cellMetadata": {
      "byteLimit": 2048000,
      "rowLimit": 10000
     },
     "inputWidgets": {},
     "nuid": "dfd17db9-a09b-4963-b72c-e787d51a2696",
     "showTitle": false,
     "title": ""
    }
   },
   "outputs": [],
   "source": [
    "player_match_df = player_match_df_raw \\\n",
    "    .withColumn(\"player_match_sk\", col(\"player_match_sk\").cast(IntegerType())) \\\n",
    "    .withColumn(\"playermatch_key\", col(\"playermatch_key\").cast(DecimalType())) \\\n",
    "    .withColumn(\"match_id\", col(\"match_id\").cast(IntegerType())) \\\n",
    "    .withColumn(\"player_id\", col(\"player_id\").cast(IntegerType())) \\\n",
    "    .withColumn(\"dob\", to_date(\"dob\",\"M/d/yyyy\")) \\\n",
    "    .withColumn(\"season_year\", col(\"season_year\").cast(IntegerType())) \\\n",
    "    .withColumn(\"age_as_on_match\", col(\"age_as_on_match\").cast(IntegerType())) \\\n",
    "    .withColumn(\"is_manofthematch\", col(\"is_manofthematch\").cast(BooleanType())) \\\n",
    "    .withColumn(\"isplayers_team_won\", col(\"isplayers_team_won\").cast(BooleanType())) \n"
   ]
  },
  {
   "cell_type": "code",
   "execution_count": 0,
   "metadata": {
    "application/vnd.databricks.v1+cell": {
     "cellMetadata": {
      "byteLimit": 2048000,
      "rowLimit": 10000
     },
     "inputWidgets": {},
     "nuid": "2b619f24-c935-4ee9-8ab0-5bba0236190e",
     "showTitle": false,
     "title": ""
    }
   },
   "outputs": [
    {
     "output_type": "stream",
     "name": "stdout",
     "output_type": "stream",
     "text": [
      "+---------------+---------------+--------+---------+-----------+----------+--------------+--------------------+------------+---------+--------------------+--------------------+-----------+----------------+---------------+------------------+--------------+--------------+--------------+---------------+-------------+--------------+\n|player_match_sk|playermatch_key|match_id|player_id|Player_Name|       dob|  Batting_hand|       Bowling_skill|Country_Name|Role_Desc|         Player_team|        Opposit_Team|season_year|is_manofthematch|age_as_on_match|isplayers_team_won|Batting_Status|Bowling_Status|Player_Captain|Opposit_captain|Player_keeper|Opposit_keeper|\n+---------------+---------------+--------+---------+-----------+----------+--------------+--------------------+------------+---------+--------------------+--------------------+-----------+----------------+---------------+------------------+--------------+--------------+--------------+---------------+-------------+--------------+\n|             -1|             -1|      -1|       -1|        N/A|      null|          null|                null|        null|     null|                null|                null|       null|            null|           null|              null|          null|          null|          null|           null|         null|          null|\n|          12694|           null|  335987|        6|   R Dravid|1973-01-11|Right-hand bat|  Right-arm offbreak|       India|  Captain|Royal Challengers...|Kolkata Knight Ri...|       2008|           false|             35|             false|          null|          null|      R Dravid|     SC Ganguly|   MV Boucher|       WP Saha|\n|          12695|           null|  335987|        7|   W Jaffer|1978-02-16|Right-hand bat|  Right-arm offbreak|       India|   Player|Royal Challengers...|Kolkata Knight Ri...|       2008|           false|             30|             false|          null|          null|      R Dravid|     SC Ganguly|   MV Boucher|       WP Saha|\n|          12696|           null|  335987|        8|    V Kohli|1988-11-05|Right-hand bat|    Right-arm medium|       India|   Player|Royal Challengers...|Kolkata Knight Ri...|       2008|           false|             20|             false|          null|          null|      R Dravid|     SC Ganguly|   MV Boucher|       WP Saha|\n|          12697|           null|  335987|        9|  JH Kallis|1975-10-16|Right-hand bat|Right-arm fast-me...|South Africa|   Player|Royal Challengers...|Kolkata Knight Ri...|       2008|           false|             33|             false|          null|          null|      R Dravid|     SC Ganguly|   MV Boucher|       WP Saha|\n+---------------+---------------+--------+---------+-----------+----------+--------------+--------------------+------------+---------+--------------------+--------------------+-----------+----------------+---------------+------------------+--------------+--------------+--------------+---------------+-------------+--------------+\nonly showing top 5 rows\n\n"
     ]
    }
   ],
   "source": [
    "player_match_df.show(5)"
   ]
  },
  {
   "cell_type": "code",
   "execution_count": 0,
   "metadata": {
    "application/vnd.databricks.v1+cell": {
     "cellMetadata": {
      "byteLimit": 2048000,
      "rowLimit": 10000
     },
     "inputWidgets": {},
     "nuid": "b510b204-a97a-4f73-9496-36a2fe5ee945",
     "showTitle": false,
     "title": ""
    }
   },
   "outputs": [
    {
     "output_type": "stream",
     "name": "stdout",
     "output_type": "stream",
     "text": [
      "root\n |-- Team_SK: string (nullable = true)\n |-- Team_Id: string (nullable = true)\n |-- Team_Name: string (nullable = true)\n\n"
     ]
    }
   ],
   "source": [
    "team_df_raw = spark.read.format(\"csv\").option(\"header\",\"true\").load(\"s3://ipl-data-analysis-project/Team.csv\")\n",
    "team_df_raw.printSchema()"
   ]
  },
  {
   "cell_type": "code",
   "execution_count": 0,
   "metadata": {
    "application/vnd.databricks.v1+cell": {
     "cellMetadata": {
      "byteLimit": 2048000,
      "rowLimit": 10000
     },
     "inputWidgets": {},
     "nuid": "b3136ea9-fb9c-4d5a-bb88-84777262845c",
     "showTitle": false,
     "title": ""
    }
   },
   "outputs": [],
   "source": [
    "team_df = team_df_raw \\\n",
    "    .withColumn(\"team_sk\", col(\"team_sk\").cast(IntegerType())) \\\n",
    "    .withColumn(\"team_id\", col(\"team_id\").cast(IntegerType()))"
   ]
  },
  {
   "cell_type": "code",
   "execution_count": 0,
   "metadata": {
    "application/vnd.databricks.v1+cell": {
     "cellMetadata": {
      "byteLimit": 2048000,
      "rowLimit": 10000
     },
     "inputWidgets": {},
     "nuid": "fed1a864-947c-4c0c-b6b0-703ce6469c76",
     "showTitle": false,
     "title": ""
    }
   },
   "outputs": [
    {
     "output_type": "stream",
     "name": "stdout",
     "output_type": "stream",
     "text": [
      "+-------+-------+--------------------+\n|team_sk|team_id|           Team_Name|\n+-------+-------+--------------------+\n|      0|      1|Kolkata Knight Ri...|\n|      1|      2|Royal Challengers...|\n|      2|      3| Chennai Super Kings|\n|      3|      4|     Kings XI Punjab|\n|      4|      5|    Rajasthan Royals|\n+-------+-------+--------------------+\nonly showing top 5 rows\n\n"
     ]
    }
   ],
   "source": [
    "team_df.show(5)"
   ]
  },
  {
   "cell_type": "code",
   "execution_count": 0,
   "metadata": {
    "application/vnd.databricks.v1+cell": {
     "cellMetadata": {
      "byteLimit": 2048000,
      "rowLimit": 10000
     },
     "inputWidgets": {},
     "nuid": "40d733b5-cebf-4c7c-a2b4-0b9a7171b417",
     "showTitle": false,
     "title": ""
    }
   },
   "outputs": [
    {
     "output_type": "stream",
     "name": "stdout",
     "output_type": "stream",
     "text": [
      "+--------------------+------+-------------------+\n|           team_name|season|total_bowler_extras|\n+--------------------+------+-------------------+\n| Chennai Super Kings|  2008|                 91|\n|Kolkata Knight Ri...|  2008|                 91|\n|     Kings XI Punjab|  2008|                 90|\n|Royal Challengers...|  2008|                 89|\n|      Mumbai Indians|  2008|                 84|\n|     Deccan Chargers|  2008|                 82|\n|    Rajasthan Royals|  2008|                 82|\n|    Delhi Daredevils|  2008|                 69|\n|Kolkata Knight Ri...|  2009|                 94|\n|    Delhi Daredevils|  2009|                 92|\n|      Mumbai Indians|  2009|                 88|\n|    Rajasthan Royals|  2009|                 82|\n|Royal Challengers...|  2009|                 77|\n|     Deccan Chargers|  2009|                 73|\n|     Kings XI Punjab|  2009|                 61|\n| Chennai Super Kings|  2009|                 34|\n|     Kings XI Punjab|  2010|                107|\n|      Mumbai Indians|  2010|                101|\n|Royal Challengers...|  2010|                101|\n| Chennai Super Kings|  2010|                 99|\n+--------------------+------+-------------------+\nonly showing top 20 rows\n\n"
     ]
    }
   ],
   "source": [
    "# No of bowler extras by each team per season\n",
    "\n",
    "joined_df = ball_by_ball_df.join(team_df, ball_by_ball_df[\"team_bowling\"] == team_df[\"team_id\"], \"inner\")\n",
    "grouped_df = joined_df.groupBy(\"team_name\", \"season\").sum(\"bowler_extras\").withColumnRenamed(\"sum(bowler_extras)\", \"total_bowler_extras\")\n",
    "sorted_df = grouped_df.orderBy(grouped_df.season.asc(), grouped_df.total_bowler_extras.desc()).show()\n"
   ]
  },
  {
   "cell_type": "code",
   "execution_count": 0,
   "metadata": {
    "application/vnd.databricks.v1+cell": {
     "cellMetadata": {
      "byteLimit": 2048000,
      "rowLimit": 10000
     },
     "inputWidgets": {},
     "nuid": "d5c84000-e6d5-4084-b467-794513dc8439",
     "showTitle": false,
     "title": ""
    }
   },
   "outputs": [
    {
     "output_type": "stream",
     "name": "stdout",
     "output_type": "stream",
     "text": [
      "+--------------------+------+----------------+\n|           team_name|season|total_extra_runs|\n+--------------------+------+----------------+\n|      Mumbai Indians|  2008|             183|\n|    Rajasthan Royals|  2008|             177|\n| Chennai Super Kings|  2008|             155|\n|Kolkata Knight Ri...|  2008|             141|\n|     Kings XI Punjab|  2008|             124|\n|    Delhi Daredevils|  2008|             118|\n|Royal Challengers...|  2008|             118|\n|     Deccan Chargers|  2008|             112|\n|     Kings XI Punjab|  2009|             160|\n| Chennai Super Kings|  2009|             150|\n|      Mumbai Indians|  2009|             135|\n|     Deccan Chargers|  2009|             125|\n|Royal Challengers...|  2009|             114|\n|    Delhi Daredevils|  2009|             110|\n|    Rajasthan Royals|  2009|              93|\n|Kolkata Knight Ri...|  2009|              90|\n|      Mumbai Indians|  2010|             194|\n|Kolkata Knight Ri...|  2010|             166|\n| Chennai Super Kings|  2010|             162|\n|     Deccan Chargers|  2010|             130|\n+--------------------+------+----------------+\nonly showing top 20 rows\n\n"
     ]
    }
   ],
   "source": [
    "# No of extra runs by each team per season\n",
    "\n",
    "joined_df = ball_by_ball_df.join(team_df, ball_by_ball_df[\"team_batting\"] == team_df[\"team_id\"], \"inner\")\n",
    "grouped_df = joined_df.groupBy(\"team_name\", \"season\").sum(\"extra_runs\").withColumnRenamed(\"sum(extra_runs)\", \"total_extra_runs\")\n",
    "sorted_df = grouped_df.orderBy(grouped_df.season.asc(), grouped_df.total_extra_runs.desc()).show()"
   ]
  },
  {
   "cell_type": "code",
   "execution_count": 0,
   "metadata": {
    "application/vnd.databricks.v1+cell": {
     "cellMetadata": {
      "byteLimit": 2048000,
      "rowLimit": 10000
     },
     "inputWidgets": {},
     "nuid": "4108b55f-f1b7-4216-8dc3-2c25cddb9dab",
     "showTitle": false,
     "title": ""
    }
   },
   "outputs": [
    {
     "output_type": "stream",
     "name": "stdout",
     "output_type": "stream",
     "text": [
      "+--------------+------------+------+-------------------+----+\n|   player_name|country_name|season|total_bowler_extras|rank|\n+--------------+------------+------+-------------------+----+\n|   S Sreesanth|       India|  2008|                 34|   1|\n|     JA Morkel|South Africa|  2008|                 26|   2|\n|M Muralitharan|   Sri Lanka|  2008|                 26|   3|\n|      DW Steyn|South Africa|  2008|                 24|   4|\n|      I Sharma|       India|  2008|                 21|   5|\n|    SL Malinga|   Sri Lanka|  2009|                 31|   1|\n|      RP Singh|       India|  2009|                 24|   2|\n|     DP Nannes|   Australia|  2009|                 23|   3|\n|       A Nehra|       India|  2009|                 20|   4|\n|     JH Kallis|South Africa|  2009|                 19|   5|\n|      DW Steyn|South Africa|  2010|                 29|   1|\n|       SW Tait|   Australia|  2010|                 28|   2|\n|    SL Malinga|   Sri Lanka|  2010|                 24|   3|\n|       P Kumar|       India|  2010|                 22|   4|\n|M Muralitharan|   Sri Lanka|  2010|                 19|   5|\n|     RJ Harris|   Australia|  2011|                 23|   1|\n|        Z Khan|       India|  2011|                 23|   2|\n|    SL Malinga|   Sri Lanka|  2011|                 22|   3|\n|     IK Pathan|       India|  2011|                 21|   4|\n|    WD Parnell|South Africa|  2011|                 21|   5|\n+--------------+------------+------+-------------------+----+\nonly showing top 20 rows\n\n"
     ]
    }
   ],
   "source": [
    "# No of extras by top 5 bowlers each season\n",
    "\n",
    "grouped_df = ball_by_ball_df.groupBy(\"bowler\", \"season\").sum(\"bowler_extras\").withColumnRenamed(\"sum(bowler_extras)\", \"total_bowler_extras\")\n",
    "joined_df = grouped_df.join(player_df, grouped_df[\"bowler\"] == player_df[\"player_id\"], \"inner\")\n",
    "select_df = joined_df.select(\"player_name\", \"country_name\", \"season\", \"total_bowler_extras\")\n",
    "window_spec = Window.partitionBy(\"season\").orderBy(select_df.total_bowler_extras.desc())\n",
    "ranked_df = select_df.withColumn(\"rank\", row_number().over(window_spec))\n",
    "top_bowlers_df = ranked_df.filter(ranked_df.rank <= 5).show()\n",
    "\n"
   ]
  },
  {
   "cell_type": "code",
   "execution_count": 0,
   "metadata": {
    "application/vnd.databricks.v1+cell": {
     "cellMetadata": {
      "byteLimit": 2048000,
      "rowLimit": 10000
     },
     "inputWidgets": {},
     "nuid": "04644865-9634-4cac-9df4-0a5579026aae",
     "showTitle": false,
     "title": ""
    }
   },
   "outputs": [
    {
     "output_type": "stream",
     "name": "stdout",
     "output_type": "stream",
     "text": [
      "+-------------+------------+------+-----------+----+\n|  player_name|country_name|season|total_sixes|rank|\n+-------------+------------+------+-----------+----+\n|ST Jayasuriya|   Sri Lanka|  2008|         31|   1|\n|     SE Marsh|   Australia|  2008|         26|   2|\n|    YK Pathan|       India|  2008|         25|   3|\n|     V Sehwag|       India|  2008|         21|   4|\n| AC Gilchrist|   Australia|  2008|         19|   5|\n| AC Gilchrist|   Australia|  2009|         29|   1|\n|    ML Hayden|   Australia|  2009|         22|   2|\n|     SK Raina|       India|  2009|         21|   3|\n|    RG Sharma|       India|  2009|         18|   4|\n| Yuvraj Singh|       India|  2009|         16|   5|\n|   RV Uthappa|       India|  2010|         27|   1|\n|      M Vijay|       India|  2010|         26|   2|\n|    YK Pathan|       India|  2010|         24|   3|\n|     SK Raina|       India|  2010|         23|   4|\n|    SS Tiwary|       India|  2010|         18|   5|\n|     CH Gayle| West Indies|  2011|         44|   1|\n|     MS Dhoni|       India|  2011|         23|   2|\n|     SE Marsh|   Australia|  2011|         20|   3|\n|  PC Valthaty|       India|  2011|         20|   4|\n|      M Vijay|       India|  2011|         20|   5|\n+-------------+------------+------+-----------+----+\nonly showing top 20 rows\n\n"
     ]
    }
   ],
   "source": [
    "# No of sixes by top 5 batters each season\n",
    "\n",
    "filter_sixes_df = ball_by_ball_df.filter(col(\"runs_scored\") == 6)\n",
    "grouped_df = filter_sixes_df.groupBy(\"striker\", \"season\").count().withColumnRenamed(\"count\", \"total_sixes\")\n",
    "joined_df = grouped_df.join(player_df, grouped_df[\"striker\"] == player_df[\"player_id\"] , \"inner\")\n",
    "select_df = joined_df.select(\"player_name\", \"country_name\", \"season\", \"total_sixes\")\n",
    "window_spec = Window.partitionBy(\"season\").orderBy(select_df.total_sixes.desc())\n",
    "ranked_df = select_df.withColumn(\"rank\", row_number().over(window_spec))\n",
    "top_batters = ranked_df.filter(ranked_df.rank <= 5).show()\n"
   ]
  }
 ],
 "metadata": {
  "application/vnd.databricks.v1+notebook": {
   "dashboards": [],
   "environmentMetadata": null,
   "language": "python",
   "notebookMetadata": {
    "pythonIndentUnit": 4
   },
   "notebookName": "IPL_Data_Analysis",
   "widgets": {}
  }
 },
 "nbformat": 4,
 "nbformat_minor": 0
}
