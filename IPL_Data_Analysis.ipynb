{
 "cells": [
  {
   "cell_type": "code",
   "execution_count": 0,
   "metadata": {
    "application/vnd.databricks.v1+cell": {
     "cellMetadata": {
      "byteLimit": 2048000,
      "rowLimit": 10000
     },
     "collapsed": true,
     "inputWidgets": {},
     "nuid": "2c1c2bfc-8799-4864-bfb1-0d226f45c733",
     "showTitle": false,
     "title": ""
    }
   },
   "outputs": [
    {
     "output_type": "display_data",
     "data": {
      "text/html": [
       "\n",
       "            <div>\n",
       "                <p><b>SparkSession - hive</b></p>\n",
       "                \n",
       "        <div>\n",
       "            <p><b>SparkContext</b></p>\n",
       "\n",
       "            <p><a href=\"/?o=3997074275245566#setting/sparkui/1013-051828-fyaj87ih/driver-3138370249474773779\">Spark UI</a></p>\n",
       "\n",
       "            <dl>\n",
       "              <dt>Version</dt>\n",
       "                <dd><code>v3.3.2</code></dd>\n",
       "              <dt>Master</dt>\n",
       "                <dd><code>local[8]</code></dd>\n",
       "              <dt>AppName</dt>\n",
       "                <dd><code>Databricks Shell</code></dd>\n",
       "            </dl>\n",
       "        </div>\n",
       "        \n",
       "            </div>\n",
       "        "
      ]
     },
     "metadata": {
      "application/vnd.databricks.v1+output": {
       "addedWidgets": {},
       "arguments": {},
       "data": "\n            <div>\n                <p><b>SparkSession - hive</b></p>\n                \n        <div>\n            <p><b>SparkContext</b></p>\n\n            <p><a href=\"/?o=3997074275245566#setting/sparkui/1013-051828-fyaj87ih/driver-3138370249474773779\">Spark UI</a></p>\n\n            <dl>\n              <dt>Version</dt>\n                <dd><code>v3.3.2</code></dd>\n              <dt>Master</dt>\n                <dd><code>local[8]</code></dd>\n              <dt>AppName</dt>\n                <dd><code>Databricks Shell</code></dd>\n            </dl>\n        </div>\n        \n            </div>\n        ",
       "datasetInfos": [],
       "metadata": {},
       "removedWidgets": [],
       "textData": null,
       "type": "htmlSandbox"
      }
     },
     "output_type": "display_data"
    }
   ],
   "source": [
    "spark"
   ]
  },
  {
   "cell_type": "code",
   "execution_count": 0,
   "metadata": {
    "application/vnd.databricks.v1+cell": {
     "cellMetadata": {
      "byteLimit": 2048000,
      "rowLimit": 10000
     },
     "inputWidgets": {},
     "nuid": "9747c593-4fa0-4b40-8c78-8b7878520b12",
     "showTitle": false,
     "title": ""
    }
   },
   "outputs": [],
   "source": [
    "from pyspark.sql.types import StructField, StructType, IntegerType, StringType, BooleanType, DateType, DecimalType\n",
    "from pyspark.sql import Window, functions as F\n"
   ]
  },
  {
   "cell_type": "code",
   "execution_count": 0,
   "metadata": {
    "application/vnd.databricks.v1+cell": {
     "cellMetadata": {
      "byteLimit": 2048000,
      "rowLimit": 10000
     },
     "collapsed": true,
     "inputWidgets": {},
     "nuid": "904ba1b5-3c64-4639-8da2-8f3d9a3bf8ec",
     "showTitle": false,
     "title": ""
    }
   },
   "outputs": [],
   "source": [
    "from pyspark.sql import SparkSession\n",
    "\n",
    "#create session\n",
    "spark = SparkSession.builder.appName(\"IPL Data Analysis\").getOrCreate()"
   ]
  },
  {
   "cell_type": "code",
   "execution_count": 0,
   "metadata": {
    "application/vnd.databricks.v1+cell": {
     "cellMetadata": {
      "byteLimit": 2048000,
      "rowLimit": 10000
     },
     "collapsed": true,
     "inputWidgets": {},
     "nuid": "6b9f2855-30ad-4913-94af-7e35a581e40d",
     "showTitle": false,
     "title": ""
    }
   },
   "outputs": [
    {
     "output_type": "display_data",
     "data": {
      "text/html": [
       "\n",
       "            <div>\n",
       "                <p><b>SparkSession - hive</b></p>\n",
       "                \n",
       "        <div>\n",
       "            <p><b>SparkContext</b></p>\n",
       "\n",
       "            <p><a href=\"/?o=3997074275245566#setting/sparkui/1013-051828-fyaj87ih/driver-3138370249474773779\">Spark UI</a></p>\n",
       "\n",
       "            <dl>\n",
       "              <dt>Version</dt>\n",
       "                <dd><code>v3.3.2</code></dd>\n",
       "              <dt>Master</dt>\n",
       "                <dd><code>local[8]</code></dd>\n",
       "              <dt>AppName</dt>\n",
       "                <dd><code>Databricks Shell</code></dd>\n",
       "            </dl>\n",
       "        </div>\n",
       "        \n",
       "            </div>\n",
       "        "
      ]
     },
     "metadata": {
      "application/vnd.databricks.v1+output": {
       "addedWidgets": {},
       "arguments": {},
       "data": "\n            <div>\n                <p><b>SparkSession - hive</b></p>\n                \n        <div>\n            <p><b>SparkContext</b></p>\n\n            <p><a href=\"/?o=3997074275245566#setting/sparkui/1013-051828-fyaj87ih/driver-3138370249474773779\">Spark UI</a></p>\n\n            <dl>\n              <dt>Version</dt>\n                <dd><code>v3.3.2</code></dd>\n              <dt>Master</dt>\n                <dd><code>local[8]</code></dd>\n              <dt>AppName</dt>\n                <dd><code>Databricks Shell</code></dd>\n            </dl>\n        </div>\n        \n            </div>\n        ",
       "datasetInfos": [],
       "metadata": {},
       "removedWidgets": [],
       "textData": null,
       "type": "htmlSandbox"
      }
     },
     "output_type": "display_data"
    }
   ],
   "source": [
    "spark"
   ]
  },
  {
   "cell_type": "code",
   "execution_count": 0,
   "metadata": {
    "application/vnd.databricks.v1+cell": {
     "cellMetadata": {
      "byteLimit": 2048000,
      "rowLimit": 10000
     },
     "inputWidgets": {},
     "nuid": "04346e6e-5860-4bac-b35a-6667953f52c0",
     "showTitle": false,
     "title": ""
    }
   },
   "outputs": [
    {
     "output_type": "stream",
     "name": "stdout",
     "output_type": "stream",
     "text": [
      "root\n |-- MatcH_id: string (nullable = true)\n |-- Over_id: string (nullable = true)\n |-- Ball_id: string (nullable = true)\n |-- Innings_No: string (nullable = true)\n |-- Team_Batting: string (nullable = true)\n |-- Team_Bowling: string (nullable = true)\n |-- Striker_Batting_Position: string (nullable = true)\n |-- Extra_Type: string (nullable = true)\n |-- Runs_Scored: string (nullable = true)\n |-- Extra_runs: string (nullable = true)\n |-- Wides: string (nullable = true)\n |-- Legbyes: string (nullable = true)\n |-- Byes: string (nullable = true)\n |-- Noballs: string (nullable = true)\n |-- Penalty: string (nullable = true)\n |-- Bowler_Extras: string (nullable = true)\n |-- Out_type: string (nullable = true)\n |-- Caught: string (nullable = true)\n |-- Bowled: string (nullable = true)\n |-- Run_out: string (nullable = true)\n |-- LBW: string (nullable = true)\n |-- Retired_hurt: string (nullable = true)\n |-- Stumped: string (nullable = true)\n |-- caught_and_bowled: string (nullable = true)\n |-- hit_wicket: string (nullable = true)\n |-- ObstructingFeild: string (nullable = true)\n |-- Bowler_Wicket: string (nullable = true)\n |-- Match_Date: string (nullable = true)\n |-- Season: string (nullable = true)\n |-- Striker: string (nullable = true)\n |-- Non_Striker: string (nullable = true)\n |-- Bowler: string (nullable = true)\n |-- Player_Out: string (nullable = true)\n |-- Fielders: string (nullable = true)\n |-- Striker_match_SK: string (nullable = true)\n |-- StrikerSK: string (nullable = true)\n |-- NonStriker_match_SK: string (nullable = true)\n |-- NONStriker_SK: string (nullable = true)\n |-- Fielder_match_SK: string (nullable = true)\n |-- Fielder_SK: string (nullable = true)\n |-- Bowler_match_SK: string (nullable = true)\n |-- BOWLER_SK: string (nullable = true)\n |-- PlayerOut_match_SK: string (nullable = true)\n |-- BattingTeam_SK: string (nullable = true)\n |-- BowlingTeam_SK: string (nullable = true)\n |-- Keeper_Catch: string (nullable = true)\n |-- Player_out_sk: string (nullable = true)\n |-- MatchDateSK: string (nullable = true)\n\n"
     ]
    }
   ],
   "source": [
    "ball_by_ball_df_raw = spark.read.format(\"csv\").option(\"header\", \"true\").load(\"s3://ipl-data-analysis-project/Ball_By_Ball.csv\")\n",
    "ball_by_ball_df_raw.printSchema()"
   ]
  },
  {
   "cell_type": "code",
   "execution_count": 0,
   "metadata": {
    "application/vnd.databricks.v1+cell": {
     "cellMetadata": {
      "byteLimit": 2048000,
      "rowLimit": 10000
     },
     "inputWidgets": {},
     "nuid": "d92a5526-856d-456f-95b2-336c4654efb9",
     "showTitle": false,
     "title": ""
    }
   },
   "outputs": [],
   "source": [
    "ball_by_ball_df = ball_by_ball_df_raw \\\n",
    "    .withColumn(\"match_id\", F.col(\"MatcH_id\").cast(IntegerType())) \\\n",
    "    .withColumn(\"over_id\", F.col(\"Over_id\").cast(IntegerType())) \\\n",
    "    .withColumn(\"ball_id\", F.col(\"Ball_id\").cast(IntegerType())) \\\n",
    "    .withColumn(\"innings_no\", F.col(\"Innings_No\").cast(IntegerType())) \\\n",
    "    .withColumn(\"team_batting\", F.col(\"Team_Batting\").cast(StringType())) \\\n",
    "    .withColumn(\"team_bowling\", F.col(\"Team_Bowling\").cast(StringType())) \\\n",
    "    .withColumn(\"striker_batting_position\", F.col(\"Striker_Batting_Position\").cast(IntegerType())) \\\n",
    "    .withColumn(\"extra_type\", F.col(\"Extra_Type\").cast(StringType())) \\\n",
    "    .withColumn(\"runs_scored\", F.col(\"Runs_Scored\").cast(IntegerType())) \\\n",
    "    .withColumn(\"extra_runs\", F.col(\"Extra_runs\").cast(IntegerType())) \\\n",
    "    .withColumn(\"wides\", F.col(\"Wides\").cast(IntegerType())) \\\n",
    "    .withColumn(\"legbyes\", F.col(\"Legbyes\").cast(IntegerType())) \\\n",
    "    .withColumn(\"byes\", F.col(\"Byes\").cast(IntegerType())) \\\n",
    "    .withColumn(\"noballs\", F.col(\"Noballs\").cast(IntegerType())) \\\n",
    "    .withColumn(\"penalty\", F.col(\"Penalty\").cast(IntegerType())) \\\n",
    "    .withColumn(\"bowler_extras\", F.col(\"Bowler_Extras\").cast(IntegerType())) \\\n",
    "    .withColumn(\"out_type\", F.col(\"Out_type\").cast(StringType())) \\\n",
    "    .withColumn(\"caught\", F.col(\"Caught\").cast(BooleanType())) \\\n",
    "    .withColumn(\"bowled\", F.col(\"Bowled\").cast(BooleanType())) \\\n",
    "    .withColumn(\"run_out\", F.col(\"Run_out\").cast(BooleanType())) \\\n",
    "    .withColumn(\"lbw\", F.col(\"LBW\").cast(BooleanType())) \\\n",
    "    .withColumn(\"retired_hurt\", F.col(\"Retired_hurt\").cast(BooleanType())) \\\n",
    "    .withColumn(\"stumped\", F.col(\"Stumped\").cast(BooleanType())) \\\n",
    "    .withColumn(\"caught_and_bowled\", F.col(\"caught_and_bowled\").cast(BooleanType())) \\\n",
    "    .withColumn(\"hit_wicket\", F.col(\"hit_wicket\").cast(BooleanType())) \\\n",
    "    .withColumn(\"obstructingfeild\", F.col(\"ObstructingFeild\").cast(BooleanType())) \\\n",
    "    .withColumn(\"bowler_wicket\", F.col(\"Bowler_Wicket\").cast(BooleanType())) \\\n",
    "    .withColumn(\"match_date\", F.to_date(F.col(\"match_date\"), \"M/d/yyyy\")) \\\n",
    "    .withColumn(\"season\", F.col(\"Season\").cast(IntegerType())) \\\n",
    "    .withColumn(\"striker\", F.col(\"Striker\").cast(IntegerType())) \\\n",
    "    .withColumn(\"non_striker\", F.col(\"Non_Striker\").cast(IntegerType())) \\\n",
    "    .withColumn(\"bowler\", F.col(\"Bowler\").cast(IntegerType())) \\\n",
    "    .withColumn(\"player_out\", F.col(\"Player_Out\").cast(IntegerType())) \\\n",
    "    .withColumn(\"fielders\", F.col(\"Fielders\").cast(IntegerType())) \\\n",
    "    .withColumn(\"striker_match_sk\", F.col(\"Striker_match_SK\").cast(IntegerType())) \\\n",
    "    .withColumn(\"strikersk\", F.col(\"StrikerSK\").cast(IntegerType())) \\\n",
    "    .withColumn(\"nonstriker_match_sk\", F.col(\"NonStriker_match_SK\").cast(IntegerType())) \\\n",
    "    .withColumn(\"nonstriker_sk\", F.col(\"NONStriker_SK\").cast(IntegerType())) \\\n",
    "    .withColumn(\"fielder_match_sk\", F.col(\"Fielder_match_SK\").cast(IntegerType())) \\\n",
    "    .withColumn(\"fielder_sk\", F.col(\"Fielder_SK\").cast(IntegerType())) \\\n",
    "    .withColumn(\"bowler_match_sk\", F.col(\"Bowler_match_SK\").cast(IntegerType())) \\\n",
    "    .withColumn(\"bowler_sk\", F.col(\"BOWLER_SK\").cast(IntegerType())) \\\n",
    "    .withColumn(\"playerout_match_sk\", F.col(\"PlayerOut_match_SK\").cast(IntegerType())) \\\n",
    "    .withColumn(\"battingteam_sk\", F.col(\"BattingTeam_SK\").cast(IntegerType())) \\\n",
    "    .withColumn(\"bowlingteam_sk\", F.col(\"BowlingTeam_SK\").cast(IntegerType())) \\\n",
    "    .withColumn(\"keeper_catch\", F.col(\"Keeper_Catch\").cast(BooleanType())) \\\n",
    "    .withColumn(\"player_out_sk\", F.col(\"Player_out_sk\").cast(IntegerType())) \\\n",
    "    .withColumn(\"matchdatesk\", F.to_date(F.col(\"MatchDateSK\"), \"yyyyMMdd\"))"
   ]
  },
  {
   "cell_type": "code",
   "execution_count": 0,
   "metadata": {
    "application/vnd.databricks.v1+cell": {
     "cellMetadata": {
      "byteLimit": 2048000,
      "rowLimit": 10000
     },
     "inputWidgets": {},
     "nuid": "b07f7c9e-50c1-44f6-bed5-e46b16bc6d96",
     "showTitle": false,
     "title": ""
    }
   },
   "outputs": [
    {
     "output_type": "stream",
     "name": "stdout",
     "output_type": "stream",
     "text": [
      "+--------+-------+-------+----------+------------+------------+------------------------+----------+-----------+----------+-----+-------+----+-------+-------+-------------+--------------+------+------+-------+-----+------------+-------+-----------------+----------+----------------+-------------+----------+------+-------+-----------+------+----------+--------+----------------+---------+-------------------+-------------+----------------+----------+---------------+---------+------------------+--------------+--------------+------------+-------------+-----------+\n|match_id|over_id|ball_id|innings_no|team_batting|team_bowling|striker_batting_position|extra_type|runs_scored|extra_runs|wides|legbyes|byes|noballs|penalty|bowler_extras|      out_type|caught|bowled|run_out|  lbw|retired_hurt|stumped|caught_and_bowled|hit_wicket|obstructingfeild|bowler_wicket|match_date|season|striker|non_striker|bowler|player_out|fielders|striker_match_sk|strikersk|nonstriker_match_sk|nonstriker_sk|fielder_match_sk|fielder_sk|bowler_match_sk|bowler_sk|playerout_match_sk|battingteam_sk|bowlingteam_sk|keeper_catch|player_out_sk|matchdatesk|\n+--------+-------+-------+----------+------------+------------+------------------------+----------+-----------+----------+-----+-------+----+-------+-------+-------------+--------------+------+------+-------+-----+------------+-------+-----------------+----------+----------------+-------------+----------+------+-------+-----------+------+----------+--------+----------------+---------+-------------------+-------------+----------------+----------+---------------+---------+------------------+--------------+--------------+------------+-------------+-----------+\n|  598028|     15|      6|         1|           5|           2|                       6| No Extras|          4|         0|    0|      0|   0|      0|      0|            0|Not Applicable| false| false|  false|false|       false|  false|            false|     false|           false|        false|2013-04-20|  2013|    277|        104|    83|      null|    null|           20336|      276|              20333|          103|              -1|        -1|          20343|       82|                -1|             4|             1|       false|            0| 2013-04-20|\n+--------+-------+-------+----------+------------+------------+------------------------+----------+-----------+----------+-----+-------+----+-------+-------+-------------+--------------+------+------+-------+-----+------------+-------+-----------------+----------+----------------+-------------+----------+------+-------+-----------+------+----------+--------+----------------+---------+-------------------+-------------+----------------+----------+---------------+---------+------------------+--------------+--------------+------------+-------------+-----------+\nonly showing top 1 row\n\n"
     ]
    }
   ],
   "source": [
    "ball_by_ball_df.show(1)"
   ]
  },
  {
   "cell_type": "code",
   "execution_count": 0,
   "metadata": {
    "application/vnd.databricks.v1+cell": {
     "cellMetadata": {
      "byteLimit": 2048000,
      "rowLimit": 10000
     },
     "inputWidgets": {},
     "nuid": "95d71b8f-36b5-49c0-844f-0d5bc297f9ec",
     "showTitle": false,
     "title": ""
    }
   },
   "outputs": [
    {
     "output_type": "stream",
     "name": "stdout",
     "output_type": "stream",
     "text": [
      "root\n |-- Match_SK: string (nullable = true)\n |-- match_id: string (nullable = true)\n |-- Team1: string (nullable = true)\n |-- Team2: string (nullable = true)\n |-- match_date: string (nullable = true)\n |-- Season_Year: string (nullable = true)\n |-- Venue_Name: string (nullable = true)\n |-- City_Name: string (nullable = true)\n |-- Country_Name: string (nullable = true)\n |-- Toss_Winner: string (nullable = true)\n |-- match_winner: string (nullable = true)\n |-- Toss_Name: string (nullable = true)\n |-- Win_Type: string (nullable = true)\n |-- Outcome_Type: string (nullable = true)\n |-- ManOfMach: string (nullable = true)\n |-- Win_Margin: string (nullable = true)\n |-- Country_id: string (nullable = true)\n\n"
     ]
    }
   ],
   "source": [
    "match_df_raw = spark.read.format(\"csv\").option(\"header\",\"true\").load(\"s3://ipl-data-analysis-project/Match.csv\")\n",
    "match_df_raw.printSchema()"
   ]
  },
  {
   "cell_type": "code",
   "execution_count": 0,
   "metadata": {
    "application/vnd.databricks.v1+cell": {
     "cellMetadata": {
      "byteLimit": 2048000,
      "rowLimit": 10000
     },
     "inputWidgets": {},
     "nuid": "6d7778b4-7c90-4f5e-ad64-de86612e03e6",
     "showTitle": false,
     "title": ""
    }
   },
   "outputs": [],
   "source": [
    "match_df = match_df_raw \\\n",
    "    .withColumn(\"match_sk\", F.col(\"Match_SK\").cast(IntegerType())) \\\n",
    "    .withColumn(\"match_id\", F.col(\"match_id\").cast(IntegerType())) \\\n",
    "    .withColumn(\"match_date\", F.to_date(\"match_date\",\"M/d/yyyy\")) \\\n",
    "    .withColumn(\"season_year\", F.col(\"season_year\").cast(IntegerType())) \\\n",
    "    .withColumn(\"win_margin\", F.col(\"win_margin\").cast(IntegerType())) \\\n",
    "    .withColumn(\"country_id\", F.col(\"country_id\").cast(IntegerType()))"
   ]
  },
  {
   "cell_type": "code",
   "execution_count": 0,
   "metadata": {
    "application/vnd.databricks.v1+cell": {
     "cellMetadata": {
      "byteLimit": 2048000,
      "rowLimit": 10000
     },
     "inputWidgets": {},
     "nuid": "f306695a-3e44-43ac-a91b-5b9f00dbad5b",
     "showTitle": false,
     "title": ""
    }
   },
   "outputs": [
    {
     "output_type": "stream",
     "name": "stdout",
     "output_type": "stream",
     "text": [
      "+--------+--------+--------------------+--------------------+----------+-----------+--------------------+---------+------------+--------------------+--------------------+---------+--------+------------+-----------+----------+----------+\n|match_sk|match_id|               Team1|               Team2|match_date|season_year|          Venue_Name|City_Name|Country_Name|         Toss_Winner|        match_winner|Toss_Name|Win_Type|Outcome_Type|  ManOfMach|win_margin|country_id|\n+--------+--------+--------------------+--------------------+----------+-----------+--------------------+---------+------------+--------------------+--------------------+---------+--------+------------+-----------+----------+----------+\n|       0|  335987|Royal Challengers...|Kolkata Knight Ri...|2008-04-18|       2008|M Chinnaswamy Sta...|Bangalore|       India|Royal Challengers...|Kolkata Knight Ri...|    field|    runs|      Result|BB McCullum|       140|         1|\n+--------+--------+--------------------+--------------------+----------+-----------+--------------------+---------+------------+--------------------+--------------------+---------+--------+------------+-----------+----------+----------+\nonly showing top 1 row\n\n"
     ]
    }
   ],
   "source": [
    "match_df.show(1)"
   ]
  },
  {
   "cell_type": "code",
   "execution_count": 0,
   "metadata": {
    "application/vnd.databricks.v1+cell": {
     "cellMetadata": {
      "byteLimit": 2048000,
      "rowLimit": 10000
     },
     "inputWidgets": {},
     "nuid": "5031ee69-09af-4153-bcad-f3f5884bcc0b",
     "showTitle": false,
     "title": ""
    }
   },
   "outputs": [
    {
     "output_type": "stream",
     "name": "stdout",
     "output_type": "stream",
     "text": [
      "root\n |-- PLAYER_SK: string (nullable = true)\n |-- Player_Id: string (nullable = true)\n |-- Player_Name: string (nullable = true)\n |-- DOB: string (nullable = true)\n |-- Batting_hand: string (nullable = true)\n |-- Bowling_skill: string (nullable = true)\n |-- Country_Name: string (nullable = true)\n\n"
     ]
    }
   ],
   "source": [
    "player_df_raw = spark.read.format(\"csv\").option(\"header\",\"true\").option(\"dateFormat\",\"M/d/yyyy\").load(\"s3://ipl-data-analysis-project/Player.csv\")\n",
    "player_df_raw.printSchema()"
   ]
  },
  {
   "cell_type": "code",
   "execution_count": 0,
   "metadata": {
    "application/vnd.databricks.v1+cell": {
     "cellMetadata": {
      "byteLimit": 2048000,
      "rowLimit": 10000
     },
     "inputWidgets": {},
     "nuid": "ba819493-f4e1-4226-bfe0-fdb4ce9626e3",
     "showTitle": false,
     "title": ""
    }
   },
   "outputs": [],
   "source": [
    "player_df = player_df_raw \\\n",
    "    .withColumn(\"player_sk\", F.col(\"player_sk\").cast(IntegerType())) \\\n",
    "    .withColumn(\"player_id\", F.col(\"player_id\").cast(IntegerType())) \\\n",
    "    .withColumn(\"dob\", F.to_date(\"dob\", \"M/d/yyyy\"))"
   ]
  },
  {
   "cell_type": "code",
   "execution_count": 0,
   "metadata": {
    "application/vnd.databricks.v1+cell": {
     "cellMetadata": {
      "byteLimit": 2048000,
      "rowLimit": 10000
     },
     "inputWidgets": {},
     "nuid": "921940c4-5d40-41e6-a9bd-63cdf0653cab",
     "showTitle": false,
     "title": ""
    }
   },
   "outputs": [
    {
     "output_type": "stream",
     "name": "stdout",
     "output_type": "stream",
     "text": [
      "+---------+---------+-----------+----------+-------------+----------------+------------+\n|player_sk|player_id|Player_Name|       dob| Batting_hand|   Bowling_skill|Country_Name|\n+---------+---------+-----------+----------+-------------+----------------+------------+\n|        0|        1| SC Ganguly|1972-07-08|Left-hand bat|Right-arm medium|       India|\n+---------+---------+-----------+----------+-------------+----------------+------------+\nonly showing top 1 row\n\n"
     ]
    }
   ],
   "source": [
    "player_df.show(1)"
   ]
  },
  {
   "cell_type": "code",
   "execution_count": 0,
   "metadata": {
    "application/vnd.databricks.v1+cell": {
     "cellMetadata": {
      "byteLimit": 2048000,
      "rowLimit": 10000
     },
     "inputWidgets": {},
     "nuid": "89c778bc-348f-4e29-a7c9-62ebaba486b4",
     "showTitle": false,
     "title": ""
    }
   },
   "outputs": [
    {
     "output_type": "stream",
     "name": "stdout",
     "output_type": "stream",
     "text": [
      "root\n |-- Player_match_SK: string (nullable = true)\n |-- PlayerMatch_key: string (nullable = true)\n |-- Match_Id: string (nullable = true)\n |-- Player_Id: string (nullable = true)\n |-- Player_Name: string (nullable = true)\n |-- DOB: string (nullable = true)\n |-- Batting_hand: string (nullable = true)\n |-- Bowling_skill: string (nullable = true)\n |-- Country_Name: string (nullable = true)\n |-- Role_Desc: string (nullable = true)\n |-- Player_team: string (nullable = true)\n |-- Opposit_Team: string (nullable = true)\n |-- Season_year: string (nullable = true)\n |-- is_manofThematch: string (nullable = true)\n |-- Age_As_on_match: string (nullable = true)\n |-- IsPlayers_Team_won: string (nullable = true)\n |-- Batting_Status: string (nullable = true)\n |-- Bowling_Status: string (nullable = true)\n |-- Player_Captain: string (nullable = true)\n |-- Opposit_captain: string (nullable = true)\n |-- Player_keeper: string (nullable = true)\n |-- Opposit_keeper: string (nullable = true)\n\n"
     ]
    }
   ],
   "source": [
    "player_match_df_raw = spark.read.format(\"csv\").option(\"header\",\"true\").load(\"s3://ipl-data-analysis-project/Player_match.csv\")\n",
    "player_match_df_raw.printSchema()"
   ]
  },
  {
   "cell_type": "code",
   "execution_count": 0,
   "metadata": {
    "application/vnd.databricks.v1+cell": {
     "cellMetadata": {
      "byteLimit": 2048000,
      "rowLimit": 10000
     },
     "inputWidgets": {},
     "nuid": "dfd17db9-a09b-4963-b72c-e787d51a2696",
     "showTitle": false,
     "title": ""
    }
   },
   "outputs": [],
   "source": [
    "player_match_df = player_match_df_raw \\\n",
    "    .withColumn(\"player_match_sk\", F.col(\"player_match_sk\").cast(IntegerType())) \\\n",
    "    .withColumn(\"playermatch_key\", F.col(\"playermatch_key\").cast(DecimalType())) \\\n",
    "    .withColumn(\"match_id\", F.col(\"match_id\").cast(IntegerType())) \\\n",
    "    .withColumn(\"player_id\", F.col(\"player_id\").cast(IntegerType())) \\\n",
    "    .withColumn(\"dob\", F.to_date(\"dob\",\"M/d/yyyy\")) \\\n",
    "    .withColumn(\"season_year\", F.col(\"season_year\").cast(IntegerType())) \\\n",
    "    .withColumn(\"age_as_on_match\", F.col(\"age_as_on_match\").cast(IntegerType())) \\\n",
    "    .withColumn(\"is_manofthematch\", F.col(\"is_manofthematch\").cast(BooleanType())) \\\n",
    "    .withColumn(\"isplayers_team_won\", F.col(\"isplayers_team_won\").cast(BooleanType())) \n"
   ]
  },
  {
   "cell_type": "code",
   "execution_count": 0,
   "metadata": {
    "application/vnd.databricks.v1+cell": {
     "cellMetadata": {
      "byteLimit": 2048000,
      "rowLimit": 10000
     },
     "inputWidgets": {},
     "nuid": "2b619f24-c935-4ee9-8ab0-5bba0236190e",
     "showTitle": false,
     "title": ""
    }
   },
   "outputs": [
    {
     "output_type": "stream",
     "name": "stdout",
     "output_type": "stream",
     "text": [
      "+---------------+---------------+--------+---------+-----------+----------+--------------+--------------------+------------+---------+--------------------+--------------------+-----------+----------------+---------------+------------------+--------------+--------------+--------------+---------------+-------------+--------------+\n|player_match_sk|playermatch_key|match_id|player_id|Player_Name|       dob|  Batting_hand|       Bowling_skill|Country_Name|Role_Desc|         Player_team|        Opposit_Team|season_year|is_manofthematch|age_as_on_match|isplayers_team_won|Batting_Status|Bowling_Status|Player_Captain|Opposit_captain|Player_keeper|Opposit_keeper|\n+---------------+---------------+--------+---------+-----------+----------+--------------+--------------------+------------+---------+--------------------+--------------------+-----------+----------------+---------------+------------------+--------------+--------------+--------------+---------------+-------------+--------------+\n|             -1|             -1|      -1|       -1|        N/A|      null|          null|                null|        null|     null|                null|                null|       null|            null|           null|              null|          null|          null|          null|           null|         null|          null|\n|          12694|           null|  335987|        6|   R Dravid|1973-01-11|Right-hand bat|  Right-arm offbreak|       India|  Captain|Royal Challengers...|Kolkata Knight Ri...|       2008|           false|             35|             false|          null|          null|      R Dravid|     SC Ganguly|   MV Boucher|       WP Saha|\n|          12695|           null|  335987|        7|   W Jaffer|1978-02-16|Right-hand bat|  Right-arm offbreak|       India|   Player|Royal Challengers...|Kolkata Knight Ri...|       2008|           false|             30|             false|          null|          null|      R Dravid|     SC Ganguly|   MV Boucher|       WP Saha|\n|          12696|           null|  335987|        8|    V Kohli|1988-11-05|Right-hand bat|    Right-arm medium|       India|   Player|Royal Challengers...|Kolkata Knight Ri...|       2008|           false|             20|             false|          null|          null|      R Dravid|     SC Ganguly|   MV Boucher|       WP Saha|\n|          12697|           null|  335987|        9|  JH Kallis|1975-10-16|Right-hand bat|Right-arm fast-me...|South Africa|   Player|Royal Challengers...|Kolkata Knight Ri...|       2008|           false|             33|             false|          null|          null|      R Dravid|     SC Ganguly|   MV Boucher|       WP Saha|\n+---------------+---------------+--------+---------+-----------+----------+--------------+--------------------+------------+---------+--------------------+--------------------+-----------+----------------+---------------+------------------+--------------+--------------+--------------+---------------+-------------+--------------+\nonly showing top 5 rows\n\n"
     ]
    }
   ],
   "source": [
    "player_match_df.show(5)"
   ]
  },
  {
   "cell_type": "code",
   "execution_count": 0,
   "metadata": {
    "application/vnd.databricks.v1+cell": {
     "cellMetadata": {
      "byteLimit": 2048000,
      "rowLimit": 10000
     },
     "inputWidgets": {},
     "nuid": "b510b204-a97a-4f73-9496-36a2fe5ee945",
     "showTitle": false,
     "title": ""
    }
   },
   "outputs": [
    {
     "output_type": "stream",
     "name": "stdout",
     "output_type": "stream",
     "text": [
      "root\n |-- Team_SK: string (nullable = true)\n |-- Team_Id: string (nullable = true)\n |-- Team_Name: string (nullable = true)\n\n"
     ]
    }
   ],
   "source": [
    "team_df_raw = spark.read.format(\"csv\").option(\"header\",\"true\").load(\"s3://ipl-data-analysis-project/Team.csv\")\n",
    "team_df_raw.printSchema()"
   ]
  },
  {
   "cell_type": "code",
   "execution_count": 0,
   "metadata": {
    "application/vnd.databricks.v1+cell": {
     "cellMetadata": {
      "byteLimit": 2048000,
      "rowLimit": 10000
     },
     "inputWidgets": {},
     "nuid": "b3136ea9-fb9c-4d5a-bb88-84777262845c",
     "showTitle": false,
     "title": ""
    }
   },
   "outputs": [],
   "source": [
    "team_df = team_df_raw \\\n",
    "    .withColumn(\"team_sk\", F.col(\"team_sk\").cast(IntegerType())) \\\n",
    "    .withColumn(\"team_id\", F.col(\"team_id\").cast(IntegerType()))"
   ]
  },
  {
   "cell_type": "code",
   "execution_count": 0,
   "metadata": {
    "application/vnd.databricks.v1+cell": {
     "cellMetadata": {
      "byteLimit": 2048000,
      "rowLimit": 10000
     },
     "inputWidgets": {},
     "nuid": "fed1a864-947c-4c0c-b6b0-703ce6469c76",
     "showTitle": false,
     "title": ""
    }
   },
   "outputs": [
    {
     "output_type": "stream",
     "name": "stdout",
     "output_type": "stream",
     "text": [
      "+-------+-------+--------------------+\n|team_sk|team_id|           Team_Name|\n+-------+-------+--------------------+\n|      0|      1|Kolkata Knight Ri...|\n|      1|      2|Royal Challengers...|\n|      2|      3| Chennai Super Kings|\n|      3|      4|     Kings XI Punjab|\n|      4|      5|    Rajasthan Royals|\n+-------+-------+--------------------+\nonly showing top 5 rows\n\n"
     ]
    }
   ],
   "source": [
    "team_df.show(5)"
   ]
  },
  {
   "cell_type": "code",
   "execution_count": 0,
   "metadata": {
    "application/vnd.databricks.v1+cell": {
     "cellMetadata": {
      "byteLimit": 2048000,
      "rowLimit": 10000
     },
     "inputWidgets": {},
     "nuid": "40d733b5-cebf-4c7c-a2b4-0b9a7171b417",
     "showTitle": false,
     "title": ""
    }
   },
   "outputs": [
    {
     "output_type": "stream",
     "name": "stdout",
     "output_type": "stream",
     "text": [
      "+--------------------+------+-------------------+\n|           team_name|season|total_bowler_extras|\n+--------------------+------+-------------------+\n| Chennai Super Kings|  2008|                 91|\n|Kolkata Knight Ri...|  2008|                 91|\n|     Kings XI Punjab|  2008|                 90|\n|Royal Challengers...|  2008|                 89|\n|      Mumbai Indians|  2008|                 84|\n|     Deccan Chargers|  2008|                 82|\n|    Rajasthan Royals|  2008|                 82|\n|    Delhi Daredevils|  2008|                 69|\n|Kolkata Knight Ri...|  2009|                 94|\n|    Delhi Daredevils|  2009|                 92|\n|      Mumbai Indians|  2009|                 88|\n|    Rajasthan Royals|  2009|                 82|\n|Royal Challengers...|  2009|                 77|\n|     Deccan Chargers|  2009|                 73|\n|     Kings XI Punjab|  2009|                 61|\n| Chennai Super Kings|  2009|                 34|\n|     Kings XI Punjab|  2010|                107|\n|      Mumbai Indians|  2010|                101|\n|Royal Challengers...|  2010|                101|\n| Chennai Super Kings|  2010|                 99|\n+--------------------+------+-------------------+\nonly showing top 20 rows\n\n"
     ]
    }
   ],
   "source": [
    "# No of bowler extras by each team per season\n",
    "\n",
    "joined_df = ball_by_ball_df.join(team_df, ball_by_ball_df[\"team_bowling\"] == team_df[\"team_id\"], \"inner\")\n",
    "grouped_df = joined_df.groupBy(\"team_name\", \"season\").sum(\"bowler_extras\").withColumnRenamed(\"sum(bowler_extras)\", \"total_bowler_extras\")\n",
    "sorted_df = grouped_df.orderBy(grouped_df.season.asc(), grouped_df.total_bowler_extras.desc())\n",
    "bowler_extras_df = sorted_df.show()\n"
   ]
  },
  {
   "cell_type": "code",
   "execution_count": 0,
   "metadata": {
    "application/vnd.databricks.v1+cell": {
     "cellMetadata": {
      "byteLimit": 2048000,
      "rowLimit": 10000
     },
     "inputWidgets": {},
     "nuid": "d5c84000-e6d5-4084-b467-794513dc8439",
     "showTitle": false,
     "title": ""
    }
   },
   "outputs": [
    {
     "output_type": "stream",
     "name": "stdout",
     "output_type": "stream",
     "text": [
      "+--------------------+------+----------------+\n|           team_name|season|total_extra_runs|\n+--------------------+------+----------------+\n|      Mumbai Indians|  2008|             183|\n|    Rajasthan Royals|  2008|             177|\n| Chennai Super Kings|  2008|             155|\n|Kolkata Knight Ri...|  2008|             141|\n|     Kings XI Punjab|  2008|             124|\n|    Delhi Daredevils|  2008|             118|\n|Royal Challengers...|  2008|             118|\n|     Deccan Chargers|  2008|             112|\n|     Kings XI Punjab|  2009|             160|\n| Chennai Super Kings|  2009|             150|\n|      Mumbai Indians|  2009|             135|\n|     Deccan Chargers|  2009|             125|\n|Royal Challengers...|  2009|             114|\n|    Delhi Daredevils|  2009|             110|\n|    Rajasthan Royals|  2009|              93|\n|Kolkata Knight Ri...|  2009|              90|\n|      Mumbai Indians|  2010|             194|\n|Kolkata Knight Ri...|  2010|             166|\n| Chennai Super Kings|  2010|             162|\n|     Deccan Chargers|  2010|             130|\n+--------------------+------+----------------+\nonly showing top 20 rows\n\n"
     ]
    }
   ],
   "source": [
    "# No of extra runs by each team per season\n",
    "\n",
    "joined_df = ball_by_ball_df.join(team_df, ball_by_ball_df[\"team_batting\"] == team_df[\"team_id\"], \"inner\")\n",
    "grouped_df = joined_df.groupBy(\"team_name\", \"season\").sum(\"extra_runs\").withColumnRenamed(\"sum(extra_runs)\", \"total_extra_runs\")\n",
    "sorted_df = grouped_df.orderBy(grouped_df.season.asc(), grouped_df.total_extra_runs.desc())\n",
    "team_extras_df = sorted_df.show()\n"
   ]
  },
  {
   "cell_type": "code",
   "execution_count": 0,
   "metadata": {
    "application/vnd.databricks.v1+cell": {
     "cellMetadata": {
      "byteLimit": 2048000,
      "rowLimit": 10000
     },
     "inputWidgets": {},
     "nuid": "4108b55f-f1b7-4216-8dc3-2c25cddb9dab",
     "showTitle": false,
     "title": ""
    }
   },
   "outputs": [
    {
     "output_type": "stream",
     "name": "stdout",
     "output_type": "stream",
     "text": [
      "+--------------+------------+------+-------------------+----+\n|   player_name|country_name|season|total_bowler_extras|rank|\n+--------------+------------+------+-------------------+----+\n|   S Sreesanth|       India|  2008|                 34|   1|\n|     JA Morkel|South Africa|  2008|                 26|   2|\n|M Muralitharan|   Sri Lanka|  2008|                 26|   3|\n|      DW Steyn|South Africa|  2008|                 24|   4|\n|      I Sharma|       India|  2008|                 21|   5|\n|    SL Malinga|   Sri Lanka|  2009|                 31|   1|\n|      RP Singh|       India|  2009|                 24|   2|\n|     DP Nannes|   Australia|  2009|                 23|   3|\n|       A Nehra|       India|  2009|                 20|   4|\n|     JH Kallis|South Africa|  2009|                 19|   5|\n|      DW Steyn|South Africa|  2010|                 29|   1|\n|       SW Tait|   Australia|  2010|                 28|   2|\n|    SL Malinga|   Sri Lanka|  2010|                 24|   3|\n|       P Kumar|       India|  2010|                 22|   4|\n|M Muralitharan|   Sri Lanka|  2010|                 19|   5|\n|     RJ Harris|   Australia|  2011|                 23|   1|\n|        Z Khan|       India|  2011|                 23|   2|\n|    SL Malinga|   Sri Lanka|  2011|                 22|   3|\n|     IK Pathan|       India|  2011|                 21|   4|\n|    WD Parnell|South Africa|  2011|                 21|   5|\n+--------------+------------+------+-------------------+----+\nonly showing top 20 rows\n\n"
     ]
    }
   ],
   "source": [
    "# No of extras by top 5 bowlers each season\n",
    "\n",
    "grouped_df = ball_by_ball_df.groupBy(\"bowler\", \"season\").sum(\"bowler_extras\").withColumnRenamed(\"sum(bowler_extras)\", \"total_bowler_extras\")\n",
    "joined_df = grouped_df.join(player_df, grouped_df[\"bowler\"] == player_df[\"player_id\"], \"inner\")\n",
    "select_df = joined_df.select(\"player_name\", \"country_name\", \"season\", \"total_bowler_extras\")\n",
    "window_spec = Window.partitionBy(\"season\").orderBy(select_df.total_bowler_extras.desc())\n",
    "ranked_df = select_df.withColumn(\"rank\", F.row_number().over(window_spec))\n",
    "top_bowlers_df = ranked_df.filter(ranked_df.rank <= 5).show()"
   ]
  },
  {
   "cell_type": "code",
   "execution_count": 0,
   "metadata": {
    "application/vnd.databricks.v1+cell": {
     "cellMetadata": {
      "byteLimit": 2048000,
      "rowLimit": 10000
     },
     "inputWidgets": {},
     "nuid": "04644865-9634-4cac-9df4-0a5579026aae",
     "showTitle": false,
     "title": ""
    }
   },
   "outputs": [],
   "source": [
    "# No of sixes by top 5 batters each season\n",
    "\n",
    "filter_sixes_df = ball_by_ball_df.filter(F.col(\"runs_scored\") == 6)\n",
    "grouped_df = filter_sixes_df.groupBy(\"striker\", \"season\").count().withColumnRenamed(\"count\", \"total_sixes\")\n",
    "joined_df = grouped_df.join(player_df, grouped_df[\"striker\"] == player_df[\"player_id\"] , \"inner\")\n",
    "select_df = joined_df.select(\"player_name\", \"country_name\", \"season\", \"total_sixes\")\n",
    "window_spec = Window.partitionBy(\"season\").orderBy(select_df.total_sixes.desc())\n",
    "ranked_df = select_df.withColumn(\"rank\", F.row_number().over(window_spec))\n",
    "top_batters_df = ranked_df.filter(ranked_df.rank <= 5)\n"
   ]
  },
  {
   "cell_type": "code",
   "execution_count": 0,
   "metadata": {
    "application/vnd.databricks.v1+cell": {
     "cellMetadata": {
      "byteLimit": 2048000,
      "rowLimit": 10000
     },
     "inputWidgets": {},
     "nuid": "cf171826-f49a-4d95-a953-281e72843577",
     "showTitle": false,
     "title": ""
    }
   },
   "outputs": [
    {
     "output_type": "stream",
     "name": "stdout",
     "output_type": "stream",
     "text": [
      "+----------------+------------+------+--------------+\n|     player_name|country_name|season|cumulative_avg|\n+----------------+------------+------+--------------+\n|   LA Pomersbach|   Australia|  2008|         152.0|\n|       ML Hayden|   Australia|  2008|          94.5|\n|      MEK Hussey|   Australia|  2008|          84.0|\n|       A Symonds|   Australia|  2008|          80.5|\n|        SE Marsh|   Australia|  2008|         68.44|\n|       ML Hayden|   Australia|  2009|         63.42|\n|      MN van Wyk|South Africa|  2009|         55.67|\n|       A Symonds|   Australia|  2009|         51.25|\n|   LA Pomersbach|   Australia|  2009|         48.25|\n|       JP Duminy|South Africa|  2009|          46.5|\n|  PD Collingwood|     England|  2010|         67.67|\n|        SE Marsh|   Australia|  2010|         63.58|\n|         OA Shah|     England|  2010|          57.5|\n|       SR Watson|   Australia|  2010|         54.42|\n|      MEK Hussey|   Australia|  2010|         51.25|\n|        SE Marsh|   Australia|  2011|         57.59|\n|    JEC Franklin| New Zealand|  2011|          53.5|\n|RN ten Doeschate| Netherlands|  2011|          53.5|\n|       SR Watson|   Australia|  2011|         44.68|\n|      MEK Hussey|   Australia|  2011|         43.56|\n+----------------+------------+------+--------------+\nonly showing top 20 rows\n\n+---------------+------------+------+--------------+\n|    player_name|country_name|season|cumulative_avg|\n+---------------+------------+------+--------------+\n|       NK Patel|       India|  2008|          51.5|\n|Y Venugopal Rao|       India|  2008|          48.0|\n|       SK Raina|       India|  2008|         46.78|\n|      G Gambhir|       India|  2008|          44.5|\n|      YK Pathan|       India|  2008|          43.5|\n|      MK Pandey|       India|  2009|         42.75|\n|       MS Dhoni|       India|  2009|         41.44|\n|       SK Raina|       India|  2009|         37.17|\n|   SR Tendulkar|       India|  2009|          36.8|\n|      G Gambhir|       India|  2009|         34.17|\n|   SR Tendulkar|       India|  2010|         41.75|\n|       SK Raina|       India|  2010|         40.68|\n|      CA Pujara|       India|  2010|         40.67|\n|       MS Dhoni|       India|  2010|         39.73|\n|       M Manhas|       India|  2010|         38.67|\n|   SR Tendulkar|       India|  2011|          42.0|\n|       MS Dhoni|       India|  2011|         40.71|\n|       SK Raina|       India|  2011|         38.74|\n|    S Badrinath|       India|  2011|         37.37|\n|      MK Tiwary|       India|  2011|         37.32|\n+---------------+------------+------+--------------+\nonly showing top 20 rows\n\n"
     ]
    }
   ],
   "source": [
    "# Determine which players have the best batting averages over the years.\n",
    "\n",
    "# Step 1: Calculate Total Outs by Each Player in Each Season\n",
    "# Filter for deliveries that resulted in an out, group by player and season, and count the total outs.\n",
    "player_outs_per_season_df = ball_by_ball_df.select(\"striker\", \"season\") \\\n",
    "    .where(F.col(\"bowler_wicket\") == 'true') \\\n",
    "    .groupBy(\"striker\", \"season\") \\\n",
    "    .agg(F.count(\"striker\").alias(\"total_outs\"))\n",
    "\n",
    "# Step 2: Calculate Total Runs Scored by Each Player in Each Season\n",
    "# Group by player and season, and sum the runs scored.\n",
    "player_runs_per_season_df = ball_by_ball_df.select(\"striker\", \"season\", \"runs_scored\") \\\n",
    "    .groupBy(\"striker\", \"season\") \\\n",
    "    .agg(F.sum(\"runs_scored\").alias(\"total_runs\"))\n",
    "\n",
    "# Step 3: Join Runs and Outs Data for Each Player per Season\n",
    "# Join the runs and outs data to have both total runs and outs for each player-season.\n",
    "seasonal_runs_outs_df = player_runs_per_season_df \\\n",
    "    .join(player_outs_per_season_df, [\"striker\", \"season\"], \"inner\") \\\n",
    "    .select(\"striker\", \"season\", \"total_runs\", \"total_outs\")\n",
    "\n",
    "# Step 4: Define a Window Specification for Calculating Cumulative Sums per Player per Season\n",
    "# Partition by player to calculate cumulative statistics within each player group, ordered by season.\n",
    "player_season_window_spec = Window.partitionBy(\"striker\").orderBy(\"season\")\n",
    "\n",
    "# Step 5: Calculate Cumulative Runs, Outs, and Batting Average\n",
    "# Calculate cumulative totals and batting average for each player over the seasons.\n",
    "cumulative_runs_outs_df = seasonal_runs_outs_df \\\n",
    "    .withColumn(\"cumulative_runs\", F.sum(\"total_runs\").over(player_season_window_spec)) \\\n",
    "    .withColumn(\"cumulative_outs\", F.sum(\"total_outs\").over(player_season_window_spec)) \\\n",
    "    .withColumn(\"cumulative_avg\", F.round(F.col(\"cumulative_runs\") / F.col(\"cumulative_outs\"), 2))\n",
    "\n",
    "# Step 6: Join with Player Data to Include Detailed Player Information\n",
    "# Join the cumulative data with player information, including player name and country.\n",
    "player_cumulative_avg_df = cumulative_runs_outs_df \\\n",
    "    .join(player_df, player_df[\"player_id\"] == cumulative_runs_outs_df[\"striker\"], \"inner\") \\\n",
    "    .select(\"player_name\", \"country_name\", \"season\", \"cumulative_avg\")\n",
    "\n",
    "# Step 7: Define Window Specification to Rank Players by Cumulative Average within Each Season\n",
    "# Partition by season and rank players by their cumulative batting average in descending order.\n",
    "season_rank_window_spec = Window.partitionBy(\"season\").orderBy(F.desc(\"cumulative_avg\"))\n",
    "\n",
    "# Step 8: Select Top 5 Batsmen by Cumulative Average for Each Season\n",
    "# Calculate ranks and filter for the top 5 players based on cumulative average in each season.\n",
    "top_5_batsmen_df = player_cumulative_avg_df \\\n",
    "    .withColumn(\"rank\", F.row_number().over(season_rank_window_spec)) \\\n",
    "    .filter(F.col(\"rank\") <= 5) \\\n",
    "    .select(\"player_name\", \"country_name\", \"season\", \"cumulative_avg\") \\\n",
    "    .show()\n",
    "\n",
    "# Step 9: Select Top 5 Indian Batsmen by Cumulative Average for Each Season\n",
    "# Filter for Indian players, rank, and then select the top 5 in each season.\n",
    "top_5_indian_batsmen_df = player_cumulative_avg_df \\\n",
    "    .filter(F.col(\"country_name\") == 'India') \\\n",
    "    .withColumn(\"rank\", F.row_number().over(season_rank_window_spec)) \\\n",
    "    .filter(F.col(\"rank\") <= 5) \\\n",
    "    .select(\"player_name\", \"country_name\", \"season\", \"cumulative_avg\") \\\n",
    "    .show()\n"
   ]
  },
  {
   "cell_type": "code",
   "execution_count": 0,
   "metadata": {
    "application/vnd.databricks.v1+cell": {
     "cellMetadata": {
      "byteLimit": 2048000,
      "rowLimit": 10000
     },
     "inputWidgets": {},
     "nuid": "6da3d8aa-1a14-4db2-b7e1-64f57c0a7754",
     "showTitle": false,
     "title": ""
    }
   },
   "outputs": [
    {
     "output_type": "stream",
     "name": "stdout",
     "output_type": "stream",
     "text": [
      "+-----------+--------------------+-----------------+\n|season_year|        match_winner|chasing_win_count|\n+-----------+--------------------+-----------------+\n|       2008|    Rajasthan Royals|                9|\n|       2008|     Kings XI Punjab|                6|\n|       2008|    Delhi Daredevils|                5|\n|       2008| Chennai Super Kings|                5|\n|       2008|      Mumbai Indians|                5|\n|       2008|     Deccan Chargers|                2|\n|       2008|Kolkata Knight Ri...|                2|\n|       2008|Royal Challengers...|                2|\n|       2009|    Delhi Daredevils|                7|\n|       2009|Royal Challengers...|                6|\n|       2009|     Kings XI Punjab|                4|\n|       2009|     Deccan Chargers|                4|\n|       2009|Kolkata Knight Ri...|                3|\n|       2009|    Rajasthan Royals|                3|\n|       2009| Chennai Super Kings|                2|\n|       2009|      Mumbai Indians|                1|\n|       2010|Royal Challengers...|                7|\n|       2010| Chennai Super Kings|                4|\n|       2010|      Mumbai Indians|                3|\n|       2010|    Delhi Daredevils|                3|\n+-----------+--------------------+-----------------+\nonly showing top 20 rows\n\n+-----------+--------------------+-----------------+\n|season_year|        match_winner|batting_win_count|\n+-----------+--------------------+-----------------+\n|       2008|Kolkata Knight Ri...|                4|\n|       2008|     Kings XI Punjab|                4|\n|       2008|    Rajasthan Royals|                4|\n|       2008| Chennai Super Kings|                4|\n|       2008|    Delhi Daredevils|                2|\n|       2008|Royal Challengers...|                2|\n|       2008|      Mumbai Indians|                2|\n|       2009| Chennai Super Kings|                6|\n|       2009|     Deccan Chargers|                5|\n|       2009|      Mumbai Indians|                4|\n|       2009|     Kings XI Punjab|                3|\n|       2009|Royal Challengers...|                3|\n|       2009|    Delhi Daredevils|                3|\n|       2009|    Rajasthan Royals|                3|\n|       2010|      Mumbai Indians|                8|\n|       2010| Chennai Super Kings|                5|\n|       2010|     Deccan Chargers|                5|\n|       2010|    Delhi Daredevils|                4|\n|       2010|    Rajasthan Royals|                4|\n|       2010|Kolkata Knight Ri...|                4|\n+-----------+--------------------+-----------------+\nonly showing top 20 rows\n\n"
     ]
    }
   ],
   "source": [
    "# Analyze team performance when batting first versus chasing\n",
    "\n",
    "# Step 1: Select Relevant Columns for Analysis\n",
    "# Create a DataFrame with essential columns for determining match outcomes based on toss and innings choices.\n",
    "winning_teams_df = match_df \\\n",
    "    .select(\"match_id\", \"season_year\", \"toss_winner\", \"match_winner\", \"toss_name\")\n",
    "\n",
    "# Step 2: Filter and Aggregate Data for Teams Winning When Chasing\n",
    "# Filter for matches where the winning team chased. If the toss winner chose to bat but did not win, or if the toss winner\n",
    "# chose to field and won, then the team was chasing. Group by season and match winner to count wins while chasing.\n",
    "chasing_first_winning_teams_df = winning_teams_df \\\n",
    "    .filter(\n",
    "        ((F.col(\"toss_winner\") != F.col(\"match_winner\")) & (F.col(\"toss_name\") == 'bat')) |  # Toss winner batted, but lost\n",
    "        ((F.col(\"toss_winner\") == F.col(\"match_winner\")) & (F.col(\"toss_name\") == 'field'))  # Toss winner fielded and won\n",
    "    ) \\\n",
    "    .groupBy(\"season_year\", \"match_winner\") \\\n",
    "    .agg(F.count(\"*\").alias(\"chasing_win_count\")) \\\n",
    "    .orderBy(F.col(\"season_year\").asc(), F.col(\"chasing_win_count\").desc()) \\\n",
    "    .show()\n",
    "\n",
    "# Step 3: Filter and Aggregate Data for Teams Winning When Batting First\n",
    "# Filter for matches where the winning team batted first. If the toss winner chose to field but did not win, or if the toss \n",
    "# winner chose to bat and won, then the team batted first. Group by season and match winner to count wins while batting first.\n",
    "batting_first_winning_teams_df = winning_teams_df \\\n",
    "    .filter(\n",
    "        ((F.col(\"toss_winner\") != F.col(\"match_winner\")) & (F.col(\"toss_name\") == 'field')) |  # Toss winner fielded, but lost\n",
    "        ((F.col(\"toss_winner\") == F.col(\"match_winner\")) & (F.col(\"toss_name\") == 'bat'))      # Toss winner batted and won\n",
    "    ) \\\n",
    "    .groupBy(\"season_year\", \"match_winner\") \\\n",
    "    .agg(F.count(\"*\").alias(\"batting_win_count\")) \\\n",
    "    .orderBy(F.col(\"season_year\").asc(), F.col(\"batting_win_count\").desc()) \\\n",
    "    .show()"
   ]
  },
  {
   "cell_type": "code",
   "execution_count": 0,
   "metadata": {
    "application/vnd.databricks.v1+cell": {
     "cellMetadata": {
      "byteLimit": 2048000,
      "rowLimit": 10000
     },
     "inputWidgets": {},
     "nuid": "a8479d33-483a-4d6b-823b-f05839ae44c0",
     "showTitle": false,
     "title": ""
    }
   },
   "outputs": [
    {
     "output_type": "stream",
     "name": "stdout",
     "output_type": "stream",
     "text": [
      "+------+---------------+--------------------+------------+------------------------+\n|season|    player_name|           team_name|country_name|wicket_taken_season_wise|\n+------+---------------+--------------------+------------+------------------------+\n|  2008|  Sohail Tanvir|    Rajasthan Royals|    Pakistan|                      22|\n|  2008|    S Sreesanth|     Kings XI Punjab|       India|                      19|\n|  2008|       SK Warne|    Rajasthan Royals|   Australia|                      19|\n|  2008|      SR Watson|    Rajasthan Royals|   Australia|                      17|\n|  2008|      PP Chawla|     Kings XI Punjab|       India|                      17|\n|  2009|       RP Singh|     Deccan Chargers|       India|                      23|\n|  2009|       A Kumble|Royal Challengers...|       India|                      21|\n|  2009|        A Nehra|    Delhi Daredevils|       India|                      19|\n|  2009|        PP Ojha|     Deccan Chargers|       India|                      18|\n|  2009|      IK Pathan|     Kings XI Punjab|       India|                      17|\n|  2010|        PP Ojha|     Deccan Chargers|       India|                      21|\n|  2010|       A Mishra|    Delhi Daredevils|       India|                      17|\n|  2010|       A Kumble|Royal Challengers...|       India|                      17|\n|  2010|  R Vinay Kumar|Royal Challengers...|       India|                      16|\n|  2010|Harbhajan Singh|      Mumbai Indians|       India|                      16|\n|  2011|     SL Malinga|      Mumbai Indians|   Sri Lanka|                      28|\n|  2011|       MM Patel|      Mumbai Indians|       India|                      22|\n|  2011|      S Aravind|Royal Challengers...|       India|                      21|\n|  2011|       R Ashwin| Chennai Super Kings|       India|                      20|\n|  2011|       A Mishra|     Deccan Chargers|       India|                      19|\n+------+---------------+--------------------+------------+------------------------+\nonly showing top 20 rows\n\n+------+---------------+--------------------+------------+------------------------+\n|season|    player_name|           team_name|country_name|wicket_taken_season_wise|\n+------+---------------+--------------------+------------+------------------------+\n|  2008|    S Sreesanth|     Kings XI Punjab|       India|                      19|\n|  2008|      PP Chawla|     Kings XI Punjab|       India|                      17|\n|  2008|        MS Gony| Chennai Super Kings|       India|                      17|\n|  2008|      VY Mahesh|    Delhi Daredevils|       India|                      16|\n|  2008|      IK Pathan|     Kings XI Punjab|       India|                      15|\n|  2009|       RP Singh|     Deccan Chargers|       India|                      23|\n|  2009|       A Kumble|Royal Challengers...|       India|                      21|\n|  2009|        A Nehra|    Delhi Daredevils|       India|                      19|\n|  2009|        PP Ojha|     Deccan Chargers|       India|                      18|\n|  2009|      IK Pathan|     Kings XI Punjab|       India|                      17|\n|  2010|        PP Ojha|     Deccan Chargers|       India|                      21|\n|  2010|       A Mishra|    Delhi Daredevils|       India|                      17|\n|  2010|       A Kumble|Royal Challengers...|       India|                      17|\n|  2010|  R Vinay Kumar|Royal Challengers...|       India|                      16|\n|  2010|Harbhajan Singh|      Mumbai Indians|       India|                      16|\n|  2011|       MM Patel|      Mumbai Indians|       India|                      22|\n|  2011|      S Aravind|Royal Challengers...|       India|                      21|\n|  2011|       R Ashwin| Chennai Super Kings|       India|                      20|\n|  2011|       A Mishra|     Deccan Chargers|       India|                      19|\n|  2011|      PP Chawla|     Kings XI Punjab|       India|                      16|\n+------+---------------+--------------------+------------+------------------------+\nonly showing top 20 rows\n\n"
     ]
    }
   ],
   "source": [
    "# Analyze top bowlers based on the number of wickets taken each season\n",
    "\n",
    "# Step 1: Define Window Specification for Ranking Bowlers by Wickets within Each Season\n",
    "# Partition by season and order by the number of wickets taken in descending order.\n",
    "season_rank_window_spec = Window.partitionBy(\"season\").orderBy(F.desc(\"wicket_taken_season_wise\"))\n",
    "\n",
    "# Step 2: Calculate Total Wickets Taken by Each Bowler per Season\n",
    "# Filter for deliveries resulting in a wicket, group by season, team, and bowler, then count total wickets.\n",
    "bowler_wickets_df = ball_by_ball_df \\\n",
    "    .filter(F.col(\"bowler_wicket\") == 'true') \\\n",
    "    .groupBy(\"season\", \"team_bowling\", \"bowler\") \\\n",
    "    .agg(F.count(\"*\").alias(\"wicket_taken_season_wise\")) \\\n",
    "    .join(player_df, ball_by_ball_df[\"bowler\"] == player_df[\"player_id\"], \"inner\") \\\n",
    "    .join(team_df, ball_by_ball_df[\"team_bowling\"] == team_df[\"team_id\"], \"inner\")\n",
    "\n",
    "# Step 3: Identify Top 5 Bowlers by Wickets Taken Each Season\n",
    "# Calculate the rank based on wickets taken and filter for the top 5 bowlers for each season.\n",
    "top_5_all_bowler_wickets_df = bowler_wickets_df \\\n",
    "    .withColumn(\"rank\", F.row_number().over(season_rank_window_spec)) \\\n",
    "    .filter(F.col(\"rank\") <= 5) \\\n",
    "    .select(\"season\", \"player_name\", \"team_name\", \"country_name\", \"wicket_taken_season_wise\") \\\n",
    "    .show()\n",
    "\n",
    "# Step 4: Identify Top 5 Indian Bowlers by Wickets Taken Each Season\n",
    "# Filter for Indian bowlers, calculate the rank, and filter for the top 5 Indian bowlers by season.\n",
    "top_5_Indian_bowler_wickets_df = bowler_wickets_df \\\n",
    "    .filter(F.col(\"country_name\") == 'India') \\\n",
    "    .withColumn(\"rank\", F.row_number().over(season_rank_window_spec)) \\\n",
    "    .filter(F.col(\"rank\") <= 5) \\\n",
    "    .select(\"season\", \"player_name\", \"team_name\", \"country_name\", \"wicket_taken_season_wise\") \\\n",
    "    .show()"
   ]
  },
  {
   "cell_type": "code",
   "execution_count": 0,
   "metadata": {
    "application/vnd.databricks.v1+cell": {
     "cellMetadata": {
      "byteLimit": 2048000,
      "rowLimit": 10000
     },
     "inputWidgets": {},
     "nuid": "f7fdfcd6-f07b-4a7f-9fa7-09b3c948589b",
     "showTitle": false,
     "title": ""
    }
   },
   "outputs": [
    {
     "output_type": "stream",
     "name": "stdout",
     "output_type": "stream",
     "text": [
      "+--------------------+----------------+------------+--------------+\n|           team_name|     player_name|country_name|bowler_economy|\n+--------------------+----------------+------------+--------------+\n|Royal Challengers...|        ND Doshi|       India|          4.08|\n|Rising Pune Super...|        MR Marsh|   Australia|          4.91|\n| Sunrisers Hyderabad|     Anand Rajan|       India|          4.94|\n|      Mumbai Indians|        JDP Oram| New Zealand|          5.08|\n|Kolkata Knight Ri...|     JW Hastings|   Australia|          5.29|\n|      Mumbai Indians|     DJ Thornely|   Australia|          5.46|\n|      Mumbai Indians|       JP Duminy|South Africa|          5.57|\n|       Pune Warriors|   Parvez Rasool|       India|           5.6|\n|Kochi Tuskers Kerala|     S Sreesanth|       India|           6.0|\n|       Pune Warriors|        M Manhas|       India|           6.0|\n|    Rajasthan Royals|   Sohail Tanvir|    Pakistan|          6.02|\n|     Deccan Chargers|        DW Steyn|South Africa|          6.09|\n|       Pune Warriors|       MJ Clarke|   Australia|          6.09|\n|    Delhi Daredevils|RE van der Merwe|South Africa|          6.11|\n| Chennai Super Kings|  M Muralitharan|   Sri Lanka|          6.14|\n|Kolkata Knight Ri...|       SP Narine| West Indies|          6.14|\n|     Deccan Chargers|      FH Edwards| West Indies|          6.16|\n| Sunrisers Hyderabad|       GH Vihari|       India|          6.16|\n|    Rajasthan Royals|      A Chandila|       India|          6.21|\n|Royal Challengers...|      DL Vettori| New Zealand|          6.25|\n+--------------------+----------------+------------+--------------+\nonly showing top 20 rows\n\n+------+--------------------+----------------+------------+--------------+\n|season|           team_name|     player_name|country_name|bowler_economy|\n+------+--------------------+----------------+------------+--------------+\n|  2008|      Mumbai Indians|     DJ Thornely|   Australia|          5.46|\n|  2008|Kolkata Knight Ri...|      BAW Mendis|   Sri Lanka|           6.0|\n|  2008|     Deccan Chargers|       RG Sharma|       India|           6.0|\n|  2008|    Rajasthan Royals|   Sohail Tanvir|    Pakistan|          6.02|\n|  2008|Royal Challengers...|        DW Steyn|South Africa|          6.12|\n|  2009| Chennai Super Kings|        R Ashwin|       India|          3.25|\n|  2009|Kolkata Knight Ri...|   CK Langeveldt|     England|           3.6|\n|  2009|     Kings XI Punjab|           B Lee|   Australia|          5.01|\n|  2009| Chennai Super Kings|  M Muralitharan|   Sri Lanka|          5.06|\n|  2009|      Mumbai Indians|       JP Duminy|South Africa|          5.22|\n|  2010|    Delhi Daredevils|        V Sehwag|       India|          4.06|\n|  2010|Royal Challengers...|        ND Doshi|       India|          4.08|\n|  2010| Chennai Super Kings|        R Ashwin|       India|          5.92|\n|  2010|Royal Challengers...|RE van der Merwe|South Africa|           6.0|\n|  2010|    Delhi Daredevils|       DP Nannes|   Australia|          6.17|\n|  2011|    Rajasthan Royals|       AA Chavan|       India|           5.4|\n|  2011|       Pune Warriors|        R Sharma|       India|          5.42|\n|  2011|      Mumbai Indians|      SL Malinga|   Sri Lanka|          5.67|\n|  2011|      Mumbai Indians|      AG Murtaza|       India|          5.76|\n|  2011|Kolkata Knight Ri...|       YK Pathan|       India|          5.92|\n+------+--------------------+----------------+------------+--------------+\nonly showing top 20 rows\n\n+------+--------------------+---------------+------------+--------------+\n|season|           team_name|    player_name|country_name|bowler_economy|\n+------+--------------------+---------------+------------+--------------+\n|  2008|     Deccan Chargers|      RG Sharma|       India|           6.0|\n|  2008|     Kings XI Punjab|      IK Pathan|       India|          6.25|\n|  2008|Kolkata Knight Ri...|     SC Ganguly|       India|          6.35|\n|  2008|Kolkata Knight Ri...|       AB Dinda|       India|          6.37|\n|  2008|    Delhi Daredevils|    MF Maharoof|       India|          6.61|\n|  2009| Chennai Super Kings|       R Ashwin|       India|          3.25|\n|  2009|    Rajasthan Royals|        A Singh|       India|          5.33|\n|  2009|      Mumbai Indians|Harbhajan Singh|       India|           5.7|\n|  2009|Kolkata Knight Ri...|       M Kartik|       India|          5.74|\n|  2009|Royal Challengers...|       A Kumble|       India|          5.82|\n|  2010|    Delhi Daredevils|       V Sehwag|       India|          4.06|\n|  2010|Royal Challengers...|       ND Doshi|       India|          4.08|\n|  2010| Chennai Super Kings|       R Ashwin|       India|          5.92|\n|  2010|Royal Challengers...|       A Kumble|       India|          6.28|\n|  2010|Kolkata Knight Ri...|       AB Dinda|       India|          6.33|\n|  2011|    Rajasthan Royals|      AA Chavan|       India|           5.4|\n|  2011|       Pune Warriors|       R Sharma|       India|          5.42|\n|  2011|      Mumbai Indians|     AG Murtaza|       India|          5.76|\n|  2011|Kolkata Knight Ri...|      YK Pathan|       India|          5.92|\n|  2011|Kolkata Knight Ri...|  Iqbal Abdulla|       India|           6.0|\n+------+--------------------+---------------+------------+--------------+\nonly showing top 20 rows\n\n"
     ]
    }
   ],
   "source": [
    "# Analyze top bowlers based on their economy rate\n",
    "\n",
    "# Step 1: Calculate Runs per Ball for Each Bowler\n",
    "# Select relevant columns and calculate runs scored per ball, including extras.\n",
    "bowlers_economy_df = ball_by_ball_df \\\n",
    "    .select(\"season\", \"bowler\", \"team_bowling\", \"runs_scored\", \"bowler_extras\") \\\n",
    "    .withColumn('runs_per_ball', F.col(\"runs_scored\") + F.col(\"bowler_extras\"))\n",
    "\n",
    "# Step 2: Calculate Overall Economy Rate for Each Bowler\n",
    "# Group by team and bowler, sum the runs per ball and count the number of balls bowled.\n",
    "top_bowlers_economy_all_time_df = bowlers_economy_df \\\n",
    "    .groupBy(\"team_bowling\" ,\"bowler\") \\\n",
    "    .agg(F.sum(\"runs_per_ball\").alias(\"sum_runs_per_ball\"), F.count(\"*\").alias(\"count_balls\")) \\\n",
    "    .filter(F.col(\"count_balls\") >= 20) \\\n",
    "    .withColumn('overs_bowled', F.round(( F.col(\"count_balls\") / 6 ), 2)) \\\n",
    "    .withColumn('bowler_economy', F.round(( F.col(\"sum_runs_per_ball\") / F.col(\"overs_bowled\") ), 2)) \\\n",
    "    .join(player_df, ball_by_ball_df[\"bowler\"] == player_df[\"player_id\"], \"inner\") \\\n",
    "    .join(team_df, ball_by_ball_df[\"team_bowling\"] == team_df[\"team_id\"], \"inner\") \\\n",
    "    .select(\"team_name\", \"player_name\", \"country_name\", \"bowler_economy\") \\\n",
    "    .orderBy(F.col(\"bowler_economy\").asc()).show()\n",
    "\n",
    "# Step 3: Define Window Specification for Ranking Bowlers by Economy within Each Season\n",
    "# Partition by season and order by economy rate in ascending order.\n",
    "season_wise_economy_window_spec = Window.partitionBy(\"season\").orderBy(F.col(\"bowler_economy\").asc())\n",
    "\n",
    "# Step 4: Calculate Economy Rate per Bowler for Each Season\n",
    "top_bowlers_economy_per_season_df = bowlers_economy_df \\\n",
    "    .groupBy(\"season\", \"team_bowling\" ,\"bowler\") \\\n",
    "    .agg(F.sum(\"runs_per_ball\").alias(\"sum_runs_per_ball\"), F.count(\"*\").alias(\"count_balls\")) \\\n",
    "    .filter(F.col(\"count_balls\") >= 20) \\\n",
    "    .withColumn('overs_bowled', F.round(( F.col(\"count_balls\") / 6 ), 2)) \\\n",
    "    .withColumn('bowler_economy', F.round(( F.col(\"sum_runs_per_ball\") / F.col(\"overs_bowled\") ), 2)) \\\n",
    "    .join(player_df, ball_by_ball_df[\"bowler\"] == player_df[\"player_id\"], \"inner\") \\\n",
    "    .join(team_df, ball_by_ball_df[\"team_bowling\"] == team_df[\"team_id\"], \"inner\") \\\n",
    "    .orderBy(F.col(\"season\"), F.col(\"bowler_economy\").asc())\n",
    "\n",
    "# Step 5: Identify Top 5 Bowlers by Economy Rate for Each Season\n",
    "top_5_bowlers_economy_all_season_wise_df = top_bowlers_economy_per_season_df \\\n",
    "    .withColumn(\"rank\", F.row_number().over(season_wise_economy_window_spec)) \\\n",
    "    .filter(F.col(\"rank\") <= 5) \\\n",
    "    .select(\"season\", \"team_name\", \"player_name\", \"country_name\", \"bowler_economy\").show()\n",
    "\n",
    "# Step 6: Identify Top 5 Indian Bowlers by Economy Rate for Each Season\n",
    "top_5_bowlers_economy_indian_season_wise_df = top_bowlers_economy_per_season_df \\\n",
    "    .filter(F.col(\"country_name\") == 'India') \\\n",
    "    .withColumn(\"rank\", F.row_number().over(season_wise_economy_window_spec)) \\\n",
    "    .filter(F.col(\"rank\") <= 5) \\\n",
    "    .select(\"season\", \"team_name\", \"player_name\", \"country_name\", \"bowler_economy\").show()\n"
   ]
  },
  {
   "cell_type": "code",
   "execution_count": 0,
   "metadata": {
    "application/vnd.databricks.v1+cell": {
     "cellMetadata": {
      "byteLimit": 2048000,
      "rowLimit": 10000
     },
     "inputWidgets": {},
     "nuid": "a8ada045-28a3-432c-91ec-46d498697357",
     "showTitle": false,
     "title": ""
    }
   },
   "outputs": [
    {
     "output_type": "stream",
     "name": "stdout",
     "output_type": "stream",
     "text": [
      "+------+-----------------+---------------------------------+\n|season|         out_type|wicket_taken_season_out_type_wise|\n+------+-----------------+---------------------------------+\n|  2008|           caught|                              330|\n|  2008|           bowled|                              131|\n|  2008|     Keeper Catch|                               70|\n|  2008|              lbw|                               37|\n|  2008|caught and bowled|                               21|\n|  2009|           caught|                              349|\n|  2009|           bowled|                              112|\n|  2009|     Keeper Catch|                               66|\n|  2009|              lbw|                               47|\n|  2009|          stumped|                               29|\n|  2010|           caught|                              347|\n|  2010|           bowled|                              141|\n|  2010|     Keeper Catch|                               48|\n|  2010|              lbw|                               41|\n|  2010|          stumped|                               36|\n|  2011|           caught|                              388|\n|  2011|           bowled|                              156|\n|  2011|     Keeper Catch|                               84|\n|  2011|              lbw|                               54|\n|  2011|caught and bowled|                               29|\n+------+-----------------+---------------------------------+\nonly showing top 20 rows\n\n"
     ]
    }
   ],
   "source": [
    "# Analyze the most common types of dismissals in cricket\n",
    "\n",
    "# Step 1: Define Window Specification for Ranking Dismissal Types per Season\n",
    "# Partition by season and order by the number of wickets taken for each dismissal type in descending order.\n",
    "season_wise_out_type_order_window_spec = Window \\\n",
    "    .partitionBy(\"season\") \\\n",
    "    .orderBy(F.desc(\"wicket_taken_season_out_type_wise\"))\n",
    "\n",
    "# Step 2: Calculate the Count of Each Dismissal Type per Season\n",
    "# Filter for deliveries that resulted in a wicket, group by season and out type, then count occurrences.\n",
    "common_out_types_df = ball_by_ball_df \\\n",
    "    .filter(F.col(\"bowler_wicket\") == 'true') \\\n",
    "    .groupBy(\"season\", \"out_type\") \\\n",
    "    .agg(F.count(\"*\").alias(\"wicket_taken_season_out_type_wise\")) \\\n",
    "    .withColumn(\"rank\", F.row_number().over(season_wise_out_type_order_window_spec)) \\\n",
    "    .filter(F.col(\"rank\") <= 5) \\\n",
    "    .select(\"season\", \"out_type\", \"wicket_taken_season_out_type_wise\") \\\n",
    "    .show()"
   ]
  },
  {
   "cell_type": "code",
   "execution_count": 0,
   "metadata": {
    "application/vnd.databricks.v1+cell": {
     "cellMetadata": {
      "byteLimit": 2048000,
      "rowLimit": 10000
     },
     "inputWidgets": {},
     "nuid": "93ecc04b-8b77-48ab-8548-7158b82fdbb8",
     "showTitle": false,
     "title": ""
    }
   },
   "outputs": [
    {
     "output_type": "stream",
     "name": "stdout",
     "output_type": "stream",
     "text": [
      "+------+-------------+-------------------+------------+-----------------+---------------------------------+\n|season|  player_name|          team_name|country_name|         out_type|wicket_taken_season_out_type_wise|\n+------+-------------+-------------------+------------+-----------------+---------------------------------+\n|  2008|  DS Kulkarni|     Mumbai Indians|       India|     Keeper Catch|                                4|\n|  2008|      A Nehra|     Mumbai Indians|       India|     Keeper Catch|                                4|\n|  2008|     MM Patel|   Rajasthan Royals|       India|     Keeper Catch|                                3|\n|  2008|  MF Maharoof|   Delhi Daredevils|       India|     Keeper Catch|                                3|\n|  2008|    SR Watson|   Rajasthan Royals|   Australia|     Keeper Catch|                                3|\n|  2008|Sohail Tanvir|   Rajasthan Royals|    Pakistan|           bowled|                                8|\n|  2008|    IK Pathan|    Kings XI Punjab|       India|           bowled|                                7|\n|  2008|    PP Chawla|    Kings XI Punjab|       India|           bowled|                                6|\n|  2008|     RP Singh|    Deccan Chargers|       India|           bowled|                                6|\n|  2008|      MS Gony|Chennai Super Kings|       India|           bowled|                                5|\n|  2008|    SR Watson|   Rajasthan Royals|   Australia|           caught|                               12|\n|  2008|    VY Mahesh|   Delhi Daredevils|       India|           caught|                               11|\n|  2008|   GD McGrath|   Delhi Daredevils|   Australia|           caught|                               10|\n|  2008|  S Sreesanth|    Kings XI Punjab|       India|           caught|                                9|\n|  2008|Sohail Tanvir|   Rajasthan Royals|    Pakistan|           caught|                                9|\n|  2008|     SK Warne|   Rajasthan Royals|   Australia|caught and bowled|                                3|\n|  2008|        B Lee|    Kings XI Punjab|   Australia|caught and bowled|                                2|\n|  2008|   SK Trivedi|   Rajasthan Royals|       India|caught and bowled|                                1|\n|  2008|      MS Gony|Chennai Super Kings|       India|caught and bowled|                                1|\n|  2008|    DNT Zoysa|    Deccan Chargers|   Sri Lanka|caught and bowled|                                1|\n+------+-------------+-------------------+------------+-----------------+---------------------------------+\nonly showing top 20 rows\n\n+------+---------------+--------------------+------------+-----------------+---------------------------------+\n|season|    player_name|           team_name|country_name|         out_type|wicket_taken_season_out_type_wise|\n+------+---------------+--------------------+------------+-----------------+---------------------------------+\n|  2008|    DS Kulkarni|      Mumbai Indians|       India|     Keeper Catch|                                4|\n|  2008|        A Nehra|      Mumbai Indians|       India|     Keeper Catch|                                4|\n|  2008|       MM Patel|    Rajasthan Royals|       India|     Keeper Catch|                                3|\n|  2008|    MF Maharoof|    Delhi Daredevils|       India|     Keeper Catch|                                3|\n|  2008|        P Kumar|Royal Challengers...|       India|     Keeper Catch|                                3|\n|  2008|      IK Pathan|     Kings XI Punjab|       India|           bowled|                                7|\n|  2008|      PP Chawla|     Kings XI Punjab|       India|           bowled|                                6|\n|  2008|       RP Singh|     Deccan Chargers|       India|           bowled|                                6|\n|  2008|        MS Gony| Chennai Super Kings|       India|           bowled|                                5|\n|  2008|     SK Trivedi|    Rajasthan Royals|       India|           bowled|                                5|\n|  2008|      VY Mahesh|    Delhi Daredevils|       India|           caught|                               11|\n|  2008|    S Sreesanth|     Kings XI Punjab|       India|           caught|                                9|\n|  2008|        MS Gony| Chennai Super Kings|       India|           caught|                                8|\n|  2008|         Z Khan|Royal Challengers...|       India|           caught|                                8|\n|  2008|      PP Chawla|     Kings XI Punjab|       India|           caught|                                8|\n|  2008|     SK Trivedi|    Rajasthan Royals|       India|caught and bowled|                                1|\n|  2008|        MS Gony| Chennai Super Kings|       India|caught and bowled|                                1|\n|  2008|Harbhajan Singh|      Mumbai Indians|       India|caught and bowled|                                1|\n|  2008|       A Kumble|Royal Challengers...|       India|caught and bowled|                                1|\n|  2008|        P Kumar|Royal Challengers...|       India|caught and bowled|                                1|\n+------+---------------+--------------------+------------+-----------------+---------------------------------+\nonly showing top 20 rows\n\n"
     ]
    }
   ],
   "source": [
    "# Analyze which bowlers excel at specific dismissal types\n",
    "\n",
    "# Step 1: Define Window Specification for Ranking Bowlers by Dismissal Type per Season\n",
    "# Partition by season and out type, then order by season, out type, and the count of wickets taken in descending order.\n",
    "season_out_type_wise_window_spec = Window \\\n",
    "    .partitionBy(\"season\", \"out_type\") \\\n",
    "    .orderBy(F.col(\"season\").asc(), F.col(\"out_type\").asc(), F.desc(\"wicket_taken_season_out_type_wise\"))\n",
    "\n",
    "# Step 2: Calculate Wickets Taken by Each Bowler for Each Dismissal Type\n",
    "# Filter for deliveries that resulted in a wicket, group by season, team, bowler, and out type, then count occurrences.\n",
    "bowler_wickets_out_type_wise_df = ball_by_ball_df \\\n",
    "    .filter(F.col(\"bowler_wicket\") == 'true') \\\n",
    "    .groupBy(\"season\", \"team_bowling\" ,\"bowler\", \"out_type\") \\\n",
    "    .agg(F.count(\"*\").alias(\"wicket_taken_season_out_type_wise\")) \\\n",
    "    .join(player_df, ball_by_ball_df[\"bowler\"] == player_df[\"player_id\"], \"inner\") \\\n",
    "    .join(team_df, ball_by_ball_df[\"team_bowling\"] == team_df[\"team_id\"], \"inner\") \n",
    "\n",
    "# Step 3: Identify Top 5 Bowlers by Dismissal Type for All Players\n",
    "top_5_all_bowlers_out_type_df = bowler_wickets_out_type_wise_df \\\n",
    "    .withColumn(\"rank\", F.row_number().over(season_out_type_wise_window_spec)) \\\n",
    "    .filter(F.col(\"rank\") <= 5) \\\n",
    "    .select(\"season\", \"player_name\", \"team_name\", \"country_name\", \"out_type\", \"wicket_taken_season_out_type_wise\") \\\n",
    "    .show()\n",
    "\n",
    "# Step 4: Display Results for Top 5 Bowlers by Dismissal Type for All Players\n",
    "top_5_Indian_bowler_out_type_df = bowler_wickets_out_type_wise_df \\\n",
    "    .filter(F.col(\"country_name\") == 'India') \\\n",
    "    .withColumn(\"rank\", F.row_number().over(season_out_type_wise_window_spec)) \\\n",
    "    .filter(F.col(\"rank\") <= 5) \\\n",
    "    .select(\"season\", \"player_name\", \"team_name\", \"country_name\", \"out_type\", \"wicket_taken_season_out_type_wise\") \\\n",
    "    .show()"
   ]
  },
  {
   "cell_type": "code",
   "execution_count": 0,
   "metadata": {
    "application/vnd.databricks.v1+cell": {
     "cellMetadata": {
      "byteLimit": 2048000,
      "rowLimit": 10000
     },
     "inputWidgets": {},
     "nuid": "b2f34280-a119-443b-bf7d-c4c0dfcd4de8",
     "showTitle": false,
     "title": ""
    }
   },
   "outputs": [
    {
     "output_type": "stream",
     "name": "stdout",
     "output_type": "stream",
     "text": [
      "+------+--------------------+--------------------+\n|season|           team_name|win_percentage_field|\n+------+--------------------+--------------------+\n|  2014|Kolkata Knight Ri...|                83.0|\n|  2015|Kolkata Knight Ri...|                80.0|\n|  2012|    Delhi Daredevils|                80.0|\n|  2011|Kolkata Knight Ri...|                80.0|\n|  2008|    Rajasthan Royals|                78.0|\n|  2013|Royal Challengers...|                75.0|\n|  2008|     Kings XI Punjab|                75.0|\n|  2012| Chennai Super Kings|                75.0|\n|  2014|    Rajasthan Royals|                75.0|\n|  2011|     Kings XI Punjab|                75.0|\n|  2012|     Kings XI Punjab|                75.0|\n|  2016| Sunrisers Hyderabad|                71.0|\n|  2014| Chennai Super Kings|                67.0|\n|  2014|      Mumbai Indians|                67.0|\n|  2012|      Mumbai Indians|                67.0|\n|  2013|    Rajasthan Royals|                67.0|\n|  2011|    Delhi Daredevils|                67.0|\n|  2009|    Delhi Daredevils|                67.0|\n|  2015|    Rajasthan Royals|                67.0|\n|  2014| Sunrisers Hyderabad|                67.0|\n+------+--------------------+--------------------+\nonly showing top 20 rows\n\n+------+--------------------+------------------+\n|season|           team_name|win_percentage_bat|\n+------+--------------------+------------------+\n|  2011| Chennai Super Kings|              86.0|\n|  2010| Chennai Super Kings|              83.0|\n|  2015| Chennai Super Kings|              80.0|\n|  2012|Kolkata Knight Ri...|              80.0|\n|  2010|Kolkata Knight Ri...|              75.0|\n|  2013| Chennai Super Kings|              71.0|\n|  2011|     Deccan Chargers|              67.0|\n|  2010|      Mumbai Indians|              67.0|\n|  2008| Chennai Super Kings|              67.0|\n|  2015| Sunrisers Hyderabad|              67.0|\n|  2010|    Delhi Daredevils|              60.0|\n|  2009|Royal Challengers...|              60.0|\n|  2010|     Deccan Chargers|              60.0|\n|  2009|     Deccan Chargers|              57.0|\n|  2015|    Delhi Daredevils|              50.0|\n|  2009|     Kings XI Punjab|              50.0|\n|  2013|Kolkata Knight Ri...|              50.0|\n|  2009|    Rajasthan Royals|              50.0|\n|  2014| Chennai Super Kings|              33.0|\n|  2014|      Mumbai Indians|              33.0|\n+------+--------------------+------------------+\nonly showing top 20 rows\n\n"
     ]
    }
   ],
   "source": [
    "# Analyze how a team's toss decision (bat or field) impacts match outcomes\n",
    "\n",
    "# Step 1: Select Relevant Columns and Filter for Winning Teams Based on Toss Decision\n",
    "toss_outcome_df = match_df \\\n",
    "    .select(\"season_year\", \"toss_winner\", \"match_winner\", \"toss_name\") \\\n",
    "    .filter(F.col(\"toss_winner\") == F.col(\"match_winner\")) \\\n",
    "    .withColumnRenamed(\"season_year\",\"season\") \\\n",
    "    .withColumnRenamed(\"toss_winner\",\"team_name\") \\\n",
    "\n",
    "# Step 2: Calculate Wins for Teams that Elected to Field\n",
    "winning_teams_by_fielding_df = toss_outcome_df \\\n",
    "    .filter(F.col(\"toss_name\") == \"field\") \\\n",
    "    .groupBy(\"season\", \"team_name\") \\\n",
    "    .agg(F.count(\"*\").alias(\"match_wins_by_fielding\")) \\\n",
    "    .withColumnRenamed(\"season\", \"field_season\") \\\n",
    "    .withColumnRenamed(\"team_name\", \"field_team_name\")\n",
    "\n",
    "# Step 3: Calculate Wins for Teams that Elected to Bat\n",
    "winning_teams_by_batting_df = toss_outcome_df \\\n",
    "    .filter(F.col(\"toss_name\") == \"bat\") \\\n",
    "    .groupBy(\"season\", \"team_name\") \\\n",
    "    .agg(F.count(\"*\").alias(\"match_wins_by_batting\")) \\\n",
    "    .withColumnRenamed(\"season\", \"bat_season\") \\\n",
    "    .withColumnRenamed(\"team_name\", \"bat_team_name\")\n",
    "\n",
    "# Step 4: Join Fielding and Batting Win Dataframes to Analyze Toss Impact\n",
    "teams_toss_effect_on_type = winning_teams_by_fielding_df \\\n",
    "    .join(\n",
    "        winning_teams_by_batting_df, \n",
    "        (winning_teams_by_fielding_df[\"field_season\"] == winning_teams_by_batting_df[\"bat_season\"]) & \n",
    "        (winning_teams_by_fielding_df[\"field_team_name\"] == winning_teams_by_batting_df[\"bat_team_name\"]), \n",
    "        \"inner\"\n",
    "    ) \\\n",
    "    .withColumn(\"total_wins\", F.col(\"match_wins_by_fielding\") + F.col(\"match_wins_by_batting\")) \\\n",
    "    .withColumn(\"win_percentage_field\", F.round(F.col(\"match_wins_by_fielding\") / F.col(\"total_wins\") * 100)) \\\n",
    "    .withColumn(\"win_percentage_bat\", 100 - F.col(\"win_percentage_field\")) \\\n",
    "    .select(\n",
    "        winning_teams_by_batting_df[\"bat_season\"].alias(\"season\"), \n",
    "        winning_teams_by_batting_df[\"bat_team_name\"].alias(\"team_name\"), \n",
    "        \"win_percentage_field\",\n",
    "        \"win_percentage_bat\"\n",
    "    ) \\\n",
    "    .orderBy(F.col(\"season\").desc())\n",
    "\n",
    "# Step 5: Analyze Teams Winning by Fielding\n",
    "teams_winning_by_fielding = teams_toss_effect_on_type \\\n",
    "    .select(\n",
    "        \"season\", \n",
    "        \"team_name\", \n",
    "        \"win_percentage_field\"\n",
    "    ) \\\n",
    "    .orderBy(F.col(\"win_percentage_field\").desc()).show()\n",
    "\n",
    "\n",
    "# Step 6: Analyze Teams Winning by Batting\n",
    "teams_winning_by_batting = teams_toss_effect_on_type \\\n",
    "    .select(\n",
    "        \"season\", \n",
    "        \"team_name\", \n",
    "        \"win_percentage_bat\"\n",
    "    ) \\\n",
    "    .orderBy(F.col(\"win_percentage_bat\").desc()).show()"
   ]
  },
  {
   "cell_type": "code",
   "execution_count": 0,
   "metadata": {
    "application/vnd.databricks.v1+cell": {
     "cellMetadata": {
      "byteLimit": 2048000,
      "rowLimit": 10000
     },
     "inputWidgets": {},
     "nuid": "df10f96d-daba-4c42-ac94-83266d8fad1d",
     "showTitle": false,
     "title": ""
    }
   },
   "outputs": [
    {
     "output_type": "stream",
     "name": "stdout",
     "output_type": "stream",
     "text": [
      "+-----------+--------------------+-------------+---------------+------------------+\n|season_year|           team_name|total_matches|match_win_count|winning_percentage|\n+-----------+--------------------+-------------+---------------+------------------+\n|       2008|    Rajasthan Royals|           16|             13|             81.25|\n|       2008|     Kings XI Punjab|           15|             10|             66.67|\n|       2008| Chennai Super Kings|           16|              9|             56.25|\n|       2009|    Delhi Daredevils|           15|             10|             66.67|\n|       2009| Chennai Super Kings|           14|              8|             57.14|\n|       2009|     Deccan Chargers|           16|              9|             56.25|\n|       2010|      Mumbai Indians|           16|             11|             68.75|\n|       2010| Chennai Super Kings|           16|              9|             56.25|\n|       2010|     Deccan Chargers|           16|              8|              50.0|\n|       2011| Chennai Super Kings|           16|             11|             68.75|\n|       2011|      Mumbai Indians|           16|             10|              62.5|\n|       2011|Royal Challengers...|           16|             10|              62.5|\n|       2012|Kolkata Knight Ri...|           17|             12|             70.59|\n|       2012|    Delhi Daredevils|           18|             11|             61.11|\n|       2012|      Mumbai Indians|           17|             10|             58.82|\n|       2013|      Mumbai Indians|           19|             13|             68.42|\n|       2013| Chennai Super Kings|           18|             12|             66.67|\n|       2013|    Rajasthan Royals|           18|             11|             61.11|\n|       2014|     Kings XI Punjab|           17|             12|             70.59|\n|       2014|Kolkata Knight Ri...|           16|             11|             68.75|\n+-----------+--------------------+-------------+---------------+------------------+\nonly showing top 20 rows\n\n"
     ]
    }
   ],
   "source": [
    "# Analyze which teams consistently perform well across seasons\n",
    "\n",
    "# Step 1: Count occurrences where the team is team1\n",
    "team1_count_df = match_df.groupBy(\"season_year\", \"team1\") \\\n",
    "    .agg(F.count(\"*\").alias(\"team1_count\")) \\\n",
    "    .withColumnRenamed(\"team1\", \"team_name\")\n",
    "\n",
    "# Step 2: Count occurrences where the team is team2\n",
    "team2_count_df = match_df.groupBy(\"season_year\", \"team2\") \\\n",
    "    .agg(F.count(\"*\").alias(\"team2_count\")) \\\n",
    "    .withColumnRenamed(\"team2\", \"team_name\")\n",
    "\n",
    "# Step 3: Count winning occurrences for each team\n",
    "winning_team_count = match_df.groupBy(\"season_year\", \"match_winner\") \\\n",
    "    .agg(F.count(\"*\").alias(\"match_win_count\")) \\\n",
    "    .withColumnRenamed(\"match_winner\", \"team_name\")\n",
    "\n",
    "# Step 4: Define a window specification for ranking teams based on winning percentage\n",
    "season_year_wise_window_spec = Window \\\n",
    "    .partitionBy(\"season_year\") \\\n",
    "    .orderBy(F.col(\"winning_percentage\").desc())\n",
    "\n",
    "# Step 5: Merge counts to get total matches played by each team in each season\n",
    "total_matches_df = team1_count_df.join(\n",
    "    team2_count_df,\n",
    "    on=[\"season_year\", \"team_name\"],\n",
    "    how=\"outer\"\n",
    ").join(\n",
    "    winning_team_count, \n",
    "    on=[\"season_year\", \"team_name\"],\n",
    "    how=\"outer\"\n",
    ") \\\n",
    ".fillna(0, [\"team1_count\", \"team2_count\"]) \\\n",
    ".withColumn(\"total_matches\", F.col(\"team1_count\") + F.col(\"team2_count\")) \\\n",
    ".withColumn(\"winning_percentage\", F.round((F.col(\"match_win_count\")/F.col(\"total_matches\")*100), 2) ) \\\n",
    ".withColumn(\"rank\", F.row_number().over(season_year_wise_window_spec)) \\\n",
    ".filter(F.col(\"rank\") <= 3) \\\n",
    ".select(\"season_year\", \"team_name\", \"total_matches\", \"match_win_count\", \"winning_percentage\")\n",
    "\n",
    "\n",
    "# Step 6: Display the results\n",
    "total_matches_df.orderBy(\"season_year\", F.col(\"winning_percentage\").desc()).show()"
   ]
  }
 ],
 "metadata": {
  "application/vnd.databricks.v1+notebook": {
   "dashboards": [],
   "environmentMetadata": null,
   "language": "python",
   "notebookMetadata": {
    "pythonIndentUnit": 4
   },
   "notebookName": "IPL_Data_Analysis",
   "widgets": {}
  }
 },
 "nbformat": 4,
 "nbformat_minor": 0
}
