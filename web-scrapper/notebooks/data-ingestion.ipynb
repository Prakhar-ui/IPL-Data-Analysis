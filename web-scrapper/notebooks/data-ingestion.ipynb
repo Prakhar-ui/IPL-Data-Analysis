{
 "cells": [
  {
   "cell_type": "code",
   "execution_count": 0,
   "metadata": {
    "application/vnd.databricks.v1+cell": {
     "cellMetadata": {},
     "inputWidgets": {},
     "nuid": "81240942-97cf-404b-a951-022ab65729f6",
     "showTitle": false,
     "tableResultSettingsMap": {},
     "title": ""
    }
   },
   "outputs": [],
   "source": [
    "import subprocess\n",
    "import requests\n",
    "from bs4 import BeautifulSoup\n",
    "import re\n",
    "import os\n",
    "from urllib.parse import urljoin"
   ]
  },
  {
   "cell_type": "code",
   "execution_count": 0,
   "metadata": {
    "application/vnd.databricks.v1+cell": {
     "cellMetadata": {
      "byteLimit": 2048000,
      "rowLimit": 10000
     },
     "inputWidgets": {},
     "nuid": "65dd03cd-3deb-4465-98a6-8c1215b25125",
     "showTitle": false,
     "tableResultSettingsMap": {},
     "title": ""
    }
   },
   "outputs": [],
   "source": [
    "from pyspark.sql import SparkSession\n",
    "\n",
    "spark = SparkSession.builder \\\n",
    "    .appName(\"DataIngestionPipeline\") \\\n",
    "    .getOrCreate()"
   ]
  },
  {
   "cell_type": "code",
   "execution_count": 0,
   "metadata": {
    "application/vnd.databricks.v1+cell": {
     "cellMetadata": {
      "byteLimit": 2048000,
      "rowLimit": 10000
     },
     "inputWidgets": {},
     "nuid": "3a634203-3a77-41c0-91e9-9ebe663b1ab7",
     "showTitle": false,
     "tableResultSettingsMap": {},
     "title": ""
    }
   },
   "outputs": [],
   "source": [
    "# Configure AWS credentials (if not using IAM roles)\n",
    "spark._jsc.hadoopConfiguration().set(\"fs.s3a.access.key\", \"your-access-key\")\n",
    "spark._jsc.hadoopConfiguration().set(\"fs.s3a.secret.key\", \"your-secret-key\")\n",
    "spark._jsc.hadoopConfiguration().set(\"fs.s3a.endpoint\", \"s3.amazonaws.com\")"
   ]
  },
  {
   "cell_type": "code",
   "execution_count": 0,
   "metadata": {
    "application/vnd.databricks.v1+cell": {
     "cellMetadata": {
      "byteLimit": 2048000,
      "rowLimit": 10000
     },
     "inputWidgets": {},
     "nuid": "31dd6b6f-d090-48d5-a484-899544a628ce",
     "showTitle": false,
     "tableResultSettingsMap": {},
     "title": ""
    }
   },
   "outputs": [],
   "source": [
    "def get_file_names_and_links():\n",
    "    data_url = \"https://cricsheet.org/downloads/\"\n",
    "    response = requests.get(data_url)\n",
    "    # display(response.text)\n",
    "    if response.status_code == 200:\n",
    "        # Parse the content with BeautifulSoup\n",
    "        soup = BeautifulSoup(response.text, 'html.parser')\n",
    "\n",
    "        # Find all the <a> tags within <li> tags\n",
    "        ul_elements = soup.find_all('ul', class_='formatlinks')  \n",
    "        filtered_links = []\n",
    "\n",
    "        for ul in ul_elements:\n",
    "            a_tags = ul.find_all('a', href=True)\n",
    "\n",
    "            for a_tag in a_tags:\n",
    "                href = a_tag['href']\n",
    "                if \"male\" not in href and \"json\" in href:\n",
    "                    filtered_links.append(href)\n",
    "\n",
    "        td_elements = soup.find_all('td', class_='name', attrs={'rowspan': False})\n",
    "\n",
    "        for td in td_elements:\n",
    "            # Remove <span> with class 'withheld'\n",
    "            withheld_span = td.find('span', class_='withheld')\n",
    "            if withheld_span:\n",
    "                withheld_span.decompose()\n",
    "\n",
    "\n",
    "        print(f\"Number of filtered links: {len(filtered_links)}\")\n",
    "        print(f\"Number of <td> elements: {len(td_elements)}\")\n",
    "        print(f\"--------------------------------\")\n",
    "        \n",
    "        # Prepare the data for DataFrame\n",
    "        data_url2 = \"https://cricsheet.org/\"\n",
    "        filtered_links = [urljoin(data_url2, link) for link in filtered_links]\n",
    "        td_elements = [td.text.strip() for td in td_elements]\n",
    "        data = list(zip(td_elements, filtered_links))\n",
    "\n",
    "        # Create the DataFrame\n",
    "        columns = [\"Event/Country Name\", \"Links\"]\n",
    "        file_names_df = spark.createDataFrame(data, columns)\n",
    "        display(file_names_df)\n",
    "    else:\n",
    "        print(f\"Failed to retrieve the webpage. Status code: {response.status_code}\")\n"
   ]
  },
  {
   "cell_type": "code",
   "execution_count": 0,
   "metadata": {
    "application/vnd.databricks.v1+cell": {
     "cellMetadata": {
      "byteLimit": 2048000,
      "rowLimit": 10000
     },
     "inputWidgets": {},
     "nuid": "59d5bd61-3f82-4fd8-ba34-fa2627e4674b",
     "showTitle": false,
     "tableResultSettingsMap": {},
     "title": ""
    }
   },
   "outputs": [
    {
     "name": "stdout",
     "output_type": "stream",
     "text": [
      "Number of filtered links: 434\n",
      "Number of <td> elements: 434\n",
      "--------------------------------\n"
     ]
    },
    {
     "data": {
      "text/html": [
       "<style scoped>\n",
       "  .table-result-container {\n",
       "    max-height: 300px;\n",
       "    overflow: auto;\n",
       "  }\n",
       "  table, th, td {\n",
       "    border: 1px solid black;\n",
       "    border-collapse: collapse;\n",
       "  }\n",
       "  th, td {\n",
       "    padding: 5px;\n",
       "  }\n",
       "  th {\n",
       "    text-align: left;\n",
       "  }\n",
       "</style><div class='table-result-container'><table class='table-result'><thead style='background-color: white'><tr><th>Event/Country Name</th><th>Links</th></tr></thead><tbody><tr><td>Added in the previous 2 days</td><td>https://cricsheet.org/downloads/recently_added_2_json.zip</td></tr><tr><td>Added in the previous 7 days</td><td>https://cricsheet.org/downloads/recently_added_7_json.zip</td></tr><tr><td>Added in the previous 30 days</td><td>https://cricsheet.org/downloads/recently_added_30_json.zip</td></tr><tr><td>Played in the previous 2 days</td><td>https://cricsheet.org/downloads/recently_played_2_json.zip</td></tr><tr><td>Played in the previous 7 days</td><td>https://cricsheet.org/downloads/recently_played_7_json.zip</td></tr><tr><td>Played in the previous 30 days</td><td>https://cricsheet.org/downloads/recently_played_30_json.zip</td></tr><tr><td>All matches</td><td>https://cricsheet.org/downloads/all_json.zip</td></tr><tr><td>Test matches</td><td>https://cricsheet.org/downloads/tests_json.zip</td></tr><tr><td>Multi-day matches</td><td>https://cricsheet.org/downloads/mdms_json.zip</td></tr><tr><td>One-day internationals</td><td>https://cricsheet.org/downloads/odis_json.zip</td></tr><tr><td>One-day matches</td><td>https://cricsheet.org/downloads/odms_json.zip</td></tr><tr><td>T20 internationals</td><td>https://cricsheet.org/downloads/t20s_json.zip</td></tr><tr><td>Non-official T20 internationals</td><td>https://cricsheet.org/downloads/it20s_json.zip</td></tr><tr><td>Big Bash League</td><td>https://cricsheet.org/downloads/bbl_json.zip</td></tr><tr><td>T20 Blaze</td><td>https://cricsheet.org/downloads/blz_json.zip</td></tr><tr><td>Bangladesh Premier League</td><td>https://cricsheet.org/downloads/bpl_json.zip</td></tr><tr><td>Bob Willis Trophy</td><td>https://cricsheet.org/downloads/bwt_json.zip</td></tr><tr><td>County Championship</td><td>https://cricsheet.org/downloads/cch_json.zip</td></tr><tr><td>Charlotte Edwards Cup</td><td>https://cricsheet.org/downloads/cec_json.zip</td></tr><tr><td>Caribbean Premier League</td><td>https://cricsheet.org/downloads/cpl_json.zip</td></tr><tr><td>CSA T20 Challenge</td><td>https://cricsheet.org/downloads/ctc_json.zip</td></tr><tr><td>FairBreak Invitational Tournament</td><td>https://cricsheet.org/downloads/frb_json.zip</td></tr><tr><td>The Hundred</td><td>https://cricsheet.org/downloads/hnd_json.zip</td></tr><tr><td>International League T20</td><td>https://cricsheet.org/downloads/ilt_json.zip</td></tr><tr><td>Indian Premier League</td><td>https://cricsheet.org/downloads/ipl_json.zip</td></tr><tr><td>Cricket Ireland Inter-Provincial Limited Over Cup</td><td>https://cricsheet.org/downloads/ipo_json.zip</td></tr><tr><td>Cricket Ireland Inter-Provincial Twenty20 Trophy</td><td>https://cricsheet.org/downloads/ipt_json.zip</td></tr><tr><td>Lanka Premier League</td><td>https://cricsheet.org/downloads/lpl_json.zip</td></tr><tr><td>Major League Cricket</td><td>https://cricsheet.org/downloads/mlc_json.zip</td></tr><tr><td>Mzansi Super League</td><td>https://cricsheet.org/downloads/msl_json.zip</td></tr><tr><td>Nepal Premier League</td><td>https://cricsheet.org/downloads/npl_json.zip</td></tr><tr><td>T20 Blast</td><td>https://cricsheet.org/downloads/ntb_json.zip</td></tr><tr><td>Plunket Shield</td><td>https://cricsheet.org/downloads/pks_json.zip</td></tr><tr><td>Pakistan Super League</td><td>https://cricsheet.org/downloads/psl_json.zip</td></tr><tr><td>Rachael Heyhoe Flint Trophy</td><td>https://cricsheet.org/downloads/rhf_json.zip</td></tr><tr><td>One-Day Cup</td><td>https://cricsheet.org/downloads/rlc_json.zip</td></tr><tr><td>SA20</td><td>https://cricsheet.org/downloads/sat_json.zip</td></tr><tr><td>Super 50</td><td>https://cricsheet.org/downloads/sft_json.zip</td></tr><tr><td>Syed Mushtaq Ali Trophy</td><td>https://cricsheet.org/downloads/sma_json.zip</td></tr><tr><td>Sheffield Shield</td><td>https://cricsheet.org/downloads/ssh_json.zip</td></tr><tr><td>Super Smash</td><td>https://cricsheet.org/downloads/ssm_json.zip</td></tr><tr><td>Women's Big Bash League</td><td>https://cricsheet.org/downloads/wbb_json.zip</td></tr><tr><td>Women's Caribbean Premier League</td><td>https://cricsheet.org/downloads/wcl_json.zip</td></tr><tr><td>Women's Premier League</td><td>https://cricsheet.org/downloads/wpl_json.zip</td></tr><tr><td>Women's Cricket Super League</td><td>https://cricsheet.org/downloads/wsl_json.zip</td></tr><tr><td>Women's T20 Challenge</td><td>https://cricsheet.org/downloads/wtc_json.zip</td></tr><tr><td>ICC Men's Cricket World Cup</td><td>https://cricsheet.org/downloads/icc_mens_cricket_world_cup_json.zip</td></tr><tr><td>ICC Men's T20 World Cup</td><td>https://cricsheet.org/downloads/icc_mens_t20_world_cup_json.zip</td></tr><tr><td>ICC Women's Cricket World Cup</td><td>https://cricsheet.org/downloads/icc_womens_cricket_world_cup_json.zip</td></tr><tr><td>ICC Women's T20 World Cup</td><td>https://cricsheet.org/downloads/icc_womens_t20_world_cup_json.zip</td></tr><tr><td>2001</td><td>https://cricsheet.org/downloads/2001_json.zip</td></tr><tr><td>2002</td><td>https://cricsheet.org/downloads/2002_json.zip</td></tr><tr><td>2003</td><td>https://cricsheet.org/downloads/2003_json.zip</td></tr><tr><td>2004</td><td>https://cricsheet.org/downloads/2004_json.zip</td></tr><tr><td>2005</td><td>https://cricsheet.org/downloads/2005_json.zip</td></tr><tr><td>2006</td><td>https://cricsheet.org/downloads/2006_json.zip</td></tr><tr><td>2007</td><td>https://cricsheet.org/downloads/2007_json.zip</td></tr><tr><td>2008</td><td>https://cricsheet.org/downloads/2008_json.zip</td></tr><tr><td>2009</td><td>https://cricsheet.org/downloads/2009_json.zip</td></tr><tr><td>2010</td><td>https://cricsheet.org/downloads/2010_json.zip</td></tr><tr><td>2011</td><td>https://cricsheet.org/downloads/2011_json.zip</td></tr><tr><td>2012</td><td>https://cricsheet.org/downloads/2012_json.zip</td></tr><tr><td>2013</td><td>https://cricsheet.org/downloads/2013_json.zip</td></tr><tr><td>2014</td><td>https://cricsheet.org/downloads/2014_json.zip</td></tr><tr><td>2015</td><td>https://cricsheet.org/downloads/2015_json.zip</td></tr><tr><td>2016</td><td>https://cricsheet.org/downloads/2016_json.zip</td></tr><tr><td>2017</td><td>https://cricsheet.org/downloads/2017_json.zip</td></tr><tr><td>2018</td><td>https://cricsheet.org/downloads/2018_json.zip</td></tr><tr><td>2019</td><td>https://cricsheet.org/downloads/2019_json.zip</td></tr><tr><td>2020</td><td>https://cricsheet.org/downloads/2020_json.zip</td></tr><tr><td>2021</td><td>https://cricsheet.org/downloads/2021_json.zip</td></tr><tr><td>2022</td><td>https://cricsheet.org/downloads/2022_json.zip</td></tr><tr><td>2023</td><td>https://cricsheet.org/downloads/2023_json.zip</td></tr><tr><td>2024</td><td>https://cricsheet.org/downloads/2024_json.zip</td></tr><tr><td>2025</td><td>https://cricsheet.org/downloads/2025_json.zip</td></tr><tr><td>Argentina</td><td>https://cricsheet.org/downloads/argentina_json.zip</td></tr><tr><td>Australia</td><td>https://cricsheet.org/downloads/australia_json.zip</td></tr><tr><td>Austria</td><td>https://cricsheet.org/downloads/austria_json.zip</td></tr><tr><td>Bahamas</td><td>https://cricsheet.org/downloads/bahamas_json.zip</td></tr><tr><td>Bahrain</td><td>https://cricsheet.org/downloads/bahrain_json.zip</td></tr><tr><td>Bangladesh</td><td>https://cricsheet.org/downloads/bangladesh_json.zip</td></tr><tr><td>Barbados</td><td>https://cricsheet.org/downloads/barbados_json.zip</td></tr><tr><td>Belgium</td><td>https://cricsheet.org/downloads/belgium_json.zip</td></tr><tr><td>Belize</td><td>https://cricsheet.org/downloads/belize_json.zip</td></tr><tr><td>Bermuda</td><td>https://cricsheet.org/downloads/bermuda_json.zip</td></tr><tr><td>Bhutan</td><td>https://cricsheet.org/downloads/bhutan_json.zip</td></tr><tr><td>Botswana</td><td>https://cricsheet.org/downloads/botswana_json.zip</td></tr><tr><td>Brazil</td><td>https://cricsheet.org/downloads/brazil_json.zip</td></tr><tr><td>Bulgaria</td><td>https://cricsheet.org/downloads/bulgaria_json.zip</td></tr><tr><td>Cambodia</td><td>https://cricsheet.org/downloads/cambodia_json.zip</td></tr><tr><td>Cameroon</td><td>https://cricsheet.org/downloads/cameroon_json.zip</td></tr><tr><td>Canada</td><td>https://cricsheet.org/downloads/canada_json.zip</td></tr><tr><td>Cayman Islands</td><td>https://cricsheet.org/downloads/cayman_islands_json.zip</td></tr><tr><td>Chile</td><td>https://cricsheet.org/downloads/chile_json.zip</td></tr><tr><td>China</td><td>https://cricsheet.org/downloads/china_json.zip</td></tr><tr><td>Cook Islands</td><td>https://cricsheet.org/downloads/cook_islands_json.zip</td></tr><tr><td>Costa Rica</td><td>https://cricsheet.org/downloads/costa_rica_json.zip</td></tr><tr><td>Croatia</td><td>https://cricsheet.org/downloads/croatia_json.zip</td></tr><tr><td>Cyprus</td><td>https://cricsheet.org/downloads/cyprus_json.zip</td></tr><tr><td>Czech Republic</td><td>https://cricsheet.org/downloads/czech_republic_json.zip</td></tr><tr><td>Denmark</td><td>https://cricsheet.org/downloads/denmark_json.zip</td></tr><tr><td>England</td><td>https://cricsheet.org/downloads/england_json.zip</td></tr><tr><td>Estonia</td><td>https://cricsheet.org/downloads/estonia_json.zip</td></tr><tr><td>Eswatini</td><td>https://cricsheet.org/downloads/eswatini_json.zip</td></tr><tr><td>Fiji</td><td>https://cricsheet.org/downloads/fiji_json.zip</td></tr><tr><td>Finland</td><td>https://cricsheet.org/downloads/finland_json.zip</td></tr><tr><td>France</td><td>https://cricsheet.org/downloads/france_json.zip</td></tr><tr><td>Gambia</td><td>https://cricsheet.org/downloads/gambia_json.zip</td></tr><tr><td>Germany</td><td>https://cricsheet.org/downloads/germany_json.zip</td></tr><tr><td>Ghana</td><td>https://cricsheet.org/downloads/ghana_json.zip</td></tr><tr><td>Gibraltar</td><td>https://cricsheet.org/downloads/gibraltar_json.zip</td></tr><tr><td>Greece</td><td>https://cricsheet.org/downloads/greece_json.zip</td></tr><tr><td>Guernsey</td><td>https://cricsheet.org/downloads/guernsey_json.zip</td></tr><tr><td>Hong Kong</td><td>https://cricsheet.org/downloads/hong_kong_json.zip</td></tr><tr><td>Hungary</td><td>https://cricsheet.org/downloads/hungary_json.zip</td></tr><tr><td>India</td><td>https://cricsheet.org/downloads/india_json.zip</td></tr><tr><td>Indonesia</td><td>https://cricsheet.org/downloads/indonesia_json.zip</td></tr><tr><td>Iran</td><td>https://cricsheet.org/downloads/iran_json.zip</td></tr><tr><td>Ireland</td><td>https://cricsheet.org/downloads/ireland_json.zip</td></tr><tr><td>Isle of Man</td><td>https://cricsheet.org/downloads/isle_of_man_json.zip</td></tr><tr><td>Israel</td><td>https://cricsheet.org/downloads/israel_json.zip</td></tr><tr><td>Italy</td><td>https://cricsheet.org/downloads/italy_json.zip</td></tr><tr><td>Ivory Coast</td><td>https://cricsheet.org/downloads/ivory_coast_json.zip</td></tr><tr><td>Japan</td><td>https://cricsheet.org/downloads/japan_json.zip</td></tr><tr><td>Jersey</td><td>https://cricsheet.org/downloads/jersey_json.zip</td></tr><tr><td>Kenya</td><td>https://cricsheet.org/downloads/kenya_json.zip</td></tr><tr><td>Kuwait</td><td>https://cricsheet.org/downloads/kuwait_json.zip</td></tr><tr><td>Lesotho</td><td>https://cricsheet.org/downloads/lesotho_json.zip</td></tr><tr><td>Luxembourg</td><td>https://cricsheet.org/downloads/luxembourg_json.zip</td></tr><tr><td>Malawi</td><td>https://cricsheet.org/downloads/malawi_json.zip</td></tr><tr><td>Malaysia</td><td>https://cricsheet.org/downloads/malaysia_json.zip</td></tr><tr><td>Maldives</td><td>https://cricsheet.org/downloads/maldives_json.zip</td></tr><tr><td>Mali</td><td>https://cricsheet.org/downloads/mali_json.zip</td></tr><tr><td>Malta</td><td>https://cricsheet.org/downloads/malta_json.zip</td></tr><tr><td>Mexico</td><td>https://cricsheet.org/downloads/mexico_json.zip</td></tr><tr><td>Mongolia</td><td>https://cricsheet.org/downloads/mongolia_json.zip</td></tr><tr><td>Mozambique</td><td>https://cricsheet.org/downloads/mozambique_json.zip</td></tr><tr><td>Myanmar</td><td>https://cricsheet.org/downloads/myanmar_json.zip</td></tr><tr><td>Namibia</td><td>https://cricsheet.org/downloads/namibia_json.zip</td></tr><tr><td>Nepal</td><td>https://cricsheet.org/downloads/nepal_json.zip</td></tr><tr><td>Netherlands</td><td>https://cricsheet.org/downloads/netherlands_json.zip</td></tr><tr><td>New Zealand</td><td>https://cricsheet.org/downloads/new_zealand_json.zip</td></tr><tr><td>Nigeria</td><td>https://cricsheet.org/downloads/nigeria_json.zip</td></tr><tr><td>Norway</td><td>https://cricsheet.org/downloads/norway_json.zip</td></tr><tr><td>Oman</td><td>https://cricsheet.org/downloads/oman_json.zip</td></tr><tr><td>Pakistan</td><td>https://cricsheet.org/downloads/pakistan_json.zip</td></tr><tr><td>Panama</td><td>https://cricsheet.org/downloads/panama_json.zip</td></tr><tr><td>Papua New Guinea</td><td>https://cricsheet.org/downloads/papua_new_guinea_json.zip</td></tr><tr><td>Philippines</td><td>https://cricsheet.org/downloads/philippines_json.zip</td></tr><tr><td>Portugal</td><td>https://cricsheet.org/downloads/portugal_json.zip</td></tr><tr><td>Qatar</td><td>https://cricsheet.org/downloads/qatar_json.zip</td></tr><tr><td>Romania</td><td>https://cricsheet.org/downloads/romania_json.zip</td></tr><tr><td>Rwanda</td><td>https://cricsheet.org/downloads/rwanda_json.zip</td></tr><tr><td>Samoa</td><td>https://cricsheet.org/downloads/samoa_json.zip</td></tr><tr><td>Saudi Arabia</td><td>https://cricsheet.org/downloads/saudi_arabia_json.zip</td></tr><tr><td>Scotland</td><td>https://cricsheet.org/downloads/scotland_json.zip</td></tr><tr><td>Serbia</td><td>https://cricsheet.org/downloads/serbia_json.zip</td></tr><tr><td>Seychelles</td><td>https://cricsheet.org/downloads/seychelles_json.zip</td></tr><tr><td>Sierra Leone</td><td>https://cricsheet.org/downloads/sierra_leone_json.zip</td></tr><tr><td>Singapore</td><td>https://cricsheet.org/downloads/singapore_json.zip</td></tr><tr><td>Slovenia</td><td>https://cricsheet.org/downloads/slovenia_json.zip</td></tr><tr><td>South Africa</td><td>https://cricsheet.org/downloads/south_africa_json.zip</td></tr><tr><td>South Korea</td><td>https://cricsheet.org/downloads/south_korea_json.zip</td></tr><tr><td>Spain</td><td>https://cricsheet.org/downloads/spain_json.zip</td></tr><tr><td>Sri Lanka</td><td>https://cricsheet.org/downloads/sri_lanka_json.zip</td></tr><tr><td>St Helena</td><td>https://cricsheet.org/downloads/st_helena_json.zip</td></tr><tr><td>Suriname</td><td>https://cricsheet.org/downloads/suriname_json.zip</td></tr><tr><td>Swaziland</td><td>https://cricsheet.org/downloads/swaziland_json.zip</td></tr><tr><td>Sweden</td><td>https://cricsheet.org/downloads/sweden_json.zip</td></tr><tr><td>Switzerland</td><td>https://cricsheet.org/downloads/switzerland_json.zip</td></tr><tr><td>Tanzania</td><td>https://cricsheet.org/downloads/tanzania_json.zip</td></tr><tr><td>Thailand</td><td>https://cricsheet.org/downloads/thailand_json.zip</td></tr><tr><td>Turkey</td><td>https://cricsheet.org/downloads/turkey_json.zip</td></tr><tr><td>Uganda</td><td>https://cricsheet.org/downloads/uganda_json.zip</td></tr><tr><td>United Arab Emirates</td><td>https://cricsheet.org/downloads/united_arab_emirates_json.zip</td></tr><tr><td>United States of America</td><td>https://cricsheet.org/downloads/united_states_of_america_json.zip</td></tr><tr><td>Vanuatu</td><td>https://cricsheet.org/downloads/vanuatu_json.zip</td></tr><tr><td>West Indies</td><td>https://cricsheet.org/downloads/west_indies_json.zip</td></tr><tr><td>Zambia</td><td>https://cricsheet.org/downloads/zambia_json.zip</td></tr><tr><td>Zimbabwe</td><td>https://cricsheet.org/downloads/zimbabwe_json.zip</td></tr><tr><td>Abu Dhabi Knight Riders</td><td>https://cricsheet.org/downloads/abu_dhabi_knight_riders_json.zip</td></tr><tr><td>Adelaide Strikers</td><td>https://cricsheet.org/downloads/adelaide_strikers_json.zip</td></tr><tr><td>Andhra</td><td>https://cricsheet.org/downloads/andhra_json.zip</td></tr><tr><td>Antigua Hawksbills</td><td>https://cricsheet.org/downloads/antigua_hawksbills_json.zip</td></tr><tr><td>Antigua and Barbuda Falcons</td><td>https://cricsheet.org/downloads/antigua_and_barbuda_falcons_json.zip</td></tr><tr><td>Arunachal Pradesh</td><td>https://cricsheet.org/downloads/arunachal_pradesh_json.zip</td></tr><tr><td>Assam</td><td>https://cricsheet.org/downloads/assam_json.zip</td></tr><tr><td>Auckland</td><td>https://cricsheet.org/downloads/auckland_json.zip</td></tr><tr><td>Auckland Aces</td><td>https://cricsheet.org/downloads/auckland_aces_json.zip</td></tr><tr><td>B-Love Kandy</td><td>https://cricsheet.org/downloads/b-love_kandy_json.zip</td></tr><tr><td>Barbados</td><td>https://cricsheet.org/downloads/barbados_json.zip</td></tr><tr><td>Barbados Royals</td><td>https://cricsheet.org/downloads/barbados_royals_json.zip</td></tr><tr><td>Barbados Tridents</td><td>https://cricsheet.org/downloads/barbados_tridents_json.zip</td></tr><tr><td>Barisal Bulls</td><td>https://cricsheet.org/downloads/barisal_bulls_json.zip</td></tr><tr><td>Barisal Burners</td><td>https://cricsheet.org/downloads/barisal_burners_json.zip</td></tr><tr><td>Barmy Army</td><td>https://cricsheet.org/downloads/barmy_army_json.zip</td></tr><tr><td>Baroda</td><td>https://cricsheet.org/downloads/baroda_json.zip</td></tr><tr><td>Bengal</td><td>https://cricsheet.org/downloads/bengal_json.zip</td></tr><tr><td>Bihar</td><td>https://cricsheet.org/downloads/bihar_json.zip</td></tr><tr><td>Biratnagar Kings</td><td>https://cricsheet.org/downloads/biratnagar_kings_json.zip</td></tr><tr><td>Birmingham Bears</td><td>https://cricsheet.org/downloads/birmingham_bears_json.zip</td></tr><tr><td>Birmingham Phoenix</td><td>https://cricsheet.org/downloads/birmingham_phoenix_json.zip</td></tr><tr><td>Boland</td><td>https://cricsheet.org/downloads/boland_json.zip</td></tr><tr><td>Brisbane Heat</td><td>https://cricsheet.org/downloads/brisbane_heat_json.zip</td></tr><tr><td>Canterbury</td><td>https://cricsheet.org/downloads/canterbury_json.zip</td></tr><tr><td>Cape Cobras</td><td>https://cricsheet.org/downloads/cape_cobras_json.zip</td></tr><tr><td>Cape Town Blitz</td><td>https://cricsheet.org/downloads/cape_town_blitz_json.zip</td></tr><tr><td>Central Districts</td><td>https://cricsheet.org/downloads/central_districts_json.zip</td></tr><tr><td>Central Sparks</td><td>https://cricsheet.org/downloads/central_sparks_json.zip</td></tr><tr><td>Central Stags</td><td>https://cricsheet.org/downloads/central_stags_json.zip</td></tr><tr><td>Chandigarh</td><td>https://cricsheet.org/downloads/chandigarh_json.zip</td></tr><tr><td>Chattogram Challengers</td><td>https://cricsheet.org/downloads/chattogram_challengers_json.zip</td></tr><tr><td>Chennai Super Kings</td><td>https://cricsheet.org/downloads/chennai_super_kings_json.zip</td></tr><tr><td>Chhattisgarh</td><td>https://cricsheet.org/downloads/chhattisgarh_json.zip</td></tr><tr><td>Chittagong Kings</td><td>https://cricsheet.org/downloads/chittagong_kings_json.zip</td></tr><tr><td>Chittagong Vikings</td><td>https://cricsheet.org/downloads/chittagong_vikings_json.zip</td></tr><tr><td>Chitwan Rhinos</td><td>https://cricsheet.org/downloads/chitwan_rhinos_json.zip</td></tr><tr><td>Colombo Kings</td><td>https://cricsheet.org/downloads/colombo_kings_json.zip</td></tr><tr><td>Colombo Stars</td><td>https://cricsheet.org/downloads/colombo_stars_json.zip</td></tr><tr><td>Colombo Strikers</td><td>https://cricsheet.org/downloads/colombo_strikers_json.zip</td></tr><tr><td>Comilla Victorians</td><td>https://cricsheet.org/downloads/comilla_victorians_json.zip</td></tr><tr><td>Cumilla Warriors</td><td>https://cricsheet.org/downloads/cumilla_warriors_json.zip</td></tr><tr><td>Dambulla Aura</td><td>https://cricsheet.org/downloads/dambulla_aura_json.zip</td></tr><tr><td>Dambulla Giants</td><td>https://cricsheet.org/downloads/dambulla_giants_json.zip</td></tr><tr><td>Dambulla Sixers</td><td>https://cricsheet.org/downloads/dambulla_sixers_json.zip</td></tr><tr><td>Dambulla Viiking</td><td>https://cricsheet.org/downloads/dambulla_viiking_json.zip</td></tr><tr><td>Deccan Chargers</td><td>https://cricsheet.org/downloads/deccan_chargers_json.zip</td></tr><tr><td>Delhi</td><td>https://cricsheet.org/downloads/delhi_json.zip</td></tr><tr><td>Delhi Capitals</td><td>https://cricsheet.org/downloads/delhi_capitals_json.zip</td></tr><tr><td>Delhi Daredevils</td><td>https://cricsheet.org/downloads/delhi_daredevils_json.zip</td></tr><tr><td>Derbyshire</td><td>https://cricsheet.org/downloads/derbyshire_json.zip</td></tr><tr><td>Desert Vipers</td><td>https://cricsheet.org/downloads/desert_vipers_json.zip</td></tr><tr><td>Dhaka Capital</td><td>https://cricsheet.org/downloads/dhaka_capital_json.zip</td></tr><tr><td>Dhaka Dominators</td><td>https://cricsheet.org/downloads/dhaka_dominators_json.zip</td></tr><tr><td>Dhaka Dynamites</td><td>https://cricsheet.org/downloads/dhaka_dynamites_json.zip</td></tr><tr><td>Dhaka Gladiators</td><td>https://cricsheet.org/downloads/dhaka_gladiators_json.zip</td></tr><tr><td>Dhaka Platoon</td><td>https://cricsheet.org/downloads/dhaka_platoon_json.zip</td></tr><tr><td>Dolphins</td><td>https://cricsheet.org/downloads/dolphins_json.zip</td></tr><tr><td>Dubai Capitals</td><td>https://cricsheet.org/downloads/dubai_capitals_json.zip</td></tr><tr><td>Durban Heat</td><td>https://cricsheet.org/downloads/durban_heat_json.zip</td></tr><tr><td>Durban's Super Giants</td><td>https://cricsheet.org/downloads/durban%27s_super_giants_json.zip</td></tr><tr><td>Durbar Rajshahi</td><td>https://cricsheet.org/downloads/durbar_rajshahi_json.zip</td></tr><tr><td>Durdanto Dhaka</td><td>https://cricsheet.org/downloads/durdanto_dhaka_json.zip</td></tr><tr><td>Durham</td><td>https://cricsheet.org/downloads/durham_json.zip</td></tr><tr><td>Duronto Rajshahi</td><td>https://cricsheet.org/downloads/duronto_rajshahi_json.zip</td></tr><tr><td>Essex</td><td>https://cricsheet.org/downloads/essex_json.zip</td></tr><tr><td>Falcons</td><td>https://cricsheet.org/downloads/falcons_json.zip</td></tr><tr><td>Fortune Barishal</td><td>https://cricsheet.org/downloads/fortune_barishal_json.zip</td></tr><tr><td>Galle Gladiators</td><td>https://cricsheet.org/downloads/galle_gladiators_json.zip</td></tr><tr><td>Galle Marvels</td><td>https://cricsheet.org/downloads/galle_marvels_json.zip</td></tr><tr><td>Galle Titans</td><td>https://cricsheet.org/downloads/galle_titans_json.zip</td></tr><tr><td>Glamorgan</td><td>https://cricsheet.org/downloads/glamorgan_json.zip</td></tr><tr><td>Gloucestershire</td><td>https://cricsheet.org/downloads/gloucestershire_json.zip</td></tr><tr><td>Goa</td><td>https://cricsheet.org/downloads/goa_json.zip</td></tr><tr><td>Gujarat</td><td>https://cricsheet.org/downloads/gujarat_json.zip</td></tr><tr><td>Gujarat Giants</td><td>https://cricsheet.org/downloads/gujarat_giants_json.zip</td></tr><tr><td>Gujarat Lions</td><td>https://cricsheet.org/downloads/gujarat_lions_json.zip</td></tr><tr><td>Gujarat Titans</td><td>https://cricsheet.org/downloads/gujarat_titans_json.zip</td></tr><tr><td>Gulf Giants</td><td>https://cricsheet.org/downloads/gulf_giants_json.zip</td></tr><tr><td>Guyana</td><td>https://cricsheet.org/downloads/guyana_json.zip</td></tr><tr><td>Guyana Amazon Warriors</td><td>https://cricsheet.org/downloads/guyana_amazon_warriors_json.zip</td></tr><tr><td>Hampshire</td><td>https://cricsheet.org/downloads/hampshire_json.zip</td></tr><tr><td>Haryana</td><td>https://cricsheet.org/downloads/haryana_json.zip</td></tr><tr><td>Himachal</td><td>https://cricsheet.org/downloads/himachal_json.zip</td></tr><tr><td>Himachal Pradesh</td><td>https://cricsheet.org/downloads/himachal_pradesh_json.zip</td></tr><tr><td>Hobart Hurricanes</td><td>https://cricsheet.org/downloads/hobart_hurricanes_json.zip</td></tr><tr><td>Hyderabad (India)</td><td>https://cricsheet.org/downloads/hyderabad_%28india%29_json.zip</td></tr><tr><td>Impi</td><td>https://cricsheet.org/downloads/impi_json.zip</td></tr><tr><td>Islamabad United</td><td>https://cricsheet.org/downloads/islamabad_united_json.zip</td></tr><tr><td>Jaffna Kings</td><td>https://cricsheet.org/downloads/jaffna_kings_json.zip</td></tr><tr><td>Jaffna Stallions</td><td>https://cricsheet.org/downloads/jaffna_stallions_json.zip</td></tr><tr><td>Jamaica</td><td>https://cricsheet.org/downloads/jamaica_json.zip</td></tr><tr><td>Jamaica Tallawahs</td><td>https://cricsheet.org/downloads/jamaica_tallawahs_json.zip</td></tr><tr><td>Jammu & Kashmir</td><td>https://cricsheet.org/downloads/jammu_&_kashmir_json.zip</td></tr><tr><td>Janakpur Bolts</td><td>https://cricsheet.org/downloads/janakpur_bolts_json.zip</td></tr><tr><td>Jharkhand</td><td>https://cricsheet.org/downloads/jharkhand_json.zip</td></tr><tr><td>Joburg Super Kings</td><td>https://cricsheet.org/downloads/joburg_super_kings_json.zip</td></tr><tr><td>Jozi Stars</td><td>https://cricsheet.org/downloads/jozi_stars_json.zip</td></tr><tr><td>Kandy Falcons</td><td>https://cricsheet.org/downloads/kandy_falcons_json.zip</td></tr><tr><td>Kandy Tuskers</td><td>https://cricsheet.org/downloads/kandy_tuskers_json.zip</td></tr><tr><td>Kandy Warriors</td><td>https://cricsheet.org/downloads/kandy_warriors_json.zip</td></tr><tr><td>Karachi Kings</td><td>https://cricsheet.org/downloads/karachi_kings_json.zip</td></tr><tr><td>Karnali Yaks</td><td>https://cricsheet.org/downloads/karnali_yaks_json.zip</td></tr><tr><td>Karnataka</td><td>https://cricsheet.org/downloads/karnataka_json.zip</td></tr><tr><td>Kathmandu Gurkhas</td><td>https://cricsheet.org/downloads/kathmandu_gurkhas_json.zip</td></tr><tr><td>Kent</td><td>https://cricsheet.org/downloads/kent_json.zip</td></tr><tr><td>Kerala</td><td>https://cricsheet.org/downloads/kerala_json.zip</td></tr><tr><td>Khulna Royal Bengals</td><td>https://cricsheet.org/downloads/khulna_royal_bengals_json.zip</td></tr><tr><td>Khulna Tigers</td><td>https://cricsheet.org/downloads/khulna_tigers_json.zip</td></tr><tr><td>Khulna Titans</td><td>https://cricsheet.org/downloads/khulna_titans_json.zip</td></tr><tr><td>Kings XI Punjab</td><td>https://cricsheet.org/downloads/kings_xi_punjab_json.zip</td></tr><tr><td>Knights</td><td>https://cricsheet.org/downloads/knights_json.zip</td></tr><tr><td>Kochi Tuskers Kerala</td><td>https://cricsheet.org/downloads/kochi_tuskers_kerala_json.zip</td></tr><tr><td>Kolkata Knight Riders</td><td>https://cricsheet.org/downloads/kolkata_knight_riders_json.zip</td></tr><tr><td>KwaZulu-Natal Inland</td><td>https://cricsheet.org/downloads/kwazulu-natal_inland_json.zip</td></tr><tr><td>Lahore Qalandars</td><td>https://cricsheet.org/downloads/lahore_qalandars_json.zip</td></tr><tr><td>Lancashire</td><td>https://cricsheet.org/downloads/lancashire_json.zip</td></tr><tr><td>Lancashire Thunder</td><td>https://cricsheet.org/downloads/lancashire_thunder_json.zip</td></tr><tr><td>Leeward Islands</td><td>https://cricsheet.org/downloads/leeward_islands_json.zip</td></tr><tr><td>Leicestershire</td><td>https://cricsheet.org/downloads/leicestershire_json.zip</td></tr><tr><td>Leinster Lightning</td><td>https://cricsheet.org/downloads/leinster_lightning_json.zip</td></tr><tr><td>Lightning</td><td>https://cricsheet.org/downloads/lightning_json.zip</td></tr><tr><td>Lions</td><td>https://cricsheet.org/downloads/lions_json.zip</td></tr><tr><td>London Spirit</td><td>https://cricsheet.org/downloads/london_spirit_json.zip</td></tr><tr><td>Los Angeles Knight Riders</td><td>https://cricsheet.org/downloads/los_angeles_knight_riders_json.zip</td></tr><tr><td>Loughborough Lightning</td><td>https://cricsheet.org/downloads/loughborough_lightning_json.zip</td></tr><tr><td>Lucknow Super Giants</td><td>https://cricsheet.org/downloads/lucknow_super_giants_json.zip</td></tr><tr><td>Lumbini Lions</td><td>https://cricsheet.org/downloads/lumbini_lions_json.zip</td></tr><tr><td>MI Cape Town</td><td>https://cricsheet.org/downloads/mi_cape_town_json.zip</td></tr><tr><td>MI Emirates</td><td>https://cricsheet.org/downloads/mi_emirates_json.zip</td></tr><tr><td>MI New York</td><td>https://cricsheet.org/downloads/mi_new_york_json.zip</td></tr><tr><td>Madhya Pradesh</td><td>https://cricsheet.org/downloads/madhya_pradesh_json.zip</td></tr><tr><td>Maharashtra</td><td>https://cricsheet.org/downloads/maharashtra_json.zip</td></tr><tr><td>Manchester Originals</td><td>https://cricsheet.org/downloads/manchester_originals_json.zip</td></tr><tr><td>Manipur</td><td>https://cricsheet.org/downloads/manipur_json.zip</td></tr><tr><td>Meghalaya</td><td>https://cricsheet.org/downloads/meghalaya_json.zip</td></tr><tr><td>Melbourne Renegades</td><td>https://cricsheet.org/downloads/melbourne_renegades_json.zip</td></tr><tr><td>Melbourne Stars</td><td>https://cricsheet.org/downloads/melbourne_stars_json.zip</td></tr><tr><td>Middlesex</td><td>https://cricsheet.org/downloads/middlesex_json.zip</td></tr><tr><td>Minister Group Dhaka</td><td>https://cricsheet.org/downloads/minister_group_dhaka_json.zip</td></tr><tr><td>Mizoram</td><td>https://cricsheet.org/downloads/mizoram_json.zip</td></tr><tr><td>Multan Sultans</td><td>https://cricsheet.org/downloads/multan_sultans_json.zip</td></tr><tr><td>Mumbai</td><td>https://cricsheet.org/downloads/mumbai_json.zip</td></tr><tr><td>Mumbai Indians</td><td>https://cricsheet.org/downloads/mumbai_indians_json.zip</td></tr><tr><td>Munster Reds</td><td>https://cricsheet.org/downloads/munster_reds_json.zip</td></tr><tr><td>Nagaland</td><td>https://cricsheet.org/downloads/nagaland_json.zip</td></tr><tr><td>Nelson Mandela Bay Giants</td><td>https://cricsheet.org/downloads/nelson_mandela_bay_giants_json.zip</td></tr><tr><td>New South Wales</td><td>https://cricsheet.org/downloads/new_south_wales_json.zip</td></tr><tr><td>North West</td><td>https://cricsheet.org/downloads/north_west_json.zip</td></tr><tr><td>North West Warriors</td><td>https://cricsheet.org/downloads/north_west_warriors_json.zip</td></tr><tr><td>North-West Warriors</td><td>https://cricsheet.org/downloads/north-west_warriors_json.zip</td></tr><tr><td>Northamptonshire</td><td>https://cricsheet.org/downloads/northamptonshire_json.zip</td></tr><tr><td>Northern Diamonds</td><td>https://cricsheet.org/downloads/northern_diamonds_json.zip</td></tr><tr><td>Northern Districts</td><td>https://cricsheet.org/downloads/northern_districts_json.zip</td></tr><tr><td>Northern Knights</td><td>https://cricsheet.org/downloads/northern_knights_json.zip</td></tr><tr><td>Northern Superchargers</td><td>https://cricsheet.org/downloads/northern_superchargers_json.zip</td></tr><tr><td>Nottinghamshire</td><td>https://cricsheet.org/downloads/nottinghamshire_json.zip</td></tr><tr><td>Odisha</td><td>https://cricsheet.org/downloads/odisha_json.zip</td></tr><tr><td>Otago</td><td>https://cricsheet.org/downloads/otago_json.zip</td></tr><tr><td>Otago Volts</td><td>https://cricsheet.org/downloads/otago_volts_json.zip</td></tr><tr><td>Oval Invincibles</td><td>https://cricsheet.org/downloads/oval_invincibles_json.zip</td></tr><tr><td>Paarl Rocks</td><td>https://cricsheet.org/downloads/paarl_rocks_json.zip</td></tr><tr><td>Paarl Royals</td><td>https://cricsheet.org/downloads/paarl_royals_json.zip</td></tr><tr><td>Perth Scorchers</td><td>https://cricsheet.org/downloads/perth_scorchers_json.zip</td></tr><tr><td>Peshawar Zalmi</td><td>https://cricsheet.org/downloads/peshawar_zalmi_json.zip</td></tr><tr><td>Pokhara Avengers</td><td>https://cricsheet.org/downloads/pokhara_avengers_json.zip</td></tr><tr><td>Pretoria Capitals</td><td>https://cricsheet.org/downloads/pretoria_capitals_json.zip</td></tr><tr><td>Puducherry</td><td>https://cricsheet.org/downloads/puducherry_json.zip</td></tr><tr><td>Pune Warriors</td><td>https://cricsheet.org/downloads/pune_warriors_json.zip</td></tr><tr><td>Punjab</td><td>https://cricsheet.org/downloads/punjab_json.zip</td></tr><tr><td>Punjab Kings</td><td>https://cricsheet.org/downloads/punjab_kings_json.zip</td></tr><tr><td>Queensland</td><td>https://cricsheet.org/downloads/queensland_json.zip</td></tr><tr><td>Quetta Gladiators</td><td>https://cricsheet.org/downloads/quetta_gladiators_json.zip</td></tr><tr><td>Railways</td><td>https://cricsheet.org/downloads/railways_json.zip</td></tr><tr><td>Rajasthan</td><td>https://cricsheet.org/downloads/rajasthan_json.zip</td></tr><tr><td>Rajasthan Royals</td><td>https://cricsheet.org/downloads/rajasthan_royals_json.zip</td></tr><tr><td>Rajshahi Kings</td><td>https://cricsheet.org/downloads/rajshahi_kings_json.zip</td></tr><tr><td>Rajshahi Royals</td><td>https://cricsheet.org/downloads/rajshahi_royals_json.zip</td></tr><tr><td>Rangpur Rangers</td><td>https://cricsheet.org/downloads/rangpur_rangers_json.zip</td></tr><tr><td>Rangpur Riders</td><td>https://cricsheet.org/downloads/rangpur_riders_json.zip</td></tr><tr><td>Rising Pune Supergiant</td><td>https://cricsheet.org/downloads/rising_pune_supergiant_json.zip</td></tr><tr><td>Rising Pune Supergiants</td><td>https://cricsheet.org/downloads/rising_pune_supergiants_json.zip</td></tr><tr><td>Royal Challengers Bangalore</td><td>https://cricsheet.org/downloads/royal_challengers_bangalore_json.zip</td></tr><tr><td>Royal Challengers Bengaluru</td><td>https://cricsheet.org/downloads/royal_challengers_bengaluru_json.zip</td></tr><tr><td>San Francisco Unicorns</td><td>https://cricsheet.org/downloads/san_francisco_unicorns_json.zip</td></tr><tr><td>Sapphires</td><td>https://cricsheet.org/downloads/sapphires_json.zip</td></tr><tr><td>Saurashtra</td><td>https://cricsheet.org/downloads/saurashtra_json.zip</td></tr><tr><td>Seattle Orcas</td><td>https://cricsheet.org/downloads/seattle_orcas_json.zip</td></tr><tr><td>Services</td><td>https://cricsheet.org/downloads/services_json.zip</td></tr><tr><td>Sharjah Warriors</td><td>https://cricsheet.org/downloads/sharjah_warriors_json.zip</td></tr><tr><td>Sikkim</td><td>https://cricsheet.org/downloads/sikkim_json.zip</td></tr><tr><td>Somerset</td><td>https://cricsheet.org/downloads/somerset_json.zip</td></tr><tr><td>South Australia</td><td>https://cricsheet.org/downloads/south_australia_json.zip</td></tr><tr><td>South East Stars</td><td>https://cricsheet.org/downloads/south_east_stars_json.zip</td></tr><tr><td>Southern Brave</td><td>https://cricsheet.org/downloads/southern_brave_json.zip</td></tr><tr><td>Southern Vipers</td><td>https://cricsheet.org/downloads/southern_vipers_json.zip</td></tr><tr><td>Spirit</td><td>https://cricsheet.org/downloads/spirit_json.zip</td></tr><tr><td>St Kitts and Nevis Patriots</td><td>https://cricsheet.org/downloads/st_kitts_and_nevis_patriots_json.zip</td></tr><tr><td>St Lucia Kings</td><td>https://cricsheet.org/downloads/st_lucia_kings_json.zip</td></tr><tr><td>St Lucia Stars</td><td>https://cricsheet.org/downloads/st_lucia_stars_json.zip</td></tr><tr><td>St Lucia Zouks</td><td>https://cricsheet.org/downloads/st_lucia_zouks_json.zip</td></tr><tr><td>Sudur Paschim Royals</td><td>https://cricsheet.org/downloads/sudur_paschim_royals_json.zip</td></tr><tr><td>Sunrisers</td><td>https://cricsheet.org/downloads/sunrisers_json.zip</td></tr><tr><td>Sunrisers Eastern Cape</td><td>https://cricsheet.org/downloads/sunrisers_eastern_cape_json.zip</td></tr><tr><td>Sunrisers Hyderabad</td><td>https://cricsheet.org/downloads/sunrisers_hyderabad_json.zip</td></tr><tr><td>Supernovas</td><td>https://cricsheet.org/downloads/supernovas_json.zip</td></tr><tr><td>Surrey</td><td>https://cricsheet.org/downloads/surrey_json.zip</td></tr><tr><td>Surrey Stars</td><td>https://cricsheet.org/downloads/surrey_stars_json.zip</td></tr><tr><td>Sussex</td><td>https://cricsheet.org/downloads/sussex_json.zip</td></tr><tr><td>Sydney Sixers</td><td>https://cricsheet.org/downloads/sydney_sixers_json.zip</td></tr><tr><td>Sydney Thunder</td><td>https://cricsheet.org/downloads/sydney_thunder_json.zip</td></tr><tr><td>Sylhet Royals</td><td>https://cricsheet.org/downloads/sylhet_royals_json.zip</td></tr><tr><td>Sylhet Sixers</td><td>https://cricsheet.org/downloads/sylhet_sixers_json.zip</td></tr><tr><td>Sylhet Strikers</td><td>https://cricsheet.org/downloads/sylhet_strikers_json.zip</td></tr><tr><td>Sylhet Sunrisers</td><td>https://cricsheet.org/downloads/sylhet_sunrisers_json.zip</td></tr><tr><td>Sylhet Super Stars</td><td>https://cricsheet.org/downloads/sylhet_super_stars_json.zip</td></tr><tr><td>Sylhet Thunder</td><td>https://cricsheet.org/downloads/sylhet_thunder_json.zip</td></tr><tr><td>Tamil Nadu</td><td>https://cricsheet.org/downloads/tamil_nadu_json.zip</td></tr><tr><td>Tasmania</td><td>https://cricsheet.org/downloads/tasmania_json.zip</td></tr><tr><td>Texas Super Kings</td><td>https://cricsheet.org/downloads/texas_super_kings_json.zip</td></tr><tr><td>The Blaze</td><td>https://cricsheet.org/downloads/the_blaze_json.zip</td></tr><tr><td>Thunder</td><td>https://cricsheet.org/downloads/thunder_json.zip</td></tr><tr><td>Titans</td><td>https://cricsheet.org/downloads/titans_json.zip</td></tr><tr><td>Tornadoes</td><td>https://cricsheet.org/downloads/tornadoes_json.zip</td></tr><tr><td>Trailblazers</td><td>https://cricsheet.org/downloads/trailblazers_json.zip</td></tr><tr><td>Trent Rockets</td><td>https://cricsheet.org/downloads/trent_rockets_json.zip</td></tr><tr><td>Trinbago Knight Riders</td><td>https://cricsheet.org/downloads/trinbago_knight_riders_json.zip</td></tr><tr><td>Trinidad & Tobago Red Steel</td><td>https://cricsheet.org/downloads/trinidad_&_tobago_red_steel_json.zip</td></tr><tr><td>Trinidad and Tobago</td><td>https://cricsheet.org/downloads/trinidad_and_tobago_json.zip</td></tr><tr><td>Tripura</td><td>https://cricsheet.org/downloads/tripura_json.zip</td></tr><tr><td>Tshwane Spartans</td><td>https://cricsheet.org/downloads/tshwane_spartans_json.zip</td></tr><tr><td>UP Warriorz</td><td>https://cricsheet.org/downloads/up_warriorz_json.zip</td></tr><tr><td>Uttar Pradesh</td><td>https://cricsheet.org/downloads/uttar_pradesh_json.zip</td></tr><tr><td>Uttarakhand</td><td>https://cricsheet.org/downloads/uttarakhand_json.zip</td></tr><tr><td>Velocity</td><td>https://cricsheet.org/downloads/velocity_json.zip</td></tr><tr><td>Victoria</td><td>https://cricsheet.org/downloads/victoria_json.zip</td></tr><tr><td>Vidarbha</td><td>https://cricsheet.org/downloads/vidarbha_json.zip</td></tr><tr><td>Warriors</td><td>https://cricsheet.org/downloads/warriors_json.zip</td></tr><tr><td>Warriors (FairBreak)</td><td>https://cricsheet.org/downloads/warriors_%28fairbreak%29_json.zip</td></tr><tr><td>Warwickshire</td><td>https://cricsheet.org/downloads/warwickshire_json.zip</td></tr><tr><td>Washington Freedom</td><td>https://cricsheet.org/downloads/washington_freedom_json.zip</td></tr><tr><td>Wellington</td><td>https://cricsheet.org/downloads/wellington_json.zip</td></tr><tr><td>Wellington Firebirds</td><td>https://cricsheet.org/downloads/wellington_firebirds_json.zip</td></tr><tr><td>Welsh Fire</td><td>https://cricsheet.org/downloads/welsh_fire_json.zip</td></tr><tr><td>Western Australia</td><td>https://cricsheet.org/downloads/western_australia_json.zip</td></tr><tr><td>Western Province</td><td>https://cricsheet.org/downloads/western_province_json.zip</td></tr><tr><td>Western Storm</td><td>https://cricsheet.org/downloads/western_storm_json.zip</td></tr><tr><td>Windward Islands</td><td>https://cricsheet.org/downloads/windward_islands_json.zip</td></tr><tr><td>Worcestershire</td><td>https://cricsheet.org/downloads/worcestershire_json.zip</td></tr><tr><td>Yorkshire</td><td>https://cricsheet.org/downloads/yorkshire_json.zip</td></tr><tr><td>Yorkshire Diamonds</td><td>https://cricsheet.org/downloads/yorkshire_diamonds_json.zip</td></tr><tr><td>Africa XI</td><td>https://cricsheet.org/downloads/africa_xi_json.zip</td></tr><tr><td>Asia XI</td><td>https://cricsheet.org/downloads/asia_xi_json.zip</td></tr><tr><td>ICC World XI</td><td>https://cricsheet.org/downloads/icc_world_xi_json.zip</td></tr></tbody></table></div>"
      ]
     },
     "metadata": {
      "application/vnd.databricks.v1+output": {
       "addedWidgets": {},
       "aggData": [],
       "aggError": "",
       "aggOverflow": false,
       "aggSchema": [],
       "aggSeriesLimitReached": false,
       "aggType": "",
       "arguments": {},
       "columnCustomDisplayInfos": {},
       "data": [
        [
         "Added in the previous 2 days",
         "https://cricsheet.org/downloads/recently_added_2_json.zip"
        ],
        [
         "Added in the previous 7 days",
         "https://cricsheet.org/downloads/recently_added_7_json.zip"
        ],
        [
         "Added in the previous 30 days",
         "https://cricsheet.org/downloads/recently_added_30_json.zip"
        ],
        [
         "Played in the previous 2 days",
         "https://cricsheet.org/downloads/recently_played_2_json.zip"
        ],
        [
         "Played in the previous 7 days",
         "https://cricsheet.org/downloads/recently_played_7_json.zip"
        ],
        [
         "Played in the previous 30 days",
         "https://cricsheet.org/downloads/recently_played_30_json.zip"
        ],
        [
         "All matches",
         "https://cricsheet.org/downloads/all_json.zip"
        ],
        [
         "Test matches",
         "https://cricsheet.org/downloads/tests_json.zip"
        ],
        [
         "Multi-day matches",
         "https://cricsheet.org/downloads/mdms_json.zip"
        ],
        [
         "One-day internationals",
         "https://cricsheet.org/downloads/odis_json.zip"
        ],
        [
         "One-day matches",
         "https://cricsheet.org/downloads/odms_json.zip"
        ],
        [
         "T20 internationals",
         "https://cricsheet.org/downloads/t20s_json.zip"
        ],
        [
         "Non-official T20 internationals",
         "https://cricsheet.org/downloads/it20s_json.zip"
        ],
        [
         "Big Bash League",
         "https://cricsheet.org/downloads/bbl_json.zip"
        ],
        [
         "T20 Blaze",
         "https://cricsheet.org/downloads/blz_json.zip"
        ],
        [
         "Bangladesh Premier League",
         "https://cricsheet.org/downloads/bpl_json.zip"
        ],
        [
         "Bob Willis Trophy",
         "https://cricsheet.org/downloads/bwt_json.zip"
        ],
        [
         "County Championship",
         "https://cricsheet.org/downloads/cch_json.zip"
        ],
        [
         "Charlotte Edwards Cup",
         "https://cricsheet.org/downloads/cec_json.zip"
        ],
        [
         "Caribbean Premier League",
         "https://cricsheet.org/downloads/cpl_json.zip"
        ],
        [
         "CSA T20 Challenge",
         "https://cricsheet.org/downloads/ctc_json.zip"
        ],
        [
         "FairBreak Invitational Tournament",
         "https://cricsheet.org/downloads/frb_json.zip"
        ],
        [
         "The Hundred",
         "https://cricsheet.org/downloads/hnd_json.zip"
        ],
        [
         "International League T20",
         "https://cricsheet.org/downloads/ilt_json.zip"
        ],
        [
         "Indian Premier League",
         "https://cricsheet.org/downloads/ipl_json.zip"
        ],
        [
         "Cricket Ireland Inter-Provincial Limited Over Cup",
         "https://cricsheet.org/downloads/ipo_json.zip"
        ],
        [
         "Cricket Ireland Inter-Provincial Twenty20 Trophy",
         "https://cricsheet.org/downloads/ipt_json.zip"
        ],
        [
         "Lanka Premier League",
         "https://cricsheet.org/downloads/lpl_json.zip"
        ],
        [
         "Major League Cricket",
         "https://cricsheet.org/downloads/mlc_json.zip"
        ],
        [
         "Mzansi Super League",
         "https://cricsheet.org/downloads/msl_json.zip"
        ],
        [
         "Nepal Premier League",
         "https://cricsheet.org/downloads/npl_json.zip"
        ],
        [
         "T20 Blast",
         "https://cricsheet.org/downloads/ntb_json.zip"
        ],
        [
         "Plunket Shield",
         "https://cricsheet.org/downloads/pks_json.zip"
        ],
        [
         "Pakistan Super League",
         "https://cricsheet.org/downloads/psl_json.zip"
        ],
        [
         "Rachael Heyhoe Flint Trophy",
         "https://cricsheet.org/downloads/rhf_json.zip"
        ],
        [
         "One-Day Cup",
         "https://cricsheet.org/downloads/rlc_json.zip"
        ],
        [
         "SA20",
         "https://cricsheet.org/downloads/sat_json.zip"
        ],
        [
         "Super 50",
         "https://cricsheet.org/downloads/sft_json.zip"
        ],
        [
         "Syed Mushtaq Ali Trophy",
         "https://cricsheet.org/downloads/sma_json.zip"
        ],
        [
         "Sheffield Shield",
         "https://cricsheet.org/downloads/ssh_json.zip"
        ],
        [
         "Super Smash",
         "https://cricsheet.org/downloads/ssm_json.zip"
        ],
        [
         "Women's Big Bash League",
         "https://cricsheet.org/downloads/wbb_json.zip"
        ],
        [
         "Women's Caribbean Premier League",
         "https://cricsheet.org/downloads/wcl_json.zip"
        ],
        [
         "Women's Premier League",
         "https://cricsheet.org/downloads/wpl_json.zip"
        ],
        [
         "Women's Cricket Super League",
         "https://cricsheet.org/downloads/wsl_json.zip"
        ],
        [
         "Women's T20 Challenge",
         "https://cricsheet.org/downloads/wtc_json.zip"
        ],
        [
         "ICC Men's Cricket World Cup",
         "https://cricsheet.org/downloads/icc_mens_cricket_world_cup_json.zip"
        ],
        [
         "ICC Men's T20 World Cup",
         "https://cricsheet.org/downloads/icc_mens_t20_world_cup_json.zip"
        ],
        [
         "ICC Women's Cricket World Cup",
         "https://cricsheet.org/downloads/icc_womens_cricket_world_cup_json.zip"
        ],
        [
         "ICC Women's T20 World Cup",
         "https://cricsheet.org/downloads/icc_womens_t20_world_cup_json.zip"
        ],
        [
         "2001",
         "https://cricsheet.org/downloads/2001_json.zip"
        ],
        [
         "2002",
         "https://cricsheet.org/downloads/2002_json.zip"
        ],
        [
         "2003",
         "https://cricsheet.org/downloads/2003_json.zip"
        ],
        [
         "2004",
         "https://cricsheet.org/downloads/2004_json.zip"
        ],
        [
         "2005",
         "https://cricsheet.org/downloads/2005_json.zip"
        ],
        [
         "2006",
         "https://cricsheet.org/downloads/2006_json.zip"
        ],
        [
         "2007",
         "https://cricsheet.org/downloads/2007_json.zip"
        ],
        [
         "2008",
         "https://cricsheet.org/downloads/2008_json.zip"
        ],
        [
         "2009",
         "https://cricsheet.org/downloads/2009_json.zip"
        ],
        [
         "2010",
         "https://cricsheet.org/downloads/2010_json.zip"
        ],
        [
         "2011",
         "https://cricsheet.org/downloads/2011_json.zip"
        ],
        [
         "2012",
         "https://cricsheet.org/downloads/2012_json.zip"
        ],
        [
         "2013",
         "https://cricsheet.org/downloads/2013_json.zip"
        ],
        [
         "2014",
         "https://cricsheet.org/downloads/2014_json.zip"
        ],
        [
         "2015",
         "https://cricsheet.org/downloads/2015_json.zip"
        ],
        [
         "2016",
         "https://cricsheet.org/downloads/2016_json.zip"
        ],
        [
         "2017",
         "https://cricsheet.org/downloads/2017_json.zip"
        ],
        [
         "2018",
         "https://cricsheet.org/downloads/2018_json.zip"
        ],
        [
         "2019",
         "https://cricsheet.org/downloads/2019_json.zip"
        ],
        [
         "2020",
         "https://cricsheet.org/downloads/2020_json.zip"
        ],
        [
         "2021",
         "https://cricsheet.org/downloads/2021_json.zip"
        ],
        [
         "2022",
         "https://cricsheet.org/downloads/2022_json.zip"
        ],
        [
         "2023",
         "https://cricsheet.org/downloads/2023_json.zip"
        ],
        [
         "2024",
         "https://cricsheet.org/downloads/2024_json.zip"
        ],
        [
         "2025",
         "https://cricsheet.org/downloads/2025_json.zip"
        ],
        [
         "Argentina",
         "https://cricsheet.org/downloads/argentina_json.zip"
        ],
        [
         "Australia",
         "https://cricsheet.org/downloads/australia_json.zip"
        ],
        [
         "Austria",
         "https://cricsheet.org/downloads/austria_json.zip"
        ],
        [
         "Bahamas",
         "https://cricsheet.org/downloads/bahamas_json.zip"
        ],
        [
         "Bahrain",
         "https://cricsheet.org/downloads/bahrain_json.zip"
        ],
        [
         "Bangladesh",
         "https://cricsheet.org/downloads/bangladesh_json.zip"
        ],
        [
         "Barbados",
         "https://cricsheet.org/downloads/barbados_json.zip"
        ],
        [
         "Belgium",
         "https://cricsheet.org/downloads/belgium_json.zip"
        ],
        [
         "Belize",
         "https://cricsheet.org/downloads/belize_json.zip"
        ],
        [
         "Bermuda",
         "https://cricsheet.org/downloads/bermuda_json.zip"
        ],
        [
         "Bhutan",
         "https://cricsheet.org/downloads/bhutan_json.zip"
        ],
        [
         "Botswana",
         "https://cricsheet.org/downloads/botswana_json.zip"
        ],
        [
         "Brazil",
         "https://cricsheet.org/downloads/brazil_json.zip"
        ],
        [
         "Bulgaria",
         "https://cricsheet.org/downloads/bulgaria_json.zip"
        ],
        [
         "Cambodia",
         "https://cricsheet.org/downloads/cambodia_json.zip"
        ],
        [
         "Cameroon",
         "https://cricsheet.org/downloads/cameroon_json.zip"
        ],
        [
         "Canada",
         "https://cricsheet.org/downloads/canada_json.zip"
        ],
        [
         "Cayman Islands",
         "https://cricsheet.org/downloads/cayman_islands_json.zip"
        ],
        [
         "Chile",
         "https://cricsheet.org/downloads/chile_json.zip"
        ],
        [
         "China",
         "https://cricsheet.org/downloads/china_json.zip"
        ],
        [
         "Cook Islands",
         "https://cricsheet.org/downloads/cook_islands_json.zip"
        ],
        [
         "Costa Rica",
         "https://cricsheet.org/downloads/costa_rica_json.zip"
        ],
        [
         "Croatia",
         "https://cricsheet.org/downloads/croatia_json.zip"
        ],
        [
         "Cyprus",
         "https://cricsheet.org/downloads/cyprus_json.zip"
        ],
        [
         "Czech Republic",
         "https://cricsheet.org/downloads/czech_republic_json.zip"
        ],
        [
         "Denmark",
         "https://cricsheet.org/downloads/denmark_json.zip"
        ],
        [
         "England",
         "https://cricsheet.org/downloads/england_json.zip"
        ],
        [
         "Estonia",
         "https://cricsheet.org/downloads/estonia_json.zip"
        ],
        [
         "Eswatini",
         "https://cricsheet.org/downloads/eswatini_json.zip"
        ],
        [
         "Fiji",
         "https://cricsheet.org/downloads/fiji_json.zip"
        ],
        [
         "Finland",
         "https://cricsheet.org/downloads/finland_json.zip"
        ],
        [
         "France",
         "https://cricsheet.org/downloads/france_json.zip"
        ],
        [
         "Gambia",
         "https://cricsheet.org/downloads/gambia_json.zip"
        ],
        [
         "Germany",
         "https://cricsheet.org/downloads/germany_json.zip"
        ],
        [
         "Ghana",
         "https://cricsheet.org/downloads/ghana_json.zip"
        ],
        [
         "Gibraltar",
         "https://cricsheet.org/downloads/gibraltar_json.zip"
        ],
        [
         "Greece",
         "https://cricsheet.org/downloads/greece_json.zip"
        ],
        [
         "Guernsey",
         "https://cricsheet.org/downloads/guernsey_json.zip"
        ],
        [
         "Hong Kong",
         "https://cricsheet.org/downloads/hong_kong_json.zip"
        ],
        [
         "Hungary",
         "https://cricsheet.org/downloads/hungary_json.zip"
        ],
        [
         "India",
         "https://cricsheet.org/downloads/india_json.zip"
        ],
        [
         "Indonesia",
         "https://cricsheet.org/downloads/indonesia_json.zip"
        ],
        [
         "Iran",
         "https://cricsheet.org/downloads/iran_json.zip"
        ],
        [
         "Ireland",
         "https://cricsheet.org/downloads/ireland_json.zip"
        ],
        [
         "Isle of Man",
         "https://cricsheet.org/downloads/isle_of_man_json.zip"
        ],
        [
         "Israel",
         "https://cricsheet.org/downloads/israel_json.zip"
        ],
        [
         "Italy",
         "https://cricsheet.org/downloads/italy_json.zip"
        ],
        [
         "Ivory Coast",
         "https://cricsheet.org/downloads/ivory_coast_json.zip"
        ],
        [
         "Japan",
         "https://cricsheet.org/downloads/japan_json.zip"
        ],
        [
         "Jersey",
         "https://cricsheet.org/downloads/jersey_json.zip"
        ],
        [
         "Kenya",
         "https://cricsheet.org/downloads/kenya_json.zip"
        ],
        [
         "Kuwait",
         "https://cricsheet.org/downloads/kuwait_json.zip"
        ],
        [
         "Lesotho",
         "https://cricsheet.org/downloads/lesotho_json.zip"
        ],
        [
         "Luxembourg",
         "https://cricsheet.org/downloads/luxembourg_json.zip"
        ],
        [
         "Malawi",
         "https://cricsheet.org/downloads/malawi_json.zip"
        ],
        [
         "Malaysia",
         "https://cricsheet.org/downloads/malaysia_json.zip"
        ],
        [
         "Maldives",
         "https://cricsheet.org/downloads/maldives_json.zip"
        ],
        [
         "Mali",
         "https://cricsheet.org/downloads/mali_json.zip"
        ],
        [
         "Malta",
         "https://cricsheet.org/downloads/malta_json.zip"
        ],
        [
         "Mexico",
         "https://cricsheet.org/downloads/mexico_json.zip"
        ],
        [
         "Mongolia",
         "https://cricsheet.org/downloads/mongolia_json.zip"
        ],
        [
         "Mozambique",
         "https://cricsheet.org/downloads/mozambique_json.zip"
        ],
        [
         "Myanmar",
         "https://cricsheet.org/downloads/myanmar_json.zip"
        ],
        [
         "Namibia",
         "https://cricsheet.org/downloads/namibia_json.zip"
        ],
        [
         "Nepal",
         "https://cricsheet.org/downloads/nepal_json.zip"
        ],
        [
         "Netherlands",
         "https://cricsheet.org/downloads/netherlands_json.zip"
        ],
        [
         "New Zealand",
         "https://cricsheet.org/downloads/new_zealand_json.zip"
        ],
        [
         "Nigeria",
         "https://cricsheet.org/downloads/nigeria_json.zip"
        ],
        [
         "Norway",
         "https://cricsheet.org/downloads/norway_json.zip"
        ],
        [
         "Oman",
         "https://cricsheet.org/downloads/oman_json.zip"
        ],
        [
         "Pakistan",
         "https://cricsheet.org/downloads/pakistan_json.zip"
        ],
        [
         "Panama",
         "https://cricsheet.org/downloads/panama_json.zip"
        ],
        [
         "Papua New Guinea",
         "https://cricsheet.org/downloads/papua_new_guinea_json.zip"
        ],
        [
         "Philippines",
         "https://cricsheet.org/downloads/philippines_json.zip"
        ],
        [
         "Portugal",
         "https://cricsheet.org/downloads/portugal_json.zip"
        ],
        [
         "Qatar",
         "https://cricsheet.org/downloads/qatar_json.zip"
        ],
        [
         "Romania",
         "https://cricsheet.org/downloads/romania_json.zip"
        ],
        [
         "Rwanda",
         "https://cricsheet.org/downloads/rwanda_json.zip"
        ],
        [
         "Samoa",
         "https://cricsheet.org/downloads/samoa_json.zip"
        ],
        [
         "Saudi Arabia",
         "https://cricsheet.org/downloads/saudi_arabia_json.zip"
        ],
        [
         "Scotland",
         "https://cricsheet.org/downloads/scotland_json.zip"
        ],
        [
         "Serbia",
         "https://cricsheet.org/downloads/serbia_json.zip"
        ],
        [
         "Seychelles",
         "https://cricsheet.org/downloads/seychelles_json.zip"
        ],
        [
         "Sierra Leone",
         "https://cricsheet.org/downloads/sierra_leone_json.zip"
        ],
        [
         "Singapore",
         "https://cricsheet.org/downloads/singapore_json.zip"
        ],
        [
         "Slovenia",
         "https://cricsheet.org/downloads/slovenia_json.zip"
        ],
        [
         "South Africa",
         "https://cricsheet.org/downloads/south_africa_json.zip"
        ],
        [
         "South Korea",
         "https://cricsheet.org/downloads/south_korea_json.zip"
        ],
        [
         "Spain",
         "https://cricsheet.org/downloads/spain_json.zip"
        ],
        [
         "Sri Lanka",
         "https://cricsheet.org/downloads/sri_lanka_json.zip"
        ],
        [
         "St Helena",
         "https://cricsheet.org/downloads/st_helena_json.zip"
        ],
        [
         "Suriname",
         "https://cricsheet.org/downloads/suriname_json.zip"
        ],
        [
         "Swaziland",
         "https://cricsheet.org/downloads/swaziland_json.zip"
        ],
        [
         "Sweden",
         "https://cricsheet.org/downloads/sweden_json.zip"
        ],
        [
         "Switzerland",
         "https://cricsheet.org/downloads/switzerland_json.zip"
        ],
        [
         "Tanzania",
         "https://cricsheet.org/downloads/tanzania_json.zip"
        ],
        [
         "Thailand",
         "https://cricsheet.org/downloads/thailand_json.zip"
        ],
        [
         "Turkey",
         "https://cricsheet.org/downloads/turkey_json.zip"
        ],
        [
         "Uganda",
         "https://cricsheet.org/downloads/uganda_json.zip"
        ],
        [
         "United Arab Emirates",
         "https://cricsheet.org/downloads/united_arab_emirates_json.zip"
        ],
        [
         "United States of America",
         "https://cricsheet.org/downloads/united_states_of_america_json.zip"
        ],
        [
         "Vanuatu",
         "https://cricsheet.org/downloads/vanuatu_json.zip"
        ],
        [
         "West Indies",
         "https://cricsheet.org/downloads/west_indies_json.zip"
        ],
        [
         "Zambia",
         "https://cricsheet.org/downloads/zambia_json.zip"
        ],
        [
         "Zimbabwe",
         "https://cricsheet.org/downloads/zimbabwe_json.zip"
        ],
        [
         "Abu Dhabi Knight Riders",
         "https://cricsheet.org/downloads/abu_dhabi_knight_riders_json.zip"
        ],
        [
         "Adelaide Strikers",
         "https://cricsheet.org/downloads/adelaide_strikers_json.zip"
        ],
        [
         "Andhra",
         "https://cricsheet.org/downloads/andhra_json.zip"
        ],
        [
         "Antigua Hawksbills",
         "https://cricsheet.org/downloads/antigua_hawksbills_json.zip"
        ],
        [
         "Antigua and Barbuda Falcons",
         "https://cricsheet.org/downloads/antigua_and_barbuda_falcons_json.zip"
        ],
        [
         "Arunachal Pradesh",
         "https://cricsheet.org/downloads/arunachal_pradesh_json.zip"
        ],
        [
         "Assam",
         "https://cricsheet.org/downloads/assam_json.zip"
        ],
        [
         "Auckland",
         "https://cricsheet.org/downloads/auckland_json.zip"
        ],
        [
         "Auckland Aces",
         "https://cricsheet.org/downloads/auckland_aces_json.zip"
        ],
        [
         "B-Love Kandy",
         "https://cricsheet.org/downloads/b-love_kandy_json.zip"
        ],
        [
         "Barbados",
         "https://cricsheet.org/downloads/barbados_json.zip"
        ],
        [
         "Barbados Royals",
         "https://cricsheet.org/downloads/barbados_royals_json.zip"
        ],
        [
         "Barbados Tridents",
         "https://cricsheet.org/downloads/barbados_tridents_json.zip"
        ],
        [
         "Barisal Bulls",
         "https://cricsheet.org/downloads/barisal_bulls_json.zip"
        ],
        [
         "Barisal Burners",
         "https://cricsheet.org/downloads/barisal_burners_json.zip"
        ],
        [
         "Barmy Army",
         "https://cricsheet.org/downloads/barmy_army_json.zip"
        ],
        [
         "Baroda",
         "https://cricsheet.org/downloads/baroda_json.zip"
        ],
        [
         "Bengal",
         "https://cricsheet.org/downloads/bengal_json.zip"
        ],
        [
         "Bihar",
         "https://cricsheet.org/downloads/bihar_json.zip"
        ],
        [
         "Biratnagar Kings",
         "https://cricsheet.org/downloads/biratnagar_kings_json.zip"
        ],
        [
         "Birmingham Bears",
         "https://cricsheet.org/downloads/birmingham_bears_json.zip"
        ],
        [
         "Birmingham Phoenix",
         "https://cricsheet.org/downloads/birmingham_phoenix_json.zip"
        ],
        [
         "Boland",
         "https://cricsheet.org/downloads/boland_json.zip"
        ],
        [
         "Brisbane Heat",
         "https://cricsheet.org/downloads/brisbane_heat_json.zip"
        ],
        [
         "Canterbury",
         "https://cricsheet.org/downloads/canterbury_json.zip"
        ],
        [
         "Cape Cobras",
         "https://cricsheet.org/downloads/cape_cobras_json.zip"
        ],
        [
         "Cape Town Blitz",
         "https://cricsheet.org/downloads/cape_town_blitz_json.zip"
        ],
        [
         "Central Districts",
         "https://cricsheet.org/downloads/central_districts_json.zip"
        ],
        [
         "Central Sparks",
         "https://cricsheet.org/downloads/central_sparks_json.zip"
        ],
        [
         "Central Stags",
         "https://cricsheet.org/downloads/central_stags_json.zip"
        ],
        [
         "Chandigarh",
         "https://cricsheet.org/downloads/chandigarh_json.zip"
        ],
        [
         "Chattogram Challengers",
         "https://cricsheet.org/downloads/chattogram_challengers_json.zip"
        ],
        [
         "Chennai Super Kings",
         "https://cricsheet.org/downloads/chennai_super_kings_json.zip"
        ],
        [
         "Chhattisgarh",
         "https://cricsheet.org/downloads/chhattisgarh_json.zip"
        ],
        [
         "Chittagong Kings",
         "https://cricsheet.org/downloads/chittagong_kings_json.zip"
        ],
        [
         "Chittagong Vikings",
         "https://cricsheet.org/downloads/chittagong_vikings_json.zip"
        ],
        [
         "Chitwan Rhinos",
         "https://cricsheet.org/downloads/chitwan_rhinos_json.zip"
        ],
        [
         "Colombo Kings",
         "https://cricsheet.org/downloads/colombo_kings_json.zip"
        ],
        [
         "Colombo Stars",
         "https://cricsheet.org/downloads/colombo_stars_json.zip"
        ],
        [
         "Colombo Strikers",
         "https://cricsheet.org/downloads/colombo_strikers_json.zip"
        ],
        [
         "Comilla Victorians",
         "https://cricsheet.org/downloads/comilla_victorians_json.zip"
        ],
        [
         "Cumilla Warriors",
         "https://cricsheet.org/downloads/cumilla_warriors_json.zip"
        ],
        [
         "Dambulla Aura",
         "https://cricsheet.org/downloads/dambulla_aura_json.zip"
        ],
        [
         "Dambulla Giants",
         "https://cricsheet.org/downloads/dambulla_giants_json.zip"
        ],
        [
         "Dambulla Sixers",
         "https://cricsheet.org/downloads/dambulla_sixers_json.zip"
        ],
        [
         "Dambulla Viiking",
         "https://cricsheet.org/downloads/dambulla_viiking_json.zip"
        ],
        [
         "Deccan Chargers",
         "https://cricsheet.org/downloads/deccan_chargers_json.zip"
        ],
        [
         "Delhi",
         "https://cricsheet.org/downloads/delhi_json.zip"
        ],
        [
         "Delhi Capitals",
         "https://cricsheet.org/downloads/delhi_capitals_json.zip"
        ],
        [
         "Delhi Daredevils",
         "https://cricsheet.org/downloads/delhi_daredevils_json.zip"
        ],
        [
         "Derbyshire",
         "https://cricsheet.org/downloads/derbyshire_json.zip"
        ],
        [
         "Desert Vipers",
         "https://cricsheet.org/downloads/desert_vipers_json.zip"
        ],
        [
         "Dhaka Capital",
         "https://cricsheet.org/downloads/dhaka_capital_json.zip"
        ],
        [
         "Dhaka Dominators",
         "https://cricsheet.org/downloads/dhaka_dominators_json.zip"
        ],
        [
         "Dhaka Dynamites",
         "https://cricsheet.org/downloads/dhaka_dynamites_json.zip"
        ],
        [
         "Dhaka Gladiators",
         "https://cricsheet.org/downloads/dhaka_gladiators_json.zip"
        ],
        [
         "Dhaka Platoon",
         "https://cricsheet.org/downloads/dhaka_platoon_json.zip"
        ],
        [
         "Dolphins",
         "https://cricsheet.org/downloads/dolphins_json.zip"
        ],
        [
         "Dubai Capitals",
         "https://cricsheet.org/downloads/dubai_capitals_json.zip"
        ],
        [
         "Durban Heat",
         "https://cricsheet.org/downloads/durban_heat_json.zip"
        ],
        [
         "Durban's Super Giants",
         "https://cricsheet.org/downloads/durban%27s_super_giants_json.zip"
        ],
        [
         "Durbar Rajshahi",
         "https://cricsheet.org/downloads/durbar_rajshahi_json.zip"
        ],
        [
         "Durdanto Dhaka",
         "https://cricsheet.org/downloads/durdanto_dhaka_json.zip"
        ],
        [
         "Durham",
         "https://cricsheet.org/downloads/durham_json.zip"
        ],
        [
         "Duronto Rajshahi",
         "https://cricsheet.org/downloads/duronto_rajshahi_json.zip"
        ],
        [
         "Essex",
         "https://cricsheet.org/downloads/essex_json.zip"
        ],
        [
         "Falcons",
         "https://cricsheet.org/downloads/falcons_json.zip"
        ],
        [
         "Fortune Barishal",
         "https://cricsheet.org/downloads/fortune_barishal_json.zip"
        ],
        [
         "Galle Gladiators",
         "https://cricsheet.org/downloads/galle_gladiators_json.zip"
        ],
        [
         "Galle Marvels",
         "https://cricsheet.org/downloads/galle_marvels_json.zip"
        ],
        [
         "Galle Titans",
         "https://cricsheet.org/downloads/galle_titans_json.zip"
        ],
        [
         "Glamorgan",
         "https://cricsheet.org/downloads/glamorgan_json.zip"
        ],
        [
         "Gloucestershire",
         "https://cricsheet.org/downloads/gloucestershire_json.zip"
        ],
        [
         "Goa",
         "https://cricsheet.org/downloads/goa_json.zip"
        ],
        [
         "Gujarat",
         "https://cricsheet.org/downloads/gujarat_json.zip"
        ],
        [
         "Gujarat Giants",
         "https://cricsheet.org/downloads/gujarat_giants_json.zip"
        ],
        [
         "Gujarat Lions",
         "https://cricsheet.org/downloads/gujarat_lions_json.zip"
        ],
        [
         "Gujarat Titans",
         "https://cricsheet.org/downloads/gujarat_titans_json.zip"
        ],
        [
         "Gulf Giants",
         "https://cricsheet.org/downloads/gulf_giants_json.zip"
        ],
        [
         "Guyana",
         "https://cricsheet.org/downloads/guyana_json.zip"
        ],
        [
         "Guyana Amazon Warriors",
         "https://cricsheet.org/downloads/guyana_amazon_warriors_json.zip"
        ],
        [
         "Hampshire",
         "https://cricsheet.org/downloads/hampshire_json.zip"
        ],
        [
         "Haryana",
         "https://cricsheet.org/downloads/haryana_json.zip"
        ],
        [
         "Himachal",
         "https://cricsheet.org/downloads/himachal_json.zip"
        ],
        [
         "Himachal Pradesh",
         "https://cricsheet.org/downloads/himachal_pradesh_json.zip"
        ],
        [
         "Hobart Hurricanes",
         "https://cricsheet.org/downloads/hobart_hurricanes_json.zip"
        ],
        [
         "Hyderabad (India)",
         "https://cricsheet.org/downloads/hyderabad_%28india%29_json.zip"
        ],
        [
         "Impi",
         "https://cricsheet.org/downloads/impi_json.zip"
        ],
        [
         "Islamabad United",
         "https://cricsheet.org/downloads/islamabad_united_json.zip"
        ],
        [
         "Jaffna Kings",
         "https://cricsheet.org/downloads/jaffna_kings_json.zip"
        ],
        [
         "Jaffna Stallions",
         "https://cricsheet.org/downloads/jaffna_stallions_json.zip"
        ],
        [
         "Jamaica",
         "https://cricsheet.org/downloads/jamaica_json.zip"
        ],
        [
         "Jamaica Tallawahs",
         "https://cricsheet.org/downloads/jamaica_tallawahs_json.zip"
        ],
        [
         "Jammu & Kashmir",
         "https://cricsheet.org/downloads/jammu_&_kashmir_json.zip"
        ],
        [
         "Janakpur Bolts",
         "https://cricsheet.org/downloads/janakpur_bolts_json.zip"
        ],
        [
         "Jharkhand",
         "https://cricsheet.org/downloads/jharkhand_json.zip"
        ],
        [
         "Joburg Super Kings",
         "https://cricsheet.org/downloads/joburg_super_kings_json.zip"
        ],
        [
         "Jozi Stars",
         "https://cricsheet.org/downloads/jozi_stars_json.zip"
        ],
        [
         "Kandy Falcons",
         "https://cricsheet.org/downloads/kandy_falcons_json.zip"
        ],
        [
         "Kandy Tuskers",
         "https://cricsheet.org/downloads/kandy_tuskers_json.zip"
        ],
        [
         "Kandy Warriors",
         "https://cricsheet.org/downloads/kandy_warriors_json.zip"
        ],
        [
         "Karachi Kings",
         "https://cricsheet.org/downloads/karachi_kings_json.zip"
        ],
        [
         "Karnali Yaks",
         "https://cricsheet.org/downloads/karnali_yaks_json.zip"
        ],
        [
         "Karnataka",
         "https://cricsheet.org/downloads/karnataka_json.zip"
        ],
        [
         "Kathmandu Gurkhas",
         "https://cricsheet.org/downloads/kathmandu_gurkhas_json.zip"
        ],
        [
         "Kent",
         "https://cricsheet.org/downloads/kent_json.zip"
        ],
        [
         "Kerala",
         "https://cricsheet.org/downloads/kerala_json.zip"
        ],
        [
         "Khulna Royal Bengals",
         "https://cricsheet.org/downloads/khulna_royal_bengals_json.zip"
        ],
        [
         "Khulna Tigers",
         "https://cricsheet.org/downloads/khulna_tigers_json.zip"
        ],
        [
         "Khulna Titans",
         "https://cricsheet.org/downloads/khulna_titans_json.zip"
        ],
        [
         "Kings XI Punjab",
         "https://cricsheet.org/downloads/kings_xi_punjab_json.zip"
        ],
        [
         "Knights",
         "https://cricsheet.org/downloads/knights_json.zip"
        ],
        [
         "Kochi Tuskers Kerala",
         "https://cricsheet.org/downloads/kochi_tuskers_kerala_json.zip"
        ],
        [
         "Kolkata Knight Riders",
         "https://cricsheet.org/downloads/kolkata_knight_riders_json.zip"
        ],
        [
         "KwaZulu-Natal Inland",
         "https://cricsheet.org/downloads/kwazulu-natal_inland_json.zip"
        ],
        [
         "Lahore Qalandars",
         "https://cricsheet.org/downloads/lahore_qalandars_json.zip"
        ],
        [
         "Lancashire",
         "https://cricsheet.org/downloads/lancashire_json.zip"
        ],
        [
         "Lancashire Thunder",
         "https://cricsheet.org/downloads/lancashire_thunder_json.zip"
        ],
        [
         "Leeward Islands",
         "https://cricsheet.org/downloads/leeward_islands_json.zip"
        ],
        [
         "Leicestershire",
         "https://cricsheet.org/downloads/leicestershire_json.zip"
        ],
        [
         "Leinster Lightning",
         "https://cricsheet.org/downloads/leinster_lightning_json.zip"
        ],
        [
         "Lightning",
         "https://cricsheet.org/downloads/lightning_json.zip"
        ],
        [
         "Lions",
         "https://cricsheet.org/downloads/lions_json.zip"
        ],
        [
         "London Spirit",
         "https://cricsheet.org/downloads/london_spirit_json.zip"
        ],
        [
         "Los Angeles Knight Riders",
         "https://cricsheet.org/downloads/los_angeles_knight_riders_json.zip"
        ],
        [
         "Loughborough Lightning",
         "https://cricsheet.org/downloads/loughborough_lightning_json.zip"
        ],
        [
         "Lucknow Super Giants",
         "https://cricsheet.org/downloads/lucknow_super_giants_json.zip"
        ],
        [
         "Lumbini Lions",
         "https://cricsheet.org/downloads/lumbini_lions_json.zip"
        ],
        [
         "MI Cape Town",
         "https://cricsheet.org/downloads/mi_cape_town_json.zip"
        ],
        [
         "MI Emirates",
         "https://cricsheet.org/downloads/mi_emirates_json.zip"
        ],
        [
         "MI New York",
         "https://cricsheet.org/downloads/mi_new_york_json.zip"
        ],
        [
         "Madhya Pradesh",
         "https://cricsheet.org/downloads/madhya_pradesh_json.zip"
        ],
        [
         "Maharashtra",
         "https://cricsheet.org/downloads/maharashtra_json.zip"
        ],
        [
         "Manchester Originals",
         "https://cricsheet.org/downloads/manchester_originals_json.zip"
        ],
        [
         "Manipur",
         "https://cricsheet.org/downloads/manipur_json.zip"
        ],
        [
         "Meghalaya",
         "https://cricsheet.org/downloads/meghalaya_json.zip"
        ],
        [
         "Melbourne Renegades",
         "https://cricsheet.org/downloads/melbourne_renegades_json.zip"
        ],
        [
         "Melbourne Stars",
         "https://cricsheet.org/downloads/melbourne_stars_json.zip"
        ],
        [
         "Middlesex",
         "https://cricsheet.org/downloads/middlesex_json.zip"
        ],
        [
         "Minister Group Dhaka",
         "https://cricsheet.org/downloads/minister_group_dhaka_json.zip"
        ],
        [
         "Mizoram",
         "https://cricsheet.org/downloads/mizoram_json.zip"
        ],
        [
         "Multan Sultans",
         "https://cricsheet.org/downloads/multan_sultans_json.zip"
        ],
        [
         "Mumbai",
         "https://cricsheet.org/downloads/mumbai_json.zip"
        ],
        [
         "Mumbai Indians",
         "https://cricsheet.org/downloads/mumbai_indians_json.zip"
        ],
        [
         "Munster Reds",
         "https://cricsheet.org/downloads/munster_reds_json.zip"
        ],
        [
         "Nagaland",
         "https://cricsheet.org/downloads/nagaland_json.zip"
        ],
        [
         "Nelson Mandela Bay Giants",
         "https://cricsheet.org/downloads/nelson_mandela_bay_giants_json.zip"
        ],
        [
         "New South Wales",
         "https://cricsheet.org/downloads/new_south_wales_json.zip"
        ],
        [
         "North West",
         "https://cricsheet.org/downloads/north_west_json.zip"
        ],
        [
         "North West Warriors",
         "https://cricsheet.org/downloads/north_west_warriors_json.zip"
        ],
        [
         "North-West Warriors",
         "https://cricsheet.org/downloads/north-west_warriors_json.zip"
        ],
        [
         "Northamptonshire",
         "https://cricsheet.org/downloads/northamptonshire_json.zip"
        ],
        [
         "Northern Diamonds",
         "https://cricsheet.org/downloads/northern_diamonds_json.zip"
        ],
        [
         "Northern Districts",
         "https://cricsheet.org/downloads/northern_districts_json.zip"
        ],
        [
         "Northern Knights",
         "https://cricsheet.org/downloads/northern_knights_json.zip"
        ],
        [
         "Northern Superchargers",
         "https://cricsheet.org/downloads/northern_superchargers_json.zip"
        ],
        [
         "Nottinghamshire",
         "https://cricsheet.org/downloads/nottinghamshire_json.zip"
        ],
        [
         "Odisha",
         "https://cricsheet.org/downloads/odisha_json.zip"
        ],
        [
         "Otago",
         "https://cricsheet.org/downloads/otago_json.zip"
        ],
        [
         "Otago Volts",
         "https://cricsheet.org/downloads/otago_volts_json.zip"
        ],
        [
         "Oval Invincibles",
         "https://cricsheet.org/downloads/oval_invincibles_json.zip"
        ],
        [
         "Paarl Rocks",
         "https://cricsheet.org/downloads/paarl_rocks_json.zip"
        ],
        [
         "Paarl Royals",
         "https://cricsheet.org/downloads/paarl_royals_json.zip"
        ],
        [
         "Perth Scorchers",
         "https://cricsheet.org/downloads/perth_scorchers_json.zip"
        ],
        [
         "Peshawar Zalmi",
         "https://cricsheet.org/downloads/peshawar_zalmi_json.zip"
        ],
        [
         "Pokhara Avengers",
         "https://cricsheet.org/downloads/pokhara_avengers_json.zip"
        ],
        [
         "Pretoria Capitals",
         "https://cricsheet.org/downloads/pretoria_capitals_json.zip"
        ],
        [
         "Puducherry",
         "https://cricsheet.org/downloads/puducherry_json.zip"
        ],
        [
         "Pune Warriors",
         "https://cricsheet.org/downloads/pune_warriors_json.zip"
        ],
        [
         "Punjab",
         "https://cricsheet.org/downloads/punjab_json.zip"
        ],
        [
         "Punjab Kings",
         "https://cricsheet.org/downloads/punjab_kings_json.zip"
        ],
        [
         "Queensland",
         "https://cricsheet.org/downloads/queensland_json.zip"
        ],
        [
         "Quetta Gladiators",
         "https://cricsheet.org/downloads/quetta_gladiators_json.zip"
        ],
        [
         "Railways",
         "https://cricsheet.org/downloads/railways_json.zip"
        ],
        [
         "Rajasthan",
         "https://cricsheet.org/downloads/rajasthan_json.zip"
        ],
        [
         "Rajasthan Royals",
         "https://cricsheet.org/downloads/rajasthan_royals_json.zip"
        ],
        [
         "Rajshahi Kings",
         "https://cricsheet.org/downloads/rajshahi_kings_json.zip"
        ],
        [
         "Rajshahi Royals",
         "https://cricsheet.org/downloads/rajshahi_royals_json.zip"
        ],
        [
         "Rangpur Rangers",
         "https://cricsheet.org/downloads/rangpur_rangers_json.zip"
        ],
        [
         "Rangpur Riders",
         "https://cricsheet.org/downloads/rangpur_riders_json.zip"
        ],
        [
         "Rising Pune Supergiant",
         "https://cricsheet.org/downloads/rising_pune_supergiant_json.zip"
        ],
        [
         "Rising Pune Supergiants",
         "https://cricsheet.org/downloads/rising_pune_supergiants_json.zip"
        ],
        [
         "Royal Challengers Bangalore",
         "https://cricsheet.org/downloads/royal_challengers_bangalore_json.zip"
        ],
        [
         "Royal Challengers Bengaluru",
         "https://cricsheet.org/downloads/royal_challengers_bengaluru_json.zip"
        ],
        [
         "San Francisco Unicorns",
         "https://cricsheet.org/downloads/san_francisco_unicorns_json.zip"
        ],
        [
         "Sapphires",
         "https://cricsheet.org/downloads/sapphires_json.zip"
        ],
        [
         "Saurashtra",
         "https://cricsheet.org/downloads/saurashtra_json.zip"
        ],
        [
         "Seattle Orcas",
         "https://cricsheet.org/downloads/seattle_orcas_json.zip"
        ],
        [
         "Services",
         "https://cricsheet.org/downloads/services_json.zip"
        ],
        [
         "Sharjah Warriors",
         "https://cricsheet.org/downloads/sharjah_warriors_json.zip"
        ],
        [
         "Sikkim",
         "https://cricsheet.org/downloads/sikkim_json.zip"
        ],
        [
         "Somerset",
         "https://cricsheet.org/downloads/somerset_json.zip"
        ],
        [
         "South Australia",
         "https://cricsheet.org/downloads/south_australia_json.zip"
        ],
        [
         "South East Stars",
         "https://cricsheet.org/downloads/south_east_stars_json.zip"
        ],
        [
         "Southern Brave",
         "https://cricsheet.org/downloads/southern_brave_json.zip"
        ],
        [
         "Southern Vipers",
         "https://cricsheet.org/downloads/southern_vipers_json.zip"
        ],
        [
         "Spirit",
         "https://cricsheet.org/downloads/spirit_json.zip"
        ],
        [
         "St Kitts and Nevis Patriots",
         "https://cricsheet.org/downloads/st_kitts_and_nevis_patriots_json.zip"
        ],
        [
         "St Lucia Kings",
         "https://cricsheet.org/downloads/st_lucia_kings_json.zip"
        ],
        [
         "St Lucia Stars",
         "https://cricsheet.org/downloads/st_lucia_stars_json.zip"
        ],
        [
         "St Lucia Zouks",
         "https://cricsheet.org/downloads/st_lucia_zouks_json.zip"
        ],
        [
         "Sudur Paschim Royals",
         "https://cricsheet.org/downloads/sudur_paschim_royals_json.zip"
        ],
        [
         "Sunrisers",
         "https://cricsheet.org/downloads/sunrisers_json.zip"
        ],
        [
         "Sunrisers Eastern Cape",
         "https://cricsheet.org/downloads/sunrisers_eastern_cape_json.zip"
        ],
        [
         "Sunrisers Hyderabad",
         "https://cricsheet.org/downloads/sunrisers_hyderabad_json.zip"
        ],
        [
         "Supernovas",
         "https://cricsheet.org/downloads/supernovas_json.zip"
        ],
        [
         "Surrey",
         "https://cricsheet.org/downloads/surrey_json.zip"
        ],
        [
         "Surrey Stars",
         "https://cricsheet.org/downloads/surrey_stars_json.zip"
        ],
        [
         "Sussex",
         "https://cricsheet.org/downloads/sussex_json.zip"
        ],
        [
         "Sydney Sixers",
         "https://cricsheet.org/downloads/sydney_sixers_json.zip"
        ],
        [
         "Sydney Thunder",
         "https://cricsheet.org/downloads/sydney_thunder_json.zip"
        ],
        [
         "Sylhet Royals",
         "https://cricsheet.org/downloads/sylhet_royals_json.zip"
        ],
        [
         "Sylhet Sixers",
         "https://cricsheet.org/downloads/sylhet_sixers_json.zip"
        ],
        [
         "Sylhet Strikers",
         "https://cricsheet.org/downloads/sylhet_strikers_json.zip"
        ],
        [
         "Sylhet Sunrisers",
         "https://cricsheet.org/downloads/sylhet_sunrisers_json.zip"
        ],
        [
         "Sylhet Super Stars",
         "https://cricsheet.org/downloads/sylhet_super_stars_json.zip"
        ],
        [
         "Sylhet Thunder",
         "https://cricsheet.org/downloads/sylhet_thunder_json.zip"
        ],
        [
         "Tamil Nadu",
         "https://cricsheet.org/downloads/tamil_nadu_json.zip"
        ],
        [
         "Tasmania",
         "https://cricsheet.org/downloads/tasmania_json.zip"
        ],
        [
         "Texas Super Kings",
         "https://cricsheet.org/downloads/texas_super_kings_json.zip"
        ],
        [
         "The Blaze",
         "https://cricsheet.org/downloads/the_blaze_json.zip"
        ],
        [
         "Thunder",
         "https://cricsheet.org/downloads/thunder_json.zip"
        ],
        [
         "Titans",
         "https://cricsheet.org/downloads/titans_json.zip"
        ],
        [
         "Tornadoes",
         "https://cricsheet.org/downloads/tornadoes_json.zip"
        ],
        [
         "Trailblazers",
         "https://cricsheet.org/downloads/trailblazers_json.zip"
        ],
        [
         "Trent Rockets",
         "https://cricsheet.org/downloads/trent_rockets_json.zip"
        ],
        [
         "Trinbago Knight Riders",
         "https://cricsheet.org/downloads/trinbago_knight_riders_json.zip"
        ],
        [
         "Trinidad & Tobago Red Steel",
         "https://cricsheet.org/downloads/trinidad_&_tobago_red_steel_json.zip"
        ],
        [
         "Trinidad and Tobago",
         "https://cricsheet.org/downloads/trinidad_and_tobago_json.zip"
        ],
        [
         "Tripura",
         "https://cricsheet.org/downloads/tripura_json.zip"
        ],
        [
         "Tshwane Spartans",
         "https://cricsheet.org/downloads/tshwane_spartans_json.zip"
        ],
        [
         "UP Warriorz",
         "https://cricsheet.org/downloads/up_warriorz_json.zip"
        ],
        [
         "Uttar Pradesh",
         "https://cricsheet.org/downloads/uttar_pradesh_json.zip"
        ],
        [
         "Uttarakhand",
         "https://cricsheet.org/downloads/uttarakhand_json.zip"
        ],
        [
         "Velocity",
         "https://cricsheet.org/downloads/velocity_json.zip"
        ],
        [
         "Victoria",
         "https://cricsheet.org/downloads/victoria_json.zip"
        ],
        [
         "Vidarbha",
         "https://cricsheet.org/downloads/vidarbha_json.zip"
        ],
        [
         "Warriors",
         "https://cricsheet.org/downloads/warriors_json.zip"
        ],
        [
         "Warriors (FairBreak)",
         "https://cricsheet.org/downloads/warriors_%28fairbreak%29_json.zip"
        ],
        [
         "Warwickshire",
         "https://cricsheet.org/downloads/warwickshire_json.zip"
        ],
        [
         "Washington Freedom",
         "https://cricsheet.org/downloads/washington_freedom_json.zip"
        ],
        [
         "Wellington",
         "https://cricsheet.org/downloads/wellington_json.zip"
        ],
        [
         "Wellington Firebirds",
         "https://cricsheet.org/downloads/wellington_firebirds_json.zip"
        ],
        [
         "Welsh Fire",
         "https://cricsheet.org/downloads/welsh_fire_json.zip"
        ],
        [
         "Western Australia",
         "https://cricsheet.org/downloads/western_australia_json.zip"
        ],
        [
         "Western Province",
         "https://cricsheet.org/downloads/western_province_json.zip"
        ],
        [
         "Western Storm",
         "https://cricsheet.org/downloads/western_storm_json.zip"
        ],
        [
         "Windward Islands",
         "https://cricsheet.org/downloads/windward_islands_json.zip"
        ],
        [
         "Worcestershire",
         "https://cricsheet.org/downloads/worcestershire_json.zip"
        ],
        [
         "Yorkshire",
         "https://cricsheet.org/downloads/yorkshire_json.zip"
        ],
        [
         "Yorkshire Diamonds",
         "https://cricsheet.org/downloads/yorkshire_diamonds_json.zip"
        ],
        [
         "Africa XI",
         "https://cricsheet.org/downloads/africa_xi_json.zip"
        ],
        [
         "Asia XI",
         "https://cricsheet.org/downloads/asia_xi_json.zip"
        ],
        [
         "ICC World XI",
         "https://cricsheet.org/downloads/icc_world_xi_json.zip"
        ]
       ],
       "datasetInfos": [],
       "dbfsResultPath": null,
       "isJsonSchema": true,
       "metadata": {},
       "overflow": false,
       "plotOptions": {
        "customPlotOptions": {},
        "displayType": "table",
        "pivotAggregation": null,
        "pivotColumns": null,
        "xColumns": null,
        "yColumns": null
       },
       "removedWidgets": [],
       "schema": [
        {
         "metadata": "{}",
         "name": "Event/Country Name",
         "type": "\"string\""
        },
        {
         "metadata": "{}",
         "name": "Links",
         "type": "\"string\""
        }
       ],
       "type": "table"
      }
     },
     "output_type": "display_data"
    }
   ],
   "source": [
    "get_file_names_and_links()"
   ]
  },
  {
   "cell_type": "code",
   "execution_count": 0,
   "metadata": {
    "application/vnd.databricks.v1+cell": {
     "cellMetadata": {},
     "inputWidgets": {},
     "nuid": "44677356-cc2e-4160-ba2f-085feb9a6ed8",
     "showTitle": false,
     "tableResultSettingsMap": {},
     "title": ""
    }
   },
   "outputs": [],
   "source": []
  }
 ],
 "metadata": {
  "application/vnd.databricks.v1+notebook": {
   "computePreferences": null,
   "dashboards": [],
   "environmentMetadata": {
    "base_environment": "",
    "client": "1"
   },
   "language": "python",
   "notebookMetadata": {
    "pythonIndentUnit": 4
   },
   "notebookName": "Get Data From Website",
   "widgets": {}
  },
  "language_info": {
   "name": "python"
  }
 },
 "nbformat": 4,
 "nbformat_minor": 0
}
